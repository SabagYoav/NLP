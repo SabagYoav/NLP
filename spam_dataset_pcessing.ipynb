{
  "cells": [
    {
      "cell_type": "markdown",
      "metadata": {
        "id": "view-in-github",
        "colab_type": "text"
      },
      "source": [
        "<a href=\"https://colab.research.google.com/github/Yoavvvvvv/NLP/blob/main/spam_dataset_pcessing.ipynb\" target=\"_parent\"><img src=\"https://colab.research.google.com/assets/colab-badge.svg\" alt=\"Open In Colab\"/></a>"
      ]
    },
    {
      "cell_type": "markdown",
      "metadata": {
        "id": "loLDO4pAR9as"
      },
      "source": [
        "## 2) Install the following libraries: pytorch, NLTK, spaCy"
      ]
    },
    {
      "cell_type": "code",
      "execution_count": null,
      "metadata": {
        "id": "oNdHGUl6KFdJ"
      },
      "outputs": [],
      "source": [
        "#!pip install torch torchvision -U #torch library instalation"
      ]
    },
    {
      "cell_type": "code",
      "execution_count": null,
      "metadata": {
        "id": "MYBSBCP5K2eU"
      },
      "outputs": [],
      "source": [
        "#pip install nltk #nltk library instalation"
      ]
    },
    {
      "cell_type": "code",
      "execution_count": null,
      "metadata": {
        "id": "RmGJNh-zLNw_"
      },
      "outputs": [],
      "source": [
        "#!pip install --upgrade spacy #spacy library instalation"
      ]
    },
    {
      "cell_type": "code",
      "execution_count": null,
      "metadata": {
        "id": "cxiDY1ZtKvh_"
      },
      "outputs": [],
      "source": [
        "#import libraries\n",
        "import torch\n",
        "import spacy\n",
        "import pandas as pd\n",
        "import nltk\n",
        "import matplotlib.pyplot as plt"
      ]
    },
    {
      "cell_type": "code",
      "execution_count": null,
      "metadata": {
        "colab": {
          "base_uri": "https://localhost:8080/"
        },
        "id": "epYDy0ExKxwI",
        "outputId": "689ede91-3d83-4a56-a36e-e9d555eccb20"
      },
      "outputs": [
        {
          "output_type": "stream",
          "name": "stdout",
          "text": [
            "2.1.0+cu121\n"
          ]
        }
      ],
      "source": [
        "print(torch.__version__) #print the version of torch library"
      ]
    },
    {
      "cell_type": "markdown",
      "metadata": {
        "id": "Kbv0EAjCSEaK"
      },
      "source": [
        "## 3) Write a program that loads the file spam.csv (source: KAGGLE)\n"
      ]
    },
    {
      "cell_type": "code",
      "execution_count": null,
      "metadata": {
        "id": "dwOtUthLLvOM"
      },
      "outputs": [],
      "source": [
        "df = pd.read_csv('/content/spam.csv', encoding='ISO-8859-1') #reading the file spam"
      ]
    },
    {
      "cell_type": "code",
      "execution_count": null,
      "metadata": {
        "colab": {
          "base_uri": "https://localhost:8080/",
          "height": 206
        },
        "id": "ew_O9W6cNlIl",
        "outputId": "81612aa6-7338-4d23-afe4-ce631362f7c5"
      },
      "outputs": [
        {
          "output_type": "execute_result",
          "data": {
            "text/plain": [
              "     v1                                                 v2 Unnamed: 2  \\\n",
              "0   ham  Go until jurong point, crazy.. Available only ...        NaN   \n",
              "1   ham                      Ok lar... Joking wif u oni...        NaN   \n",
              "2  spam  Free entry in 2 a wkly comp to win FA Cup fina...        NaN   \n",
              "3   ham  U dun say so early hor... U c already then say...        NaN   \n",
              "4   ham  Nah I don't think he goes to usf, he lives aro...        NaN   \n",
              "\n",
              "  Unnamed: 3 Unnamed: 4  \n",
              "0        NaN        NaN  \n",
              "1        NaN        NaN  \n",
              "2        NaN        NaN  \n",
              "3        NaN        NaN  \n",
              "4        NaN        NaN  "
            ],
            "text/html": [
              "\n",
              "  <div id=\"df-66c60371-ce60-4869-b72e-6865404848b4\" class=\"colab-df-container\">\n",
              "    <div>\n",
              "<style scoped>\n",
              "    .dataframe tbody tr th:only-of-type {\n",
              "        vertical-align: middle;\n",
              "    }\n",
              "\n",
              "    .dataframe tbody tr th {\n",
              "        vertical-align: top;\n",
              "    }\n",
              "\n",
              "    .dataframe thead th {\n",
              "        text-align: right;\n",
              "    }\n",
              "</style>\n",
              "<table border=\"1\" class=\"dataframe\">\n",
              "  <thead>\n",
              "    <tr style=\"text-align: right;\">\n",
              "      <th></th>\n",
              "      <th>v1</th>\n",
              "      <th>v2</th>\n",
              "      <th>Unnamed: 2</th>\n",
              "      <th>Unnamed: 3</th>\n",
              "      <th>Unnamed: 4</th>\n",
              "    </tr>\n",
              "  </thead>\n",
              "  <tbody>\n",
              "    <tr>\n",
              "      <th>0</th>\n",
              "      <td>ham</td>\n",
              "      <td>Go until jurong point, crazy.. Available only ...</td>\n",
              "      <td>NaN</td>\n",
              "      <td>NaN</td>\n",
              "      <td>NaN</td>\n",
              "    </tr>\n",
              "    <tr>\n",
              "      <th>1</th>\n",
              "      <td>ham</td>\n",
              "      <td>Ok lar... Joking wif u oni...</td>\n",
              "      <td>NaN</td>\n",
              "      <td>NaN</td>\n",
              "      <td>NaN</td>\n",
              "    </tr>\n",
              "    <tr>\n",
              "      <th>2</th>\n",
              "      <td>spam</td>\n",
              "      <td>Free entry in 2 a wkly comp to win FA Cup fina...</td>\n",
              "      <td>NaN</td>\n",
              "      <td>NaN</td>\n",
              "      <td>NaN</td>\n",
              "    </tr>\n",
              "    <tr>\n",
              "      <th>3</th>\n",
              "      <td>ham</td>\n",
              "      <td>U dun say so early hor... U c already then say...</td>\n",
              "      <td>NaN</td>\n",
              "      <td>NaN</td>\n",
              "      <td>NaN</td>\n",
              "    </tr>\n",
              "    <tr>\n",
              "      <th>4</th>\n",
              "      <td>ham</td>\n",
              "      <td>Nah I don't think he goes to usf, he lives aro...</td>\n",
              "      <td>NaN</td>\n",
              "      <td>NaN</td>\n",
              "      <td>NaN</td>\n",
              "    </tr>\n",
              "  </tbody>\n",
              "</table>\n",
              "</div>\n",
              "    <div class=\"colab-df-buttons\">\n",
              "\n",
              "  <div class=\"colab-df-container\">\n",
              "    <button class=\"colab-df-convert\" onclick=\"convertToInteractive('df-66c60371-ce60-4869-b72e-6865404848b4')\"\n",
              "            title=\"Convert this dataframe to an interactive table.\"\n",
              "            style=\"display:none;\">\n",
              "\n",
              "  <svg xmlns=\"http://www.w3.org/2000/svg\" height=\"24px\" viewBox=\"0 -960 960 960\">\n",
              "    <path d=\"M120-120v-720h720v720H120Zm60-500h600v-160H180v160Zm220 220h160v-160H400v160Zm0 220h160v-160H400v160ZM180-400h160v-160H180v160Zm440 0h160v-160H620v160ZM180-180h160v-160H180v160Zm440 0h160v-160H620v160Z\"/>\n",
              "  </svg>\n",
              "    </button>\n",
              "\n",
              "  <style>\n",
              "    .colab-df-container {\n",
              "      display:flex;\n",
              "      gap: 12px;\n",
              "    }\n",
              "\n",
              "    .colab-df-convert {\n",
              "      background-color: #E8F0FE;\n",
              "      border: none;\n",
              "      border-radius: 50%;\n",
              "      cursor: pointer;\n",
              "      display: none;\n",
              "      fill: #1967D2;\n",
              "      height: 32px;\n",
              "      padding: 0 0 0 0;\n",
              "      width: 32px;\n",
              "    }\n",
              "\n",
              "    .colab-df-convert:hover {\n",
              "      background-color: #E2EBFA;\n",
              "      box-shadow: 0px 1px 2px rgba(60, 64, 67, 0.3), 0px 1px 3px 1px rgba(60, 64, 67, 0.15);\n",
              "      fill: #174EA6;\n",
              "    }\n",
              "\n",
              "    .colab-df-buttons div {\n",
              "      margin-bottom: 4px;\n",
              "    }\n",
              "\n",
              "    [theme=dark] .colab-df-convert {\n",
              "      background-color: #3B4455;\n",
              "      fill: #D2E3FC;\n",
              "    }\n",
              "\n",
              "    [theme=dark] .colab-df-convert:hover {\n",
              "      background-color: #434B5C;\n",
              "      box-shadow: 0px 1px 3px 1px rgba(0, 0, 0, 0.15);\n",
              "      filter: drop-shadow(0px 1px 2px rgba(0, 0, 0, 0.3));\n",
              "      fill: #FFFFFF;\n",
              "    }\n",
              "  </style>\n",
              "\n",
              "    <script>\n",
              "      const buttonEl =\n",
              "        document.querySelector('#df-66c60371-ce60-4869-b72e-6865404848b4 button.colab-df-convert');\n",
              "      buttonEl.style.display =\n",
              "        google.colab.kernel.accessAllowed ? 'block' : 'none';\n",
              "\n",
              "      async function convertToInteractive(key) {\n",
              "        const element = document.querySelector('#df-66c60371-ce60-4869-b72e-6865404848b4');\n",
              "        const dataTable =\n",
              "          await google.colab.kernel.invokeFunction('convertToInteractive',\n",
              "                                                    [key], {});\n",
              "        if (!dataTable) return;\n",
              "\n",
              "        const docLinkHtml = 'Like what you see? Visit the ' +\n",
              "          '<a target=\"_blank\" href=https://colab.research.google.com/notebooks/data_table.ipynb>data table notebook</a>'\n",
              "          + ' to learn more about interactive tables.';\n",
              "        element.innerHTML = '';\n",
              "        dataTable['output_type'] = 'display_data';\n",
              "        await google.colab.output.renderOutput(dataTable, element);\n",
              "        const docLink = document.createElement('div');\n",
              "        docLink.innerHTML = docLinkHtml;\n",
              "        element.appendChild(docLink);\n",
              "      }\n",
              "    </script>\n",
              "  </div>\n",
              "\n",
              "\n",
              "<div id=\"df-c2325d46-e95f-4eb1-bcea-4282a5acdd9d\">\n",
              "  <button class=\"colab-df-quickchart\" onclick=\"quickchart('df-c2325d46-e95f-4eb1-bcea-4282a5acdd9d')\"\n",
              "            title=\"Suggest charts\"\n",
              "            style=\"display:none;\">\n",
              "\n",
              "<svg xmlns=\"http://www.w3.org/2000/svg\" height=\"24px\"viewBox=\"0 0 24 24\"\n",
              "     width=\"24px\">\n",
              "    <g>\n",
              "        <path d=\"M19 3H5c-1.1 0-2 .9-2 2v14c0 1.1.9 2 2 2h14c1.1 0 2-.9 2-2V5c0-1.1-.9-2-2-2zM9 17H7v-7h2v7zm4 0h-2V7h2v10zm4 0h-2v-4h2v4z\"/>\n",
              "    </g>\n",
              "</svg>\n",
              "  </button>\n",
              "\n",
              "<style>\n",
              "  .colab-df-quickchart {\n",
              "      --bg-color: #E8F0FE;\n",
              "      --fill-color: #1967D2;\n",
              "      --hover-bg-color: #E2EBFA;\n",
              "      --hover-fill-color: #174EA6;\n",
              "      --disabled-fill-color: #AAA;\n",
              "      --disabled-bg-color: #DDD;\n",
              "  }\n",
              "\n",
              "  [theme=dark] .colab-df-quickchart {\n",
              "      --bg-color: #3B4455;\n",
              "      --fill-color: #D2E3FC;\n",
              "      --hover-bg-color: #434B5C;\n",
              "      --hover-fill-color: #FFFFFF;\n",
              "      --disabled-bg-color: #3B4455;\n",
              "      --disabled-fill-color: #666;\n",
              "  }\n",
              "\n",
              "  .colab-df-quickchart {\n",
              "    background-color: var(--bg-color);\n",
              "    border: none;\n",
              "    border-radius: 50%;\n",
              "    cursor: pointer;\n",
              "    display: none;\n",
              "    fill: var(--fill-color);\n",
              "    height: 32px;\n",
              "    padding: 0;\n",
              "    width: 32px;\n",
              "  }\n",
              "\n",
              "  .colab-df-quickchart:hover {\n",
              "    background-color: var(--hover-bg-color);\n",
              "    box-shadow: 0 1px 2px rgba(60, 64, 67, 0.3), 0 1px 3px 1px rgba(60, 64, 67, 0.15);\n",
              "    fill: var(--button-hover-fill-color);\n",
              "  }\n",
              "\n",
              "  .colab-df-quickchart-complete:disabled,\n",
              "  .colab-df-quickchart-complete:disabled:hover {\n",
              "    background-color: var(--disabled-bg-color);\n",
              "    fill: var(--disabled-fill-color);\n",
              "    box-shadow: none;\n",
              "  }\n",
              "\n",
              "  .colab-df-spinner {\n",
              "    border: 2px solid var(--fill-color);\n",
              "    border-color: transparent;\n",
              "    border-bottom-color: var(--fill-color);\n",
              "    animation:\n",
              "      spin 1s steps(1) infinite;\n",
              "  }\n",
              "\n",
              "  @keyframes spin {\n",
              "    0% {\n",
              "      border-color: transparent;\n",
              "      border-bottom-color: var(--fill-color);\n",
              "      border-left-color: var(--fill-color);\n",
              "    }\n",
              "    20% {\n",
              "      border-color: transparent;\n",
              "      border-left-color: var(--fill-color);\n",
              "      border-top-color: var(--fill-color);\n",
              "    }\n",
              "    30% {\n",
              "      border-color: transparent;\n",
              "      border-left-color: var(--fill-color);\n",
              "      border-top-color: var(--fill-color);\n",
              "      border-right-color: var(--fill-color);\n",
              "    }\n",
              "    40% {\n",
              "      border-color: transparent;\n",
              "      border-right-color: var(--fill-color);\n",
              "      border-top-color: var(--fill-color);\n",
              "    }\n",
              "    60% {\n",
              "      border-color: transparent;\n",
              "      border-right-color: var(--fill-color);\n",
              "    }\n",
              "    80% {\n",
              "      border-color: transparent;\n",
              "      border-right-color: var(--fill-color);\n",
              "      border-bottom-color: var(--fill-color);\n",
              "    }\n",
              "    90% {\n",
              "      border-color: transparent;\n",
              "      border-bottom-color: var(--fill-color);\n",
              "    }\n",
              "  }\n",
              "</style>\n",
              "\n",
              "  <script>\n",
              "    async function quickchart(key) {\n",
              "      const quickchartButtonEl =\n",
              "        document.querySelector('#' + key + ' button');\n",
              "      quickchartButtonEl.disabled = true;  // To prevent multiple clicks.\n",
              "      quickchartButtonEl.classList.add('colab-df-spinner');\n",
              "      try {\n",
              "        const charts = await google.colab.kernel.invokeFunction(\n",
              "            'suggestCharts', [key], {});\n",
              "      } catch (error) {\n",
              "        console.error('Error during call to suggestCharts:', error);\n",
              "      }\n",
              "      quickchartButtonEl.classList.remove('colab-df-spinner');\n",
              "      quickchartButtonEl.classList.add('colab-df-quickchart-complete');\n",
              "    }\n",
              "    (() => {\n",
              "      let quickchartButtonEl =\n",
              "        document.querySelector('#df-c2325d46-e95f-4eb1-bcea-4282a5acdd9d button');\n",
              "      quickchartButtonEl.style.display =\n",
              "        google.colab.kernel.accessAllowed ? 'block' : 'none';\n",
              "    })();\n",
              "  </script>\n",
              "</div>\n",
              "\n",
              "    </div>\n",
              "  </div>\n"
            ],
            "application/vnd.google.colaboratory.intrinsic+json": {
              "type": "dataframe",
              "variable_name": "df",
              "summary": "{\n  \"name\": \"df\",\n  \"rows\": 5572,\n  \"fields\": [\n    {\n      \"column\": \"v1\",\n      \"properties\": {\n        \"dtype\": \"category\",\n        \"num_unique_values\": 2,\n        \"samples\": [\n          \"spam\",\n          \"ham\"\n        ],\n        \"semantic_type\": \"\",\n        \"description\": \"\"\n      }\n    },\n    {\n      \"column\": \"v2\",\n      \"properties\": {\n        \"dtype\": \"string\",\n        \"num_unique_values\": 5169,\n        \"samples\": [\n          \"Did u download the fring app?\",\n          \"Pass dis to all ur contacts n see wat u get! Red;i'm in luv wid u. Blue;u put a smile on my face. Purple;u r realy hot. Pink;u r so swt. Orange;i thnk i lyk u. Green;i realy wana go out wid u. Yelow;i wnt u bck. Black;i'm jealous of u. Brown;i miss you Nw plz giv me one color\"\n        ],\n        \"semantic_type\": \"\",\n        \"description\": \"\"\n      }\n    },\n    {\n      \"column\": \"Unnamed: 2\",\n      \"properties\": {\n        \"dtype\": \"category\",\n        \"num_unique_values\": 43,\n        \"samples\": [\n          \" GOD said\",\n          \" SHE SHUDVETOLD U. DID URGRAN KNOW?NEWAY\"\n        ],\n        \"semantic_type\": \"\",\n        \"description\": \"\"\n      }\n    },\n    {\n      \"column\": \"Unnamed: 3\",\n      \"properties\": {\n        \"dtype\": \"category\",\n        \"num_unique_values\": 10,\n        \"samples\": [\n          \" \\\\\\\"OH No! COMPETITION\\\\\\\". Who knew\",\n          \" why to miss them\"\n        ],\n        \"semantic_type\": \"\",\n        \"description\": \"\"\n      }\n    },\n    {\n      \"column\": \"Unnamed: 4\",\n      \"properties\": {\n        \"dtype\": \"category\",\n        \"num_unique_values\": 5,\n        \"samples\": [\n          \"GNT:-)\\\"\",\n          \" one day these two will become FREINDS FOREVER!\\\"\"\n        ],\n        \"semantic_type\": \"\",\n        \"description\": \"\"\n      }\n    }\n  ]\n}"
            }
          },
          "metadata": {},
          "execution_count": 263
        }
      ],
      "source": [
        "df.head() #printing the dataset for visulization"
      ]
    },
    {
      "cell_type": "code",
      "execution_count": null,
      "metadata": {
        "id": "Q7pwjsnaP_vf"
      },
      "outputs": [],
      "source": [
        "spam = df.drop(columns = [\"Unnamed: 2\",\"Unnamed: 3\", \"Unnamed: 4\"]) #Cleaning the data by droping the garbage cols"
      ]
    },
    {
      "cell_type": "code",
      "execution_count": null,
      "metadata": {
        "id": "l4EeIzqnWpTd"
      },
      "outputs": [],
      "source": [
        "spam = spam.rename(columns={\"v1\" : \"label\", \"v2\" : \"msg\"}) #renaming the cols for comptability"
      ]
    },
    {
      "cell_type": "code",
      "execution_count": null,
      "metadata": {
        "colab": {
          "base_uri": "https://localhost:8080/",
          "height": 206
        },
        "id": "yvZh2HiBQzH1",
        "outputId": "78270a87-c4f0-4358-cf4e-7d192006fd9e"
      },
      "outputs": [
        {
          "output_type": "execute_result",
          "data": {
            "text/plain": [
              "  label                                                msg\n",
              "0   ham  Go until jurong point, crazy.. Available only ...\n",
              "1   ham                      Ok lar... Joking wif u oni...\n",
              "2  spam  Free entry in 2 a wkly comp to win FA Cup fina...\n",
              "3   ham  U dun say so early hor... U c already then say...\n",
              "4   ham  Nah I don't think he goes to usf, he lives aro..."
            ],
            "text/html": [
              "\n",
              "  <div id=\"df-a63332b1-d810-4476-a7de-4a45b619be29\" class=\"colab-df-container\">\n",
              "    <div>\n",
              "<style scoped>\n",
              "    .dataframe tbody tr th:only-of-type {\n",
              "        vertical-align: middle;\n",
              "    }\n",
              "\n",
              "    .dataframe tbody tr th {\n",
              "        vertical-align: top;\n",
              "    }\n",
              "\n",
              "    .dataframe thead th {\n",
              "        text-align: right;\n",
              "    }\n",
              "</style>\n",
              "<table border=\"1\" class=\"dataframe\">\n",
              "  <thead>\n",
              "    <tr style=\"text-align: right;\">\n",
              "      <th></th>\n",
              "      <th>label</th>\n",
              "      <th>msg</th>\n",
              "    </tr>\n",
              "  </thead>\n",
              "  <tbody>\n",
              "    <tr>\n",
              "      <th>0</th>\n",
              "      <td>ham</td>\n",
              "      <td>Go until jurong point, crazy.. Available only ...</td>\n",
              "    </tr>\n",
              "    <tr>\n",
              "      <th>1</th>\n",
              "      <td>ham</td>\n",
              "      <td>Ok lar... Joking wif u oni...</td>\n",
              "    </tr>\n",
              "    <tr>\n",
              "      <th>2</th>\n",
              "      <td>spam</td>\n",
              "      <td>Free entry in 2 a wkly comp to win FA Cup fina...</td>\n",
              "    </tr>\n",
              "    <tr>\n",
              "      <th>3</th>\n",
              "      <td>ham</td>\n",
              "      <td>U dun say so early hor... U c already then say...</td>\n",
              "    </tr>\n",
              "    <tr>\n",
              "      <th>4</th>\n",
              "      <td>ham</td>\n",
              "      <td>Nah I don't think he goes to usf, he lives aro...</td>\n",
              "    </tr>\n",
              "  </tbody>\n",
              "</table>\n",
              "</div>\n",
              "    <div class=\"colab-df-buttons\">\n",
              "\n",
              "  <div class=\"colab-df-container\">\n",
              "    <button class=\"colab-df-convert\" onclick=\"convertToInteractive('df-a63332b1-d810-4476-a7de-4a45b619be29')\"\n",
              "            title=\"Convert this dataframe to an interactive table.\"\n",
              "            style=\"display:none;\">\n",
              "\n",
              "  <svg xmlns=\"http://www.w3.org/2000/svg\" height=\"24px\" viewBox=\"0 -960 960 960\">\n",
              "    <path d=\"M120-120v-720h720v720H120Zm60-500h600v-160H180v160Zm220 220h160v-160H400v160Zm0 220h160v-160H400v160ZM180-400h160v-160H180v160Zm440 0h160v-160H620v160ZM180-180h160v-160H180v160Zm440 0h160v-160H620v160Z\"/>\n",
              "  </svg>\n",
              "    </button>\n",
              "\n",
              "  <style>\n",
              "    .colab-df-container {\n",
              "      display:flex;\n",
              "      gap: 12px;\n",
              "    }\n",
              "\n",
              "    .colab-df-convert {\n",
              "      background-color: #E8F0FE;\n",
              "      border: none;\n",
              "      border-radius: 50%;\n",
              "      cursor: pointer;\n",
              "      display: none;\n",
              "      fill: #1967D2;\n",
              "      height: 32px;\n",
              "      padding: 0 0 0 0;\n",
              "      width: 32px;\n",
              "    }\n",
              "\n",
              "    .colab-df-convert:hover {\n",
              "      background-color: #E2EBFA;\n",
              "      box-shadow: 0px 1px 2px rgba(60, 64, 67, 0.3), 0px 1px 3px 1px rgba(60, 64, 67, 0.15);\n",
              "      fill: #174EA6;\n",
              "    }\n",
              "\n",
              "    .colab-df-buttons div {\n",
              "      margin-bottom: 4px;\n",
              "    }\n",
              "\n",
              "    [theme=dark] .colab-df-convert {\n",
              "      background-color: #3B4455;\n",
              "      fill: #D2E3FC;\n",
              "    }\n",
              "\n",
              "    [theme=dark] .colab-df-convert:hover {\n",
              "      background-color: #434B5C;\n",
              "      box-shadow: 0px 1px 3px 1px rgba(0, 0, 0, 0.15);\n",
              "      filter: drop-shadow(0px 1px 2px rgba(0, 0, 0, 0.3));\n",
              "      fill: #FFFFFF;\n",
              "    }\n",
              "  </style>\n",
              "\n",
              "    <script>\n",
              "      const buttonEl =\n",
              "        document.querySelector('#df-a63332b1-d810-4476-a7de-4a45b619be29 button.colab-df-convert');\n",
              "      buttonEl.style.display =\n",
              "        google.colab.kernel.accessAllowed ? 'block' : 'none';\n",
              "\n",
              "      async function convertToInteractive(key) {\n",
              "        const element = document.querySelector('#df-a63332b1-d810-4476-a7de-4a45b619be29');\n",
              "        const dataTable =\n",
              "          await google.colab.kernel.invokeFunction('convertToInteractive',\n",
              "                                                    [key], {});\n",
              "        if (!dataTable) return;\n",
              "\n",
              "        const docLinkHtml = 'Like what you see? Visit the ' +\n",
              "          '<a target=\"_blank\" href=https://colab.research.google.com/notebooks/data_table.ipynb>data table notebook</a>'\n",
              "          + ' to learn more about interactive tables.';\n",
              "        element.innerHTML = '';\n",
              "        dataTable['output_type'] = 'display_data';\n",
              "        await google.colab.output.renderOutput(dataTable, element);\n",
              "        const docLink = document.createElement('div');\n",
              "        docLink.innerHTML = docLinkHtml;\n",
              "        element.appendChild(docLink);\n",
              "      }\n",
              "    </script>\n",
              "  </div>\n",
              "\n",
              "\n",
              "<div id=\"df-1cb5b9f2-152c-44d8-8e57-ee67de53d81f\">\n",
              "  <button class=\"colab-df-quickchart\" onclick=\"quickchart('df-1cb5b9f2-152c-44d8-8e57-ee67de53d81f')\"\n",
              "            title=\"Suggest charts\"\n",
              "            style=\"display:none;\">\n",
              "\n",
              "<svg xmlns=\"http://www.w3.org/2000/svg\" height=\"24px\"viewBox=\"0 0 24 24\"\n",
              "     width=\"24px\">\n",
              "    <g>\n",
              "        <path d=\"M19 3H5c-1.1 0-2 .9-2 2v14c0 1.1.9 2 2 2h14c1.1 0 2-.9 2-2V5c0-1.1-.9-2-2-2zM9 17H7v-7h2v7zm4 0h-2V7h2v10zm4 0h-2v-4h2v4z\"/>\n",
              "    </g>\n",
              "</svg>\n",
              "  </button>\n",
              "\n",
              "<style>\n",
              "  .colab-df-quickchart {\n",
              "      --bg-color: #E8F0FE;\n",
              "      --fill-color: #1967D2;\n",
              "      --hover-bg-color: #E2EBFA;\n",
              "      --hover-fill-color: #174EA6;\n",
              "      --disabled-fill-color: #AAA;\n",
              "      --disabled-bg-color: #DDD;\n",
              "  }\n",
              "\n",
              "  [theme=dark] .colab-df-quickchart {\n",
              "      --bg-color: #3B4455;\n",
              "      --fill-color: #D2E3FC;\n",
              "      --hover-bg-color: #434B5C;\n",
              "      --hover-fill-color: #FFFFFF;\n",
              "      --disabled-bg-color: #3B4455;\n",
              "      --disabled-fill-color: #666;\n",
              "  }\n",
              "\n",
              "  .colab-df-quickchart {\n",
              "    background-color: var(--bg-color);\n",
              "    border: none;\n",
              "    border-radius: 50%;\n",
              "    cursor: pointer;\n",
              "    display: none;\n",
              "    fill: var(--fill-color);\n",
              "    height: 32px;\n",
              "    padding: 0;\n",
              "    width: 32px;\n",
              "  }\n",
              "\n",
              "  .colab-df-quickchart:hover {\n",
              "    background-color: var(--hover-bg-color);\n",
              "    box-shadow: 0 1px 2px rgba(60, 64, 67, 0.3), 0 1px 3px 1px rgba(60, 64, 67, 0.15);\n",
              "    fill: var(--button-hover-fill-color);\n",
              "  }\n",
              "\n",
              "  .colab-df-quickchart-complete:disabled,\n",
              "  .colab-df-quickchart-complete:disabled:hover {\n",
              "    background-color: var(--disabled-bg-color);\n",
              "    fill: var(--disabled-fill-color);\n",
              "    box-shadow: none;\n",
              "  }\n",
              "\n",
              "  .colab-df-spinner {\n",
              "    border: 2px solid var(--fill-color);\n",
              "    border-color: transparent;\n",
              "    border-bottom-color: var(--fill-color);\n",
              "    animation:\n",
              "      spin 1s steps(1) infinite;\n",
              "  }\n",
              "\n",
              "  @keyframes spin {\n",
              "    0% {\n",
              "      border-color: transparent;\n",
              "      border-bottom-color: var(--fill-color);\n",
              "      border-left-color: var(--fill-color);\n",
              "    }\n",
              "    20% {\n",
              "      border-color: transparent;\n",
              "      border-left-color: var(--fill-color);\n",
              "      border-top-color: var(--fill-color);\n",
              "    }\n",
              "    30% {\n",
              "      border-color: transparent;\n",
              "      border-left-color: var(--fill-color);\n",
              "      border-top-color: var(--fill-color);\n",
              "      border-right-color: var(--fill-color);\n",
              "    }\n",
              "    40% {\n",
              "      border-color: transparent;\n",
              "      border-right-color: var(--fill-color);\n",
              "      border-top-color: var(--fill-color);\n",
              "    }\n",
              "    60% {\n",
              "      border-color: transparent;\n",
              "      border-right-color: var(--fill-color);\n",
              "    }\n",
              "    80% {\n",
              "      border-color: transparent;\n",
              "      border-right-color: var(--fill-color);\n",
              "      border-bottom-color: var(--fill-color);\n",
              "    }\n",
              "    90% {\n",
              "      border-color: transparent;\n",
              "      border-bottom-color: var(--fill-color);\n",
              "    }\n",
              "  }\n",
              "</style>\n",
              "\n",
              "  <script>\n",
              "    async function quickchart(key) {\n",
              "      const quickchartButtonEl =\n",
              "        document.querySelector('#' + key + ' button');\n",
              "      quickchartButtonEl.disabled = true;  // To prevent multiple clicks.\n",
              "      quickchartButtonEl.classList.add('colab-df-spinner');\n",
              "      try {\n",
              "        const charts = await google.colab.kernel.invokeFunction(\n",
              "            'suggestCharts', [key], {});\n",
              "      } catch (error) {\n",
              "        console.error('Error during call to suggestCharts:', error);\n",
              "      }\n",
              "      quickchartButtonEl.classList.remove('colab-df-spinner');\n",
              "      quickchartButtonEl.classList.add('colab-df-quickchart-complete');\n",
              "    }\n",
              "    (() => {\n",
              "      let quickchartButtonEl =\n",
              "        document.querySelector('#df-1cb5b9f2-152c-44d8-8e57-ee67de53d81f button');\n",
              "      quickchartButtonEl.style.display =\n",
              "        google.colab.kernel.accessAllowed ? 'block' : 'none';\n",
              "    })();\n",
              "  </script>\n",
              "</div>\n",
              "\n",
              "    </div>\n",
              "  </div>\n"
            ],
            "application/vnd.google.colaboratory.intrinsic+json": {
              "type": "dataframe",
              "variable_name": "spam",
              "summary": "{\n  \"name\": \"spam\",\n  \"rows\": 5572,\n  \"fields\": [\n    {\n      \"column\": \"label\",\n      \"properties\": {\n        \"dtype\": \"category\",\n        \"num_unique_values\": 2,\n        \"samples\": [\n          \"spam\",\n          \"ham\"\n        ],\n        \"semantic_type\": \"\",\n        \"description\": \"\"\n      }\n    },\n    {\n      \"column\": \"msg\",\n      \"properties\": {\n        \"dtype\": \"string\",\n        \"num_unique_values\": 5169,\n        \"samples\": [\n          \"Did u download the fring app?\",\n          \"Pass dis to all ur contacts n see wat u get! Red;i'm in luv wid u. Blue;u put a smile on my face. Purple;u r realy hot. Pink;u r so swt. Orange;i thnk i lyk u. Green;i realy wana go out wid u. Yelow;i wnt u bck. Black;i'm jealous of u. Brown;i miss you Nw plz giv me one color\"\n        ],\n        \"semantic_type\": \"\",\n        \"description\": \"\"\n      }\n    }\n  ]\n}"
            }
          },
          "metadata": {},
          "execution_count": 266
        }
      ],
      "source": [
        "spam.head() #dataset visualization"
      ]
    },
    {
      "cell_type": "markdown",
      "metadata": {
        "id": "nXjoo1YrSJjZ"
      },
      "source": [
        "## 4.) Compute simple statistics on the data: number of SMS message, number of spams, total word count, averaged number of words per message, 5 most frequent words in the file, number of rare words (appear only once in the file)."
      ]
    },
    {
      "cell_type": "code",
      "execution_count": null,
      "metadata": {
        "colab": {
          "base_uri": "https://localhost:8080/"
        },
        "id": "UYGUWRfwe18M",
        "outputId": "03efe946-7353-4d30-c566-8cd73097a8ee"
      },
      "outputs": [
        {
          "output_type": "stream",
          "name": "stderr",
          "text": [
            "[nltk_data] Downloading package punkt to /root/nltk_data...\n",
            "[nltk_data]   Package punkt is already up-to-date!\n"
          ]
        },
        {
          "output_type": "execute_result",
          "data": {
            "text/plain": [
              "True"
            ]
          },
          "metadata": {},
          "execution_count": 267
        }
      ],
      "source": [
        "from collections import Counter\n",
        "from nltk.tokenize import word_tokenize #import word_tokenizer from nltk library\n",
        "nltk.download('punkt')"
      ]
    },
    {
      "cell_type": "code",
      "execution_count": null,
      "metadata": {
        "id": "gKvXL8IiRiYN"
      },
      "outputs": [],
      "source": [
        "numberOfSMS = len(spam) #computes the amount of messages\n",
        "spamCount = spam[spam['label']==\"spam\"].shape[0]  #counting the \"spam\" labeled messages"
      ]
    },
    {
      "cell_type": "code",
      "execution_count": null,
      "metadata": {
        "colab": {
          "base_uri": "https://localhost:8080/"
        },
        "id": "Gdxhbc1tSkIv",
        "outputId": "06c48aeb-e803-4864-971a-882bc560b320"
      },
      "outputs": [
        {
          "output_type": "stream",
          "name": "stdout",
          "text": [
            "number of SMS message :  5572\n",
            "number of spams:  747\n"
          ]
        }
      ],
      "source": [
        "#print assignment requierments\n",
        "print(\"number of SMS message : \", numberOfSMS)\n",
        "print(\"number of spams: \", spamCount)"
      ]
    },
    {
      "cell_type": "code",
      "execution_count": null,
      "metadata": {
        "colab": {
          "base_uri": "https://localhost:8080/"
        },
        "id": "n8wTfZItTq18",
        "outputId": "685388b3-7a6b-4d51-91ec-d206d01915fe"
      },
      "outputs": [
        {
          "output_type": "stream",
          "name": "stdout",
          "text": [
            "total word count : 104193\n",
            "Avg number of words per message : 18.699389806173727\n",
            "\n",
            "The 5 most frequent words are:\n",
            "the  1  most frequent word is: ' . '  with frequency:  4886\n",
            "the  2  most frequent word is: ' to '  with frequency:  2148\n",
            "the  3  most frequent word is: ' I '  with frequency:  1956\n",
            "the  4  most frequent word is: ' you '  with frequency:  1888\n",
            "the  5  most frequent word is: ' , '  with frequency:  1871\n"
          ]
        }
      ],
      "source": [
        "def analize_lst_statistics(msg):\n",
        "  workCount = msg.apply(lambda x: len(nltk.word_tokenize(x))) #counting the words in each message\n",
        "\n",
        "  totalCount = workCount.sum()  #counting the total words\n",
        "  print(\"total word count :\",totalCount)  #printing the total words\n",
        "\n",
        "  meanCount = workCount.mean()  #counting the average words\n",
        "  print(\"Avg number of words per message :\",meanCount)  #printing the average words\n",
        "\n",
        "  tokenizedMsg = msg.apply(word_tokenize) #tokenizing the messages\n",
        "\n",
        "  #flatten the tokens so counter func will work properly\n",
        "  flattenTokens = []\n",
        "  for row in tokenizedMsg:\n",
        "    flattenTokens.extend(row)\n",
        "\n",
        "  #count the most frequent words in the spam ds and print the top 5\n",
        "  print(\"\\nThe 5 most frequent words are:\")\n",
        "  topWordFreq = Counter(flattenTokens).most_common(5)\n",
        "  for ind in range(5):\n",
        "    print(\"the \", ind+1 ,\" most frequent word is: '\", topWordFreq[ind][0], \"'  with frequency: \",topWordFreq[ind][1]  )\n",
        "\n",
        "analize_lst_statistics(spam[\"msg\"]) #extracting the messages from the dataset"
      ]
    },
    {
      "cell_type": "markdown",
      "metadata": {
        "id": "v9aVobPSc26u"
      },
      "source": [
        "comment: '.' count as a token and there for I have counted is a word"
      ]
    },
    {
      "cell_type": "markdown",
      "metadata": {
        "id": "dAfYqNAvlKTn"
      },
      "source": [
        "##5) Perform tokenization twice: by using NLTK library and by Spacy library. Write what is the difference between the results."
      ]
    },
    {
      "cell_type": "code",
      "execution_count": null,
      "metadata": {
        "colab": {
          "base_uri": "https://localhost:8080/"
        },
        "id": "8WJkzOoSjiOF",
        "outputId": "3b365d45-625d-491d-c453-b3d6856fcc99"
      },
      "outputs": [
        {
          "output_type": "stream",
          "name": "stderr",
          "text": [
            "[nltk_data] Downloading package punkt to /root/nltk_data...\n",
            "[nltk_data]   Package punkt is already up-to-date!\n"
          ]
        },
        {
          "output_type": "execute_result",
          "data": {
            "text/plain": [
              "True"
            ]
          },
          "metadata": {},
          "execution_count": 271
        }
      ],
      "source": [
        "#necessary imports for the following mission\n",
        "from itertools import chain\n",
        "from nltk.tokenize import word_tokenize\n",
        "nltk.download('punkt')"
      ]
    },
    {
      "cell_type": "code",
      "execution_count": null,
      "metadata": {
        "colab": {
          "base_uri": "https://localhost:8080/"
        },
        "id": "HQd1Eb6YY8zO",
        "outputId": "43ad1388-8481-4caf-c932-834f51b38799"
      },
      "outputs": [
        {
          "output_type": "stream",
          "name": "stdout",
          "text": [
            "Amount of NLTK tokens is:  104193\n",
            "The amoun of spacy tokens is:  103533\n"
          ]
        }
      ],
      "source": [
        "NLTKtokens = []\n",
        "for msg in spam['msg']:\n",
        "  NLTKtokens.append(word_tokenize(msg))\n",
        "\n",
        "NLTKtokens = list(chain.from_iterable(NLTKtokens))\n",
        "print(\"Amount of NLTK tokens is: \",len(NLTKtokens))\n",
        "\n",
        "nlp = spacy.load(\"en_core_web_sm\")\n",
        "spacyTokens = []\n",
        "tokens = []\n",
        "massages = spam[\"msg\"]\n",
        "\n",
        "for message in massages:\n",
        "  doc = nlp(message)\n",
        "  tokens = [token.text for token in doc]\n",
        "  spacyTokens.append(tokens)\n",
        "\n",
        "spacyTokens = list(chain.from_iterable(spacyTokens))\n",
        "print(\"The amoun of spacy tokens is: \", len(spacyTokens))"
      ]
    },
    {
      "cell_type": "code",
      "execution_count": null,
      "metadata": {
        "colab": {
          "base_uri": "https://localhost:8080/"
        },
        "id": "lX3nYeBOtsL6",
        "outputId": "90842789-af41-407b-d803-f861f5116da5"
      },
      "outputs": [
        {
          "output_type": "stream",
          "name": "stdout",
          "text": [
            "NLTK tokenizer returns  1472  that does not apears in the spacy space of tokens\n",
            "spacy tokenizer returns 2445 that does not apears in the NLTK space of tokens\n"
          ]
        }
      ],
      "source": [
        "#Creating a list of NLTK tokens whos NOT IN spacy tokens\n",
        "NLTKuniqueTokens = []\n",
        "for token in NLTKtokens:\n",
        "  if token not in spacyTokens:\n",
        "    NLTKuniqueTokens.append(token)\n",
        "\n",
        "#creating a list of spacy tokens whos NOT IN NLTK tokens\n",
        "spacyUniqueTokens = []\n",
        "for token in spacyTokens:\n",
        "  if token not in NLTKtokens:\n",
        "    spacyUniqueTokens.append(token)\n",
        "\n",
        "#print the compare of unique values\n",
        "print(\"NLTK tokenizer returns \", len(NLTKuniqueTokens),\" that does not apears in the spacy space of tokens\")\n",
        "print(\"spacy tokenizer returns\", len(spacyUniqueTokens),\"that does not apears in the NLTK space of tokens\")"
      ]
    },
    {
      "cell_type": "code",
      "execution_count": null,
      "metadata": {
        "colab": {
          "base_uri": "https://localhost:8080/"
        },
        "id": "8P8HwfBwG4T0",
        "outputId": "4cad3cfa-f270-41f2-a0bb-7d4775708cde"
      },
      "outputs": [
        {
          "output_type": "stream",
          "name": "stdout",
          "text": [
            "Original messages      : ['Go', 'until', 'jurong', 'point,', 'crazy..', 'Available', 'only', 'in', 'bugis', 'n', 'great', 'world', 'la', 'e', 'buffet...', 'Cine', 'there', 'got', 'amore', 'wat...', 'Ok', 'lar...', 'Joking', 'wif', 'u', 'oni...', 'Free', 'entry', 'in', '2', 'a', 'wkly', 'comp', 'to', 'win', 'FA', 'Cup', 'final', 'tkts', '21st', 'May', '2005.', 'Text', 'FA', 'to', '87121', 'to', 'receive', 'entry', 'question(std', 'txt', \"rate)T&C's\", 'apply', \"08452810075over18's\", 'U', 'dun', 'say', 'so', 'early', 'hor...', 'U', 'c', 'already', 'then', 'say...', 'Nah', 'I', \"don't\", 'think', 'he', 'goes', 'to', 'usf,', 'he', 'lives', 'around', 'here', 'though', 'FreeMsg', 'Hey', 'there', 'darling', \"it's\", 'been', '3', \"week's\", 'now', 'and', 'no', 'word', 'back!', \"I'd\", 'like', 'some', 'fun', 'you', 'up', 'for', 'it', 'still?']\n",
            "NLTK unique tokens are : [\"'Melle\", '150p/day', '16+', 'wont', 'http', '//wap', 'xxxmobilemovieclub.com', 'n=QJKGIGHJJGCBL', 'dont', 'goals/team', '4txt/Ì¼1.20', '16+', 'Ì_', 'å£5/month', 'Ì_', '8am', 'URL', 'bx420-ip4-5we', 'Aco', 'Entry41', '18+6', 'moreFrmMob', 'ShrAcomOrSglSuplt', 'WAN', 'NA', 'Thats', 'kano.', 'Havent', \"'Melle\", '``', '0871277810910p/min', '18+', 'egg-potato', '-apples', 'pairs', 'Ì_', 'dont', '82277.', '31p.msg', 'hotmail.com', 'Ì_', 'Whats', \"'Melle\", '32/F', 'internet/service', 'form', 'clark', 'doesnt', 'dont', '1pm', 'ive', 'DECIMAL', 'DECIMAL', '``', 'DECIMAL', 'Ì_', '087187262701.50gbp/mtmsg18', 'thirtyeight', 'dont', 'U-find', 'reveal', 'special-call', 'dont', 'wont', 'didnt', 'www.Ldew.com1win150ppmx3age16', 'lem', '150p/wk', 'www.100percent-real.com', 'Ge', 'T-Mobile', '28thFeb.T', '21/m', 'http', '//img', 'ac/W/icmb3cktz8r7', '-4', '16+', 'GBP1.50/week', 'dont', 'apo', '150p/msg', 'Ta-Daaaaa', 'havent', 'havent', 'do.Interested', 'day.', 'calling.Forgot', 'Sirji.I', 'person.Meet', 'Allah.Rakhesh', 'www.Ldew.com1win150ppmx3age16', 'cash-balance', 'cash-in', '150p/msg', 'HG/Suite342/2Lands', 'Row/W1J6HL', 'andrews-boy', '-DB-', 'call2optout/F4Q=']\n",
            "unique tokens are      : ['question(std', 'rate)T&C', 'T&C', 'http://wap', 'xxxmobilemovieclub.com?n=QJKGIGHJJGCBL', \"i'm\", ':)', '4txt', 'Ì¼1.20', 'Ì', 'Ì', ' ', 'lt;#&gt', ' ', ' ', 'lt;#&gt', ' ', 'lt;#&gt', '\"', '\"', ' ', 'lt;URL&gt', '\"', '\"', 'Aco&Entry41', '6*å£1.50(moreFrmMob', 'ShrAcomOrSglSuplt)10', '\"', '\"', 'WANNA', 'k:)where', 'you?how', ':)', ' ', 'lt;#&gt', ' ', ',il', '\"', 'u?\\\\', '\"', '\\r', '\"', '0871277810910p', '-apples&pairs&all', \"Ì_'ll\", 'k:)how', '31p.msg@150p', 'yijue@hotmail.com', 'Ì', '\"', '\"', 'me?Are', 'parents.:)i', ':)', '32', ':)', 'form:)clark', 'lt;#&gt', 'lt;#&gt', ' ', ':)', ':)', ':)', ' ', 'lt;#&gt', ' ', 'lt;#&gt', ' ', ' ', 'lt;DECIMAL&gt', ' ', 'lt;DECIMAL&gt', 'lt;#&gt', ' ', 'lt;DECIMAL&gt', ' ', ':)', 'K:)k:)good:)study', 'Ì', 'ah?sen', 'today!From', '087187262701.50gbp', 'mtmsg18', 'lt;#&gt', 'Yes:)here', 'recd@thirtyeight', ' ', 'lt;#&gt', ' ', 'you?when', 'R*reveal', \"u've\", 'www', 'Ldew.com1win150ppmx3age16', 'doing?how', 'lemme', 'www.100percent', 'real.com', 'World:-', 'Ge:-']\n"
          ]
        }
      ],
      "source": [
        "#extracting the messages and flatten the original messages to print flat\n",
        "oringinalMassages = [msg for msg in spam[\"msg\"]]\n",
        "flattenOriginalMsg = []\n",
        "for i in range(len(oringinalMassages)):\n",
        "  for w in oringinalMassages[i].split():\n",
        "    flattenOriginalMsg.append(w)\n",
        "\n",
        "#printing the lists of tokent and orinal words for comparison\n",
        "print(\"Original messages      :\",flattenOriginalMsg[:100] )\n",
        "print(\"NLTK unique tokens are :\", NLTKuniqueTokens[:100])\n",
        "print(\"unique tokens are      :\", spacyUniqueTokens[:100])\n"
      ]
    },
    {
      "cell_type": "markdown",
      "metadata": {
        "id": "jRwPAhNVyZAA"
      },
      "source": [
        "## Conclusions\n",
        "\n",
        "After tokenizeing with both NLTK and spCy we can get the key diffrece between both NLTK and spacy tokenizers techniques:\n",
        "\n",
        "1.   spacy gets more tokens out from the text massages than NLTK\n",
        "2.   spacy gets 'http://wap', 'xxxmobilemovieclub.com?n=QJKGIGHJJGCBL' for the web adress whlie NLTK tokens it into  'http', '//wap', 'xxxmobilemovieclub.com', 'n=QJKGIGHJJGCBL'\n",
        "\n",
        "**NLTK** uses rule-based tokenization techniques, such as regular expressions and language-specific rules, to split text into tokens.\n",
        "\n",
        "**spaCy** uses statistical models combined with rule-based approaches to perform tokenization. It considers linguistic features and context to tokenize the text effectively."
      ]
    },
    {
      "cell_type": "markdown",
      "metadata": {
        "id": "lJQ_GRy11lS2"
      },
      "source": [
        "## 6.) Perform lemmatization twice: by NLTK and by Spacy libraries. Write what is the difference between the results."
      ]
    },
    {
      "cell_type": "code",
      "execution_count": null,
      "metadata": {
        "colab": {
          "base_uri": "https://localhost:8080/"
        },
        "id": "QEzhMrjf40ca",
        "outputId": "c3e1e193-d702-4255-a19e-15b304c6bda8"
      },
      "outputs": [
        {
          "output_type": "stream",
          "name": "stderr",
          "text": [
            "[nltk_data] Downloading package wordnet to /root/nltk_data...\n",
            "[nltk_data]   Package wordnet is already up-to-date!\n"
          ]
        },
        {
          "output_type": "execute_result",
          "data": {
            "text/plain": [
              "True"
            ]
          },
          "metadata": {},
          "execution_count": 275
        }
      ],
      "source": [
        "nltk.download('wordnet')  #dounloading NLTK data"
      ]
    },
    {
      "cell_type": "code",
      "execution_count": null,
      "metadata": {
        "id": "TsPwNEhbyWQR"
      },
      "outputs": [],
      "source": [
        "from nltk.stem import WordNetLemmatizer  #importing nltk lemmatizer\n",
        "lemmatizer = WordNetLemmatizer()\n",
        "\n",
        "NLTKlemmas = [lemmatizer.lemmatize(word) for word in NLTKtokens]\n"
      ]
    },
    {
      "cell_type": "code",
      "execution_count": null,
      "metadata": {
        "id": "SUiq9f9A6yjM"
      },
      "outputs": [],
      "source": [
        "spacyLemmas = []\n",
        "\n",
        "for msg in spam[\"msg\"]:\n",
        "  for i in nlp(msg):\n",
        "    spacyLemmas.append(i.lemma_)"
      ]
    },
    {
      "cell_type": "code",
      "execution_count": null,
      "metadata": {
        "colab": {
          "base_uri": "https://localhost:8080/"
        },
        "id": "ARFe_zSZ1-Bt",
        "outputId": "eab15d22-d8ae-45be-b5db-6dd34a862c43"
      },
      "outputs": [
        {
          "output_type": "stream",
          "name": "stdout",
          "text": [
            "Original messages: ['Go', 'until', 'jurong', 'point,', 'crazy..', 'Available', 'only', 'in', 'bugis', 'n', 'great', 'world', 'la', 'e', 'buffet...', 'Cine', 'there', 'got', 'amore', 'wat...', 'Ok', 'lar...', 'Joking', 'wif', 'u', 'oni...', 'Free', 'entry', 'in', '2', 'a', 'wkly', 'comp', 'to', 'win', 'FA', 'Cup', 'final', 'tkts', '21st', 'May', '2005.', 'Text', 'FA', 'to', '87121', 'to', 'receive', 'entry', 'question(std', 'txt', \"rate)T&C's\", 'apply', \"08452810075over18's\", 'U', 'dun', 'say', 'so', 'early', 'hor...', 'U', 'c', 'already', 'then', 'say...', 'Nah', 'I', \"don't\", 'think', 'he', 'goes', 'to', 'usf,', 'he', 'lives', 'around', 'here', 'though', 'FreeMsg', 'Hey', 'there', 'darling', \"it's\", 'been', '3', \"week's\", 'now', 'and', 'no', 'word', 'back!', \"I'd\", 'like', 'some', 'fun', 'you', 'up', 'for', 'it', 'still?']\n",
            "NLTK lemmas:       ['Go', 'until', 'jurong', 'point', ',', 'crazy', '..', 'Available', 'only', 'in', 'bugis', 'n', 'great', 'world', 'la', 'e', 'buffet', '...', 'Cine', 'there', 'got', 'amore', 'wat', '...', 'Ok', 'lar', '...', 'Joking', 'wif', 'u', 'oni', '...', 'Free', 'entry', 'in', '2', 'a', 'wkly', 'comp', 'to', 'win', 'FA', 'Cup', 'final', 'tkts', '21st', 'May', '2005', '.', 'Text', 'FA', 'to', '87121', 'to', 'receive', 'entry', 'question', '(', 'std', 'txt', 'rate', ')', 'T', '&', 'C', \"'s\", 'apply', '08452810075over18', \"'s\", 'U', 'dun', 'say', 'so', 'early', 'hor', '...', 'U', 'c', 'already', 'then', 'say', '...', 'Nah', 'I', 'do', \"n't\", 'think', 'he', 'go', 'to', 'usf', ',', 'he', 'life', 'around', 'here', 'though', 'FreeMsg', 'Hey', 'there']\n",
            "spacy lemmas:      ['go', 'until', 'jurong', 'point', ',', 'crazy', '..', 'available', 'only', 'in', 'bugis', 'n', 'great', 'world', 'la', 'e', 'buffet', '...', 'Cine', 'there', 'get', 'amore', 'wat', '...', 'ok', 'lar', '...', 'joke', 'wif', 'u', 'oni', '...', 'free', 'entry', 'in', '2', 'a', 'wkly', 'comp', 'to', 'win', 'FA', 'Cup', 'final', 'tkts', '21st', 'May', '2005', '.', 'text', 'FA', 'to', '87121', 'to', 'receive', 'entry', 'question(std', 'txt', 'rate)T&C', \"'s\", 'apply', '08452810075over18', \"'s\", 'u', 'dun', 'say', 'so', 'early', 'hor', '...', 'u', 'c', 'already', 'then', 'say', '...', 'nah', 'I', 'do', 'not', 'think', 'he', 'go', 'to', 'usf', ',', 'he', 'live', 'around', 'here', 'though', 'FreeMsg', 'hey', 'there', 'darle', 'it', 'be', 'be', '3', 'week']\n"
          ]
        }
      ],
      "source": [
        "print(\"Original messages:\",flattenOriginalMsg[:100] )\n",
        "print(\"NLTK lemmas:      \", NLTKlemmas[:100])\n",
        "print(\"spacy lemmas:     \", spacyLemmas[:100])"
      ]
    },
    {
      "cell_type": "code",
      "execution_count": null,
      "metadata": {
        "colab": {
          "base_uri": "https://localhost:8080/"
        },
        "id": "bWQETW7wFfUr",
        "outputId": "410de05e-ef6a-4002-eb29-727622c8c31a"
      },
      "outputs": [
        {
          "output_type": "stream",
          "name": "stdout",
          "text": [
            "NLTK lemma :   Go --> Go\n",
            "apacy lemmas:  Go --> go\n",
            "\n",
            "NLTK lemma :   got --> got\n",
            "apacy lemmas:  got --> get\n",
            "\n",
            "NLTK lemma :   Joking --> Joking\n",
            "apacy lemmas:  Joking --> joke\n"
          ]
        }
      ],
      "source": [
        "print(\"NLTK lemma :  \",flattenOriginalMsg[0],\"-->\",NLTKlemmas[0] )\n",
        "print(\"apacy lemmas: \",flattenOriginalMsg[0],\"-->\", spacyLemmas[0] )\n",
        "\n",
        "print(\"\\nNLTK lemma :  \",flattenOriginalMsg[17],\"-->\",NLTKlemmas[20] )\n",
        "print(\"apacy lemmas: \",flattenOriginalMsg[17],\"-->\", spacyLemmas[20] )\n",
        "\n",
        "print(\"\\nNLTK lemma :  \",flattenOriginalMsg[22],\"-->\",NLTKlemmas[27] )\n",
        "print(\"apacy lemmas: \",flattenOriginalMsg[22],\"-->\", spacyLemmas[27] )"
      ]
    },
    {
      "cell_type": "code",
      "execution_count": null,
      "metadata": {
        "colab": {
          "base_uri": "https://localhost:8080/"
        },
        "id": "BybVzt0q4591",
        "outputId": "d940e73c-47f3-4dc7-e70e-609db10b21c5"
      },
      "outputs": [
        {
          "output_type": "stream",
          "name": "stdout",
          "text": [
            "Original messages length: 86335\n",
            "NLTK lemmas length:       104193\n",
            "spacy lemmas length:      103533\n"
          ]
        }
      ],
      "source": [
        "print(\"Original messages length:\",len(flattenOriginalMsg))\n",
        "print(\"NLTK lemmas length:      \", len(NLTKlemmas))\n",
        "print(\"spacy lemmas length:     \", len(spacyLemmas))"
      ]
    },
    {
      "cell_type": "markdown",
      "metadata": {
        "id": "Oy758RmfAt9y"
      },
      "source": [
        "From the printed outputs We can inspect some diffrences between both nltk and spact lemmatizers:\n",
        "\n",
        "\n",
        "\n",
        "1.   NLTK outputs more lemmas then spacy\n",
        "2.   Wile NLTK keeps the capital letter and ing 'Joking', spacy lower the lettr and iliminate the \"ing\" to 'joke'\n",
        "3. NLTK 'question', '(', 'std', 'txt', 'rate', ')', 'T', '&', 'C' , turns into 'question(std', 'txt', 'rate)T&C'\n",
        "\n",
        "**Conclusion:**\n",
        "nltk and spacy lemmatizers brakes the words into a root meaning variation with a diffrent way, there for we have got slightly diffrent result for each\n",
        "\n"
      ]
    },
    {
      "cell_type": "markdown",
      "metadata": {
        "id": "CqPt1dwhCcvC"
      },
      "source": [
        "## 7.) Perform stemming twice (NLTK and Spacy). Write what is the difference between the results."
      ]
    },
    {
      "cell_type": "code",
      "execution_count": null,
      "metadata": {
        "id": "rtJGngSb-i2P"
      },
      "outputs": [],
      "source": [
        "from nltk.stem.porter import PorterStemmer #importing the porterStemmer from nltk"
      ]
    },
    {
      "cell_type": "code",
      "execution_count": null,
      "metadata": {
        "id": "OGgTOr28SfWa"
      },
      "outputs": [],
      "source": [
        "#creating a function to lemmatize massages using NLTK library\n",
        "def lemmatize_message_nltk(message):\n",
        "    tokens = word_tokenize(message)\n",
        "    lemmatized_tokens = [lemmatizer.lemmatize(token) for token in tokens]\n",
        "    return lemmatized_tokens\n",
        "\n",
        "#creating a function which do stemming to massages using nltk library\n",
        "def stem_message_nltk(message):\n",
        "    tokens = word_tokenize(message)\n",
        "    stemmed_tokens = [ps.stem(token) for token in tokens]\n",
        "    return stemmed_tokens\n"
      ]
    },
    {
      "cell_type": "code",
      "execution_count": null,
      "metadata": {
        "id": "kxdKgvMbVTet"
      },
      "outputs": [],
      "source": [
        "#creating a function to easily tokenize massges with NLTK\n",
        "def tokenize_message_spacy(message):\n",
        "    doc = nlp(message)\n",
        "    return [token.text for token in doc]\n",
        "\n",
        "#creating a function to easily lematize massges with nltk\n",
        "def lemmatize_message_spacy(message):\n",
        "    doc = nlp(message)\n",
        "    return [token.lemma_ for token in doc]\n",
        "\n",
        "def spacy_token_nltk_stemming(tokens):\n",
        "    stemmed_tokens = [ps.stem(token) for token in tokens]\n",
        "    return stemmed_tokens"
      ]
    },
    {
      "cell_type": "code",
      "execution_count": null,
      "metadata": {
        "id": "0geJGkHYQCJh"
      },
      "outputs": [],
      "source": [
        "#creating a new data frame contaning nltk and spacy tokens lemmas and steme to cacluate the statistics for all of them\n",
        "spam2 = spam\n",
        "for row in spam:\n",
        "  spam2[\"NLTK token\"] = spam2[\"msg\"].apply(word_tokenize)\n",
        "  spam2[\"NLTK lemma\"] = spam2[\"msg\"].apply(lemmatize_message_nltk)\n",
        "  spam2['NLTK stems'] = spam2['msg'].apply(stem_message_nltk)\n",
        "  spam2['tokens_spacy'] = spam2['msg'].apply(tokenize_message_spacy)\n",
        "  spam2['lemmas_spacy'] = spam2['msg'].apply(lemmatize_message_spacy)\n",
        "  spam2['steme_spacy'] = spam2['msg'].apply(spacy_token_nltk_stemming)"
      ]
    },
    {
      "cell_type": "code",
      "execution_count": null,
      "metadata": {
        "colab": {
          "base_uri": "https://localhost:8080/",
          "height": 293
        },
        "id": "XzrjYL1hjUzf",
        "outputId": "ae4f7be5-2a0a-4357-d5fc-0aac3967e5c4"
      },
      "outputs": [
        {
          "output_type": "execute_result",
          "data": {
            "text/plain": [
              "  label                                                msg  \\\n",
              "0   ham  Go until jurong point, crazy.. Available only ...   \n",
              "1   ham                      Ok lar... Joking wif u oni...   \n",
              "2  spam  Free entry in 2 a wkly comp to win FA Cup fina...   \n",
              "3   ham  U dun say so early hor... U c already then say...   \n",
              "4   ham  Nah I don't think he goes to usf, he lives aro...   \n",
              "\n",
              "                                          NLTK token  \\\n",
              "0  [Go, until, jurong, point, ,, crazy, .., Avail...   \n",
              "1           [Ok, lar, ..., Joking, wif, u, oni, ...]   \n",
              "2  [Free, entry, in, 2, a, wkly, comp, to, win, F...   \n",
              "3  [U, dun, say, so, early, hor, ..., U, c, alrea...   \n",
              "4  [Nah, I, do, n't, think, he, goes, to, usf, ,,...   \n",
              "\n",
              "                                          NLTK lemma  \\\n",
              "0  [Go, until, jurong, point, ,, crazy, .., Avail...   \n",
              "1           [Ok, lar, ..., Joking, wif, u, oni, ...]   \n",
              "2  [Free, entry, in, 2, a, wkly, comp, to, win, F...   \n",
              "3  [U, dun, say, so, early, hor, ..., U, c, alrea...   \n",
              "4  [Nah, I, do, n't, think, he, go, to, usf, ,, h...   \n",
              "\n",
              "                                          NLTK stems  \\\n",
              "0  [go, until, jurong, point, ,, crazi, .., avail...   \n",
              "1             [ok, lar, ..., joke, wif, u, oni, ...]   \n",
              "2  [free, entri, in, 2, a, wkli, comp, to, win, f...   \n",
              "3  [u, dun, say, so, earli, hor, ..., u, c, alrea...   \n",
              "4  [nah, i, do, n't, think, he, goe, to, usf, ,, ...   \n",
              "\n",
              "                                        tokens_spacy  \\\n",
              "0  [Go, until, jurong, point, ,, crazy, .., Avail...   \n",
              "1           [Ok, lar, ..., Joking, wif, u, oni, ...]   \n",
              "2  [Free, entry, in, 2, a, wkly, comp, to, win, F...   \n",
              "3  [U, dun, say, so, early, hor, ..., U, c, alrea...   \n",
              "4  [Nah, I, do, n't, think, he, goes, to, usf, ,,...   \n",
              "\n",
              "                                        lemmas_spacy  \\\n",
              "0  [go, until, jurong, point, ,, crazy, .., avail...   \n",
              "1             [ok, lar, ..., joke, wif, u, oni, ...]   \n",
              "2  [free, entry, in, 2, a, wkly, comp, to, win, F...   \n",
              "3  [u, dun, say, so, early, hor, ..., u, c, alrea...   \n",
              "4  [nah, I, do, not, think, he, go, to, usf, ,, h...   \n",
              "\n",
              "                                         steme_spacy  \n",
              "0  [g, o,  , u, n, t, i, l,  , j, u, r, o, n, g, ...  \n",
              "1  [o, k,  , l, a, r, ., ., .,  , j, o, k, i, n, ...  \n",
              "2  [f, r, e, e,  , e, n, t, r, y,  , i, n,  , 2, ...  \n",
              "3  [u,  , d, u, n,  , s, a, y,  , s, o,  , e, a, ...  \n",
              "4  [n, a, h,  , i,  , d, o, n, ', t,  , t, h, i, ...  "
            ],
            "text/html": [
              "\n",
              "  <div id=\"df-89fa3faf-41b3-4137-a89c-1ff9a523ca03\" class=\"colab-df-container\">\n",
              "    <div>\n",
              "<style scoped>\n",
              "    .dataframe tbody tr th:only-of-type {\n",
              "        vertical-align: middle;\n",
              "    }\n",
              "\n",
              "    .dataframe tbody tr th {\n",
              "        vertical-align: top;\n",
              "    }\n",
              "\n",
              "    .dataframe thead th {\n",
              "        text-align: right;\n",
              "    }\n",
              "</style>\n",
              "<table border=\"1\" class=\"dataframe\">\n",
              "  <thead>\n",
              "    <tr style=\"text-align: right;\">\n",
              "      <th></th>\n",
              "      <th>label</th>\n",
              "      <th>msg</th>\n",
              "      <th>NLTK token</th>\n",
              "      <th>NLTK lemma</th>\n",
              "      <th>NLTK stems</th>\n",
              "      <th>tokens_spacy</th>\n",
              "      <th>lemmas_spacy</th>\n",
              "      <th>steme_spacy</th>\n",
              "    </tr>\n",
              "  </thead>\n",
              "  <tbody>\n",
              "    <tr>\n",
              "      <th>0</th>\n",
              "      <td>ham</td>\n",
              "      <td>Go until jurong point, crazy.. Available only ...</td>\n",
              "      <td>[Go, until, jurong, point, ,, crazy, .., Avail...</td>\n",
              "      <td>[Go, until, jurong, point, ,, crazy, .., Avail...</td>\n",
              "      <td>[go, until, jurong, point, ,, crazi, .., avail...</td>\n",
              "      <td>[Go, until, jurong, point, ,, crazy, .., Avail...</td>\n",
              "      <td>[go, until, jurong, point, ,, crazy, .., avail...</td>\n",
              "      <td>[g, o,  , u, n, t, i, l,  , j, u, r, o, n, g, ...</td>\n",
              "    </tr>\n",
              "    <tr>\n",
              "      <th>1</th>\n",
              "      <td>ham</td>\n",
              "      <td>Ok lar... Joking wif u oni...</td>\n",
              "      <td>[Ok, lar, ..., Joking, wif, u, oni, ...]</td>\n",
              "      <td>[Ok, lar, ..., Joking, wif, u, oni, ...]</td>\n",
              "      <td>[ok, lar, ..., joke, wif, u, oni, ...]</td>\n",
              "      <td>[Ok, lar, ..., Joking, wif, u, oni, ...]</td>\n",
              "      <td>[ok, lar, ..., joke, wif, u, oni, ...]</td>\n",
              "      <td>[o, k,  , l, a, r, ., ., .,  , j, o, k, i, n, ...</td>\n",
              "    </tr>\n",
              "    <tr>\n",
              "      <th>2</th>\n",
              "      <td>spam</td>\n",
              "      <td>Free entry in 2 a wkly comp to win FA Cup fina...</td>\n",
              "      <td>[Free, entry, in, 2, a, wkly, comp, to, win, F...</td>\n",
              "      <td>[Free, entry, in, 2, a, wkly, comp, to, win, F...</td>\n",
              "      <td>[free, entri, in, 2, a, wkli, comp, to, win, f...</td>\n",
              "      <td>[Free, entry, in, 2, a, wkly, comp, to, win, F...</td>\n",
              "      <td>[free, entry, in, 2, a, wkly, comp, to, win, F...</td>\n",
              "      <td>[f, r, e, e,  , e, n, t, r, y,  , i, n,  , 2, ...</td>\n",
              "    </tr>\n",
              "    <tr>\n",
              "      <th>3</th>\n",
              "      <td>ham</td>\n",
              "      <td>U dun say so early hor... U c already then say...</td>\n",
              "      <td>[U, dun, say, so, early, hor, ..., U, c, alrea...</td>\n",
              "      <td>[U, dun, say, so, early, hor, ..., U, c, alrea...</td>\n",
              "      <td>[u, dun, say, so, earli, hor, ..., u, c, alrea...</td>\n",
              "      <td>[U, dun, say, so, early, hor, ..., U, c, alrea...</td>\n",
              "      <td>[u, dun, say, so, early, hor, ..., u, c, alrea...</td>\n",
              "      <td>[u,  , d, u, n,  , s, a, y,  , s, o,  , e, a, ...</td>\n",
              "    </tr>\n",
              "    <tr>\n",
              "      <th>4</th>\n",
              "      <td>ham</td>\n",
              "      <td>Nah I don't think he goes to usf, he lives aro...</td>\n",
              "      <td>[Nah, I, do, n't, think, he, goes, to, usf, ,,...</td>\n",
              "      <td>[Nah, I, do, n't, think, he, go, to, usf, ,, h...</td>\n",
              "      <td>[nah, i, do, n't, think, he, goe, to, usf, ,, ...</td>\n",
              "      <td>[Nah, I, do, n't, think, he, goes, to, usf, ,,...</td>\n",
              "      <td>[nah, I, do, not, think, he, go, to, usf, ,, h...</td>\n",
              "      <td>[n, a, h,  , i,  , d, o, n, ', t,  , t, h, i, ...</td>\n",
              "    </tr>\n",
              "  </tbody>\n",
              "</table>\n",
              "</div>\n",
              "    <div class=\"colab-df-buttons\">\n",
              "\n",
              "  <div class=\"colab-df-container\">\n",
              "    <button class=\"colab-df-convert\" onclick=\"convertToInteractive('df-89fa3faf-41b3-4137-a89c-1ff9a523ca03')\"\n",
              "            title=\"Convert this dataframe to an interactive table.\"\n",
              "            style=\"display:none;\">\n",
              "\n",
              "  <svg xmlns=\"http://www.w3.org/2000/svg\" height=\"24px\" viewBox=\"0 -960 960 960\">\n",
              "    <path d=\"M120-120v-720h720v720H120Zm60-500h600v-160H180v160Zm220 220h160v-160H400v160Zm0 220h160v-160H400v160ZM180-400h160v-160H180v160Zm440 0h160v-160H620v160ZM180-180h160v-160H180v160Zm440 0h160v-160H620v160Z\"/>\n",
              "  </svg>\n",
              "    </button>\n",
              "\n",
              "  <style>\n",
              "    .colab-df-container {\n",
              "      display:flex;\n",
              "      gap: 12px;\n",
              "    }\n",
              "\n",
              "    .colab-df-convert {\n",
              "      background-color: #E8F0FE;\n",
              "      border: none;\n",
              "      border-radius: 50%;\n",
              "      cursor: pointer;\n",
              "      display: none;\n",
              "      fill: #1967D2;\n",
              "      height: 32px;\n",
              "      padding: 0 0 0 0;\n",
              "      width: 32px;\n",
              "    }\n",
              "\n",
              "    .colab-df-convert:hover {\n",
              "      background-color: #E2EBFA;\n",
              "      box-shadow: 0px 1px 2px rgba(60, 64, 67, 0.3), 0px 1px 3px 1px rgba(60, 64, 67, 0.15);\n",
              "      fill: #174EA6;\n",
              "    }\n",
              "\n",
              "    .colab-df-buttons div {\n",
              "      margin-bottom: 4px;\n",
              "    }\n",
              "\n",
              "    [theme=dark] .colab-df-convert {\n",
              "      background-color: #3B4455;\n",
              "      fill: #D2E3FC;\n",
              "    }\n",
              "\n",
              "    [theme=dark] .colab-df-convert:hover {\n",
              "      background-color: #434B5C;\n",
              "      box-shadow: 0px 1px 3px 1px rgba(0, 0, 0, 0.15);\n",
              "      filter: drop-shadow(0px 1px 2px rgba(0, 0, 0, 0.3));\n",
              "      fill: #FFFFFF;\n",
              "    }\n",
              "  </style>\n",
              "\n",
              "    <script>\n",
              "      const buttonEl =\n",
              "        document.querySelector('#df-89fa3faf-41b3-4137-a89c-1ff9a523ca03 button.colab-df-convert');\n",
              "      buttonEl.style.display =\n",
              "        google.colab.kernel.accessAllowed ? 'block' : 'none';\n",
              "\n",
              "      async function convertToInteractive(key) {\n",
              "        const element = document.querySelector('#df-89fa3faf-41b3-4137-a89c-1ff9a523ca03');\n",
              "        const dataTable =\n",
              "          await google.colab.kernel.invokeFunction('convertToInteractive',\n",
              "                                                    [key], {});\n",
              "        if (!dataTable) return;\n",
              "\n",
              "        const docLinkHtml = 'Like what you see? Visit the ' +\n",
              "          '<a target=\"_blank\" href=https://colab.research.google.com/notebooks/data_table.ipynb>data table notebook</a>'\n",
              "          + ' to learn more about interactive tables.';\n",
              "        element.innerHTML = '';\n",
              "        dataTable['output_type'] = 'display_data';\n",
              "        await google.colab.output.renderOutput(dataTable, element);\n",
              "        const docLink = document.createElement('div');\n",
              "        docLink.innerHTML = docLinkHtml;\n",
              "        element.appendChild(docLink);\n",
              "      }\n",
              "    </script>\n",
              "  </div>\n",
              "\n",
              "\n",
              "<div id=\"df-9b1a7044-3e3d-4be0-a2aa-aa1d4096aa4c\">\n",
              "  <button class=\"colab-df-quickchart\" onclick=\"quickchart('df-9b1a7044-3e3d-4be0-a2aa-aa1d4096aa4c')\"\n",
              "            title=\"Suggest charts\"\n",
              "            style=\"display:none;\">\n",
              "\n",
              "<svg xmlns=\"http://www.w3.org/2000/svg\" height=\"24px\"viewBox=\"0 0 24 24\"\n",
              "     width=\"24px\">\n",
              "    <g>\n",
              "        <path d=\"M19 3H5c-1.1 0-2 .9-2 2v14c0 1.1.9 2 2 2h14c1.1 0 2-.9 2-2V5c0-1.1-.9-2-2-2zM9 17H7v-7h2v7zm4 0h-2V7h2v10zm4 0h-2v-4h2v4z\"/>\n",
              "    </g>\n",
              "</svg>\n",
              "  </button>\n",
              "\n",
              "<style>\n",
              "  .colab-df-quickchart {\n",
              "      --bg-color: #E8F0FE;\n",
              "      --fill-color: #1967D2;\n",
              "      --hover-bg-color: #E2EBFA;\n",
              "      --hover-fill-color: #174EA6;\n",
              "      --disabled-fill-color: #AAA;\n",
              "      --disabled-bg-color: #DDD;\n",
              "  }\n",
              "\n",
              "  [theme=dark] .colab-df-quickchart {\n",
              "      --bg-color: #3B4455;\n",
              "      --fill-color: #D2E3FC;\n",
              "      --hover-bg-color: #434B5C;\n",
              "      --hover-fill-color: #FFFFFF;\n",
              "      --disabled-bg-color: #3B4455;\n",
              "      --disabled-fill-color: #666;\n",
              "  }\n",
              "\n",
              "  .colab-df-quickchart {\n",
              "    background-color: var(--bg-color);\n",
              "    border: none;\n",
              "    border-radius: 50%;\n",
              "    cursor: pointer;\n",
              "    display: none;\n",
              "    fill: var(--fill-color);\n",
              "    height: 32px;\n",
              "    padding: 0;\n",
              "    width: 32px;\n",
              "  }\n",
              "\n",
              "  .colab-df-quickchart:hover {\n",
              "    background-color: var(--hover-bg-color);\n",
              "    box-shadow: 0 1px 2px rgba(60, 64, 67, 0.3), 0 1px 3px 1px rgba(60, 64, 67, 0.15);\n",
              "    fill: var(--button-hover-fill-color);\n",
              "  }\n",
              "\n",
              "  .colab-df-quickchart-complete:disabled,\n",
              "  .colab-df-quickchart-complete:disabled:hover {\n",
              "    background-color: var(--disabled-bg-color);\n",
              "    fill: var(--disabled-fill-color);\n",
              "    box-shadow: none;\n",
              "  }\n",
              "\n",
              "  .colab-df-spinner {\n",
              "    border: 2px solid var(--fill-color);\n",
              "    border-color: transparent;\n",
              "    border-bottom-color: var(--fill-color);\n",
              "    animation:\n",
              "      spin 1s steps(1) infinite;\n",
              "  }\n",
              "\n",
              "  @keyframes spin {\n",
              "    0% {\n",
              "      border-color: transparent;\n",
              "      border-bottom-color: var(--fill-color);\n",
              "      border-left-color: var(--fill-color);\n",
              "    }\n",
              "    20% {\n",
              "      border-color: transparent;\n",
              "      border-left-color: var(--fill-color);\n",
              "      border-top-color: var(--fill-color);\n",
              "    }\n",
              "    30% {\n",
              "      border-color: transparent;\n",
              "      border-left-color: var(--fill-color);\n",
              "      border-top-color: var(--fill-color);\n",
              "      border-right-color: var(--fill-color);\n",
              "    }\n",
              "    40% {\n",
              "      border-color: transparent;\n",
              "      border-right-color: var(--fill-color);\n",
              "      border-top-color: var(--fill-color);\n",
              "    }\n",
              "    60% {\n",
              "      border-color: transparent;\n",
              "      border-right-color: var(--fill-color);\n",
              "    }\n",
              "    80% {\n",
              "      border-color: transparent;\n",
              "      border-right-color: var(--fill-color);\n",
              "      border-bottom-color: var(--fill-color);\n",
              "    }\n",
              "    90% {\n",
              "      border-color: transparent;\n",
              "      border-bottom-color: var(--fill-color);\n",
              "    }\n",
              "  }\n",
              "</style>\n",
              "\n",
              "  <script>\n",
              "    async function quickchart(key) {\n",
              "      const quickchartButtonEl =\n",
              "        document.querySelector('#' + key + ' button');\n",
              "      quickchartButtonEl.disabled = true;  // To prevent multiple clicks.\n",
              "      quickchartButtonEl.classList.add('colab-df-spinner');\n",
              "      try {\n",
              "        const charts = await google.colab.kernel.invokeFunction(\n",
              "            'suggestCharts', [key], {});\n",
              "      } catch (error) {\n",
              "        console.error('Error during call to suggestCharts:', error);\n",
              "      }\n",
              "      quickchartButtonEl.classList.remove('colab-df-spinner');\n",
              "      quickchartButtonEl.classList.add('colab-df-quickchart-complete');\n",
              "    }\n",
              "    (() => {\n",
              "      let quickchartButtonEl =\n",
              "        document.querySelector('#df-9b1a7044-3e3d-4be0-a2aa-aa1d4096aa4c button');\n",
              "      quickchartButtonEl.style.display =\n",
              "        google.colab.kernel.accessAllowed ? 'block' : 'none';\n",
              "    })();\n",
              "  </script>\n",
              "</div>\n",
              "\n",
              "    </div>\n",
              "  </div>\n"
            ],
            "application/vnd.google.colaboratory.intrinsic+json": {
              "type": "dataframe",
              "variable_name": "spam2",
              "summary": "{\n  \"name\": \"spam2\",\n  \"rows\": 5572,\n  \"fields\": [\n    {\n      \"column\": \"label\",\n      \"properties\": {\n        \"dtype\": \"category\",\n        \"num_unique_values\": 2,\n        \"samples\": [\n          \"spam\",\n          \"ham\"\n        ],\n        \"semantic_type\": \"\",\n        \"description\": \"\"\n      }\n    },\n    {\n      \"column\": \"msg\",\n      \"properties\": {\n        \"dtype\": \"string\",\n        \"num_unique_values\": 5169,\n        \"samples\": [\n          \"Did u download the fring app?\",\n          \"Pass dis to all ur contacts n see wat u get! Red;i'm in luv wid u. Blue;u put a smile on my face. Purple;u r realy hot. Pink;u r so swt. Orange;i thnk i lyk u. Green;i realy wana go out wid u. Yelow;i wnt u bck. Black;i'm jealous of u. Brown;i miss you Nw plz giv me one color\"\n        ],\n        \"semantic_type\": \"\",\n        \"description\": \"\"\n      }\n    },\n    {\n      \"column\": \"NLTK token\",\n      \"properties\": {\n        \"dtype\": \"object\",\n        \"semantic_type\": \"\",\n        \"description\": \"\"\n      }\n    },\n    {\n      \"column\": \"NLTK lemma\",\n      \"properties\": {\n        \"dtype\": \"object\",\n        \"semantic_type\": \"\",\n        \"description\": \"\"\n      }\n    },\n    {\n      \"column\": \"NLTK stems\",\n      \"properties\": {\n        \"dtype\": \"object\",\n        \"semantic_type\": \"\",\n        \"description\": \"\"\n      }\n    },\n    {\n      \"column\": \"tokens_spacy\",\n      \"properties\": {\n        \"dtype\": \"object\",\n        \"semantic_type\": \"\",\n        \"description\": \"\"\n      }\n    },\n    {\n      \"column\": \"lemmas_spacy\",\n      \"properties\": {\n        \"dtype\": \"object\",\n        \"semantic_type\": \"\",\n        \"description\": \"\"\n      }\n    },\n    {\n      \"column\": \"steme_spacy\",\n      \"properties\": {\n        \"dtype\": \"object\",\n        \"semantic_type\": \"\",\n        \"description\": \"\"\n      }\n    }\n  ]\n}"
            }
          },
          "metadata": {},
          "execution_count": 285
        }
      ],
      "source": [
        "spam2.head()"
      ]
    },
    {
      "cell_type": "code",
      "execution_count": null,
      "metadata": {
        "id": "xeuRnJEak68m"
      },
      "outputs": [],
      "source": [
        "def original_words_count(col):\n",
        "  workCount = col.apply(lambda x: len(nltk.word_tokenize(x))) #counting the words in each message\n",
        "  totalCount = workCount.sum()  #counting the total words\n",
        "  return totalCount"
      ]
    },
    {
      "cell_type": "code",
      "execution_count": null,
      "metadata": {
        "id": "AqScC01vmDMc"
      },
      "outputs": [],
      "source": [
        "def spatial_words_count(col):\n",
        "  counter = 0\n",
        "  for msg in col:\n",
        "    for word in msg:\n",
        "      counter+=1\n",
        "  return counter"
      ]
    },
    {
      "cell_type": "code",
      "execution_count": null,
      "metadata": {
        "colab": {
          "base_uri": "https://localhost:8080/"
        },
        "id": "nb0v9ByTouix",
        "outputId": "dd5a68bc-2777-4bd1-a472-73fb6540aab5"
      },
      "outputs": [
        {
          "output_type": "execute_result",
          "data": {
            "text/plain": [
              "104193"
            ]
          },
          "metadata": {},
          "execution_count": 288
        }
      ],
      "source": [
        "spatial_words_count(spam2['NLTK stems'])"
      ]
    },
    {
      "cell_type": "code",
      "execution_count": null,
      "metadata": {
        "colab": {
          "base_uri": "https://localhost:8080/"
        },
        "id": "rxWGaWi5pC8w",
        "outputId": "1b3c6cda-e313-4fef-c132-ede6d5a09f6b"
      },
      "outputs": [
        {
          "output_type": "execute_result",
          "data": {
            "text/plain": [
              "446422"
            ]
          },
          "metadata": {},
          "execution_count": 289
        }
      ],
      "source": [
        "spatial_words_count(spam2['steme_spacy'])"
      ]
    },
    {
      "cell_type": "code",
      "execution_count": null,
      "metadata": {
        "colab": {
          "base_uri": "https://localhost:8080/"
        },
        "id": "BdYzXnbeDr64",
        "outputId": "02306dd3-9fab-4676-ad82-44541ca53145"
      },
      "outputs": [
        {
          "output_type": "stream",
          "name": "stdout",
          "text": [
            "Original messages length: 104193\n",
            "NLTK stemmes length:       104193\n",
            "spacy stemms length:      446422\n"
          ]
        }
      ],
      "source": [
        "print(\"Original messages length:\",original_words_count(spam2[\"msg\"]))\n",
        "print(\"NLTK stemmes length:      \", spatial_words_count(spam2['NLTK stems']))\n",
        "print(\"spacy stemms length:     \", spatial_words_count(spam2['steme_spacy']))"
      ]
    },
    {
      "cell_type": "code",
      "execution_count": null,
      "metadata": {
        "colab": {
          "base_uri": "https://localhost:8080/"
        },
        "id": "_CvhmkuSDKUK",
        "outputId": "eac4101f-a07e-40f8-8d3e-7e748c3cc75e"
      },
      "outputs": [
        {
          "output_type": "stream",
          "name": "stdout",
          "text": [
            "Original messages:   ['Go', 'until', 'jurong', 'point,', 'crazy..', 'Available', 'only', 'in', 'bugis', 'n', 'great', 'world', 'la', 'e', 'buffet...', 'Cine', 'there', 'got', 'amore', 'wat...', 'Ok', 'lar...', 'Joking', 'wif', 'u', 'oni...', 'Free', 'entry', 'in', '2', 'a', 'wkly', 'comp', 'to', 'win', 'FA', 'Cup', 'final', 'tkts', '21st', 'May', '2005.', 'Text', 'FA', 'to', '87121', 'to', 'receive', 'entry', 'question(std', 'txt', \"rate)T&C's\", 'apply', \"08452810075over18's\", 'U', 'dun', 'say', 'so', 'early', 'hor...', 'U', 'c', 'already', 'then', 'say...', 'Nah', 'I', \"don't\", 'think', 'he', 'goes', 'to', 'usf,', 'he', 'lives', 'around', 'here', 'though', 'FreeMsg', 'Hey', 'there', 'darling', \"it's\", 'been', '3', \"week's\", 'now', 'and', 'no', 'word', 'back!', \"I'd\", 'like', 'some', 'fun', 'you', 'up', 'for', 'it', 'still?']\n",
            "NLTK stemme:         ['go', 'until', 'jurong', 'point,', 'crazy..', 'avail', 'onli', 'in', 'bugi', 'n', 'great', 'world', 'la', 'e', 'buffet...', 'cine', 'there', 'got', 'amor', 'wat...']\n",
            "spacy stemme:        [['go', 'until', 'jurong', 'point', ',', 'crazi', '..', 'avail', 'onli', 'in', 'bugi', 'n', 'great', 'world', 'la', 'e', 'buffet', '...', 'cine', 'there', 'got', 'amor', 'wat', '...'], ['ok', 'lar', '...', 'joke', 'wif', 'u', 'oni', '...'], ['free', 'entri', 'in', '2', 'a', 'wkli', 'comp', 'to', 'win', 'fa', 'cup', 'final', 'tkt', '21st', 'may', '2005', '.', 'text', 'fa', 'to', '87121', 'to', 'receiv', 'entri', 'question(std', 'txt', 'rate)t&c', \"'s\", 'appli', '08452810075over18', \"'s\"], ['u', 'dun', 'say', 'so', 'earli', 'hor', '...', 'u', 'c', 'alreadi', 'then', 'say', '...'], ['nah', 'i', 'do', \"n't\", 'think', 'he', 'goe', 'to', 'usf', ',', 'he', 'live', 'around', 'here', 'though'], ['freemsg', 'hey', 'there', 'darl', 'it', \"'s\", 'been', '3', 'week', \"'s\", 'now', 'and', 'no', 'word', 'back', '!', 'i', \"'d\", 'like', 'some', 'fun', 'you', 'up', 'for', 'it', 'still', '?', 'tb', 'ok', '!', 'xxx', 'std', 'chg', 'to', 'send', ',', 'å£1.50', 'to', 'rcv'], ['even', 'my', 'brother', 'is', 'not', 'like', 'to', 'speak', 'with', 'me', '.', 'they', 'treat', 'me', 'like', 'aid', 'patent', '.'], ['as', 'per', 'your', 'request', \"'\", 'mell', 'mell', '(', 'oru', 'minnaminungint', 'nurungu', 'vettam', ')', \"'\", 'ha', 'been', 'set', 'as', 'your', 'callertun', 'for', 'all', 'caller', '.', 'press', '*', '9', 'to', 'copi', 'your', 'friend', 'callertun'], ['winner', '!', '!', 'as', 'a', 'valu', 'network', 'custom', 'you', 'have', 'been', 'select', 'to', 'receivea', 'å£900', 'prize', 'reward', '!', 'to', 'claim', 'call', '09061701461', '.', 'claim', 'code', 'kl341', '.', 'valid', '12', 'hour', 'onli', '.'], ['had', 'your', 'mobil', '11', 'month', 'or', 'more', '?', 'u', 'r', 'entitl', 'to', 'updat', 'to', 'the', 'latest', 'colour', 'mobil', 'with', 'camera', 'for', 'free', '!', 'call', 'the', 'mobil', 'updat', 'co', 'free', 'on', '08002986030'], ['i', \"'m\", 'gon', 'na', 'be', 'home', 'soon', 'and', 'i', 'do', \"n't\", 'want', 'to', 'talk', 'about', 'thi', 'stuff', 'anymor', 'tonight', ',', 'k', '?', 'i', \"'ve\", 'cri', 'enough', 'today', '.'], ['six', 'chanc', 'to', 'win', 'cash', '!', 'from', '100', 'to', '20,000', 'pound', 'txt', '>', 'csh11', 'and', 'send', 'to', '87575', '.', 'cost', '150p', '/', 'day', ',', '6day', ',', '16', '+', 'tsandc', 'appli', 'repli', 'hl', '4', 'info'], ['urgent', '!', 'you', 'have', 'won', 'a', '1', 'week', 'free', 'membership', 'in', 'our', 'å£100,000', 'prize', 'jackpot', '!', 'txt', 'the', 'word', ':', 'claim', 'to', 'no', ':', '81010', 't&c', 'www.dbuk.net', 'lccltd', 'pobox', '4403ldnw1a7rw18'], ['i', \"'ve\", 'been', 'search', 'for', 'the', 'right', 'word', 'to', 'thank', 'you', 'for', 'thi', 'breather', '.', 'i', 'promis', 'i', 'wo', 'nt', 'take', 'your', 'help', 'for', 'grant', 'and', 'will', 'fulfil', 'my', 'promis', '.', 'you', 'have', 'been', 'wonder', 'and', 'a', 'bless', 'at', 'all', 'time', '.'], ['i', 'have', 'a', 'date', 'on', 'sunday', 'with', 'will', '!', '!'], ['xxxmobilemovieclub', ':', 'to', 'use', 'your', 'credit', ',', 'click', 'the', 'wap', 'link', 'in', 'the', 'next', 'txt', 'messag', 'or', 'click', 'here', '>', '>', 'http://wap', '.', 'xxxmobilemovieclub.com?n=qjkgighjjgcbl'], ['oh', 'k', '...', \"i'm\", 'watch', 'here', ':)'], ['eh', 'u', 'rememb', 'how', '2', 'spell', 'hi', 'name', '...', 'ye', 'i', 'did', '.', 'he', 'v', 'naughti', 'make', 'until', 'i', 'v', 'wet', '.'], ['fine', 'if', 'thatåõ', 'the', 'way', 'u', 'feel', '.', 'thatåõ', 'the', 'way', 'it', 'gota', 'b'], ['england', 'v', 'macedonia', '-', 'do', 'nt', 'miss', 'the', 'goal', '/', 'team', 'news', '.', 'txt', 'ur', 'nation', 'team', 'to', '87077', 'eg', 'england', 'to', '87077', 'tri', ':', 'wale', ',', 'scotland', '4txt', '/', 'ì¼1.20', 'poboxox36504w45wq', '16', '+']]\n"
          ]
        }
      ],
      "source": [
        "print(\"Original messages:  \",flattenOriginalMsg[:100] )\n",
        "print(\"NLTK stemme:        \", NLTKStemme[:20])\n",
        "print(\"spacy stemme:       \", flattenSpacySteme[:20])"
      ]
    },
    {
      "cell_type": "code",
      "execution_count": null,
      "metadata": {
        "colab": {
          "base_uri": "https://localhost:8080/"
        },
        "id": "Qsi0_horLudi",
        "outputId": "fad752fb-c2b7-439c-aa42-e69229a78f7f"
      },
      "outputs": [
        {
          "output_type": "stream",
          "name": "stdout",
          "text": [
            "NLTK stemme :   Available --> avail\n",
            "apacy lemmas:  Available --> ['as', 'per', 'your', 'request', \"'\", 'mell', 'mell', '(', 'oru', 'minnaminungint', 'nurungu', 'vettam', ')', \"'\", 'ha', 'been', 'set', 'as', 'your', 'callertun', 'for', 'all', 'caller', '.', 'press', '*', '9', 'to', 'copi', 'your', 'friend', 'callertun']\n"
          ]
        }
      ],
      "source": [
        "#print comparison beween stemming of nltk and spaCy tokens\n",
        "print(\"NLTK stemme :  \",flattenOriginalMsg[5],\"-->\",NLTKStemme[5] )\n",
        "print(\"apacy lemmas: \",flattenOriginalMsg[5],\"-->\", spacyStemmes[7] )"
      ]
    },
    {
      "cell_type": "markdown",
      "metadata": {
        "id": "_Grs68NhJxuA"
      },
      "source": [
        "As we can implement from the prints above\n",
        "\n",
        "1.   NLTK stemme outputs the same amount of words as the original amount wile spacy lemmas are much more\n",
        "2.   The NLTK stemme transformation include capital to lower case letters, 's' 'ing','y' drop\n",
        "\n"
      ]
    },
    {
      "cell_type": "markdown",
      "metadata": {
        "id": "vNnd4cE7LOCT"
      },
      "source": [
        "## 8.) Repeat step 4 on the resultant text achieved after tokenization, lemmatization and stemming."
      ]
    },
    {
      "cell_type": "code",
      "execution_count": null,
      "metadata": {
        "colab": {
          "base_uri": "https://localhost:8080/",
          "height": 293
        },
        "id": "LV7KNo6bQv2C",
        "outputId": "1a75d360-2b62-4b10-a774-a34c18900625"
      },
      "outputs": [
        {
          "output_type": "execute_result",
          "data": {
            "text/plain": [
              "  label                                                msg  \\\n",
              "0   ham  Go until jurong point, crazy.. Available only ...   \n",
              "1   ham                      Ok lar... Joking wif u oni...   \n",
              "2  spam  Free entry in 2 a wkly comp to win FA Cup fina...   \n",
              "3   ham  U dun say so early hor... U c already then say...   \n",
              "4   ham  Nah I don't think he goes to usf, he lives aro...   \n",
              "\n",
              "                                          NLTK token  \\\n",
              "0  [Go, until, jurong, point, ,, crazy, .., Avail...   \n",
              "1           [Ok, lar, ..., Joking, wif, u, oni, ...]   \n",
              "2  [Free, entry, in, 2, a, wkly, comp, to, win, F...   \n",
              "3  [U, dun, say, so, early, hor, ..., U, c, alrea...   \n",
              "4  [Nah, I, do, n't, think, he, goes, to, usf, ,,...   \n",
              "\n",
              "                                          NLTK lemma  \\\n",
              "0  [Go, until, jurong, point, ,, crazy, .., Avail...   \n",
              "1           [Ok, lar, ..., Joking, wif, u, oni, ...]   \n",
              "2  [Free, entry, in, 2, a, wkly, comp, to, win, F...   \n",
              "3  [U, dun, say, so, early, hor, ..., U, c, alrea...   \n",
              "4  [Nah, I, do, n't, think, he, go, to, usf, ,, h...   \n",
              "\n",
              "                                          NLTK stems  \\\n",
              "0  [go, until, jurong, point, ,, crazi, .., avail...   \n",
              "1             [ok, lar, ..., joke, wif, u, oni, ...]   \n",
              "2  [free, entri, in, 2, a, wkli, comp, to, win, f...   \n",
              "3  [u, dun, say, so, earli, hor, ..., u, c, alrea...   \n",
              "4  [nah, i, do, n't, think, he, goe, to, usf, ,, ...   \n",
              "\n",
              "                                        tokens_spacy  \\\n",
              "0  [Go, until, jurong, point, ,, crazy, .., Avail...   \n",
              "1           [Ok, lar, ..., Joking, wif, u, oni, ...]   \n",
              "2  [Free, entry, in, 2, a, wkly, comp, to, win, F...   \n",
              "3  [U, dun, say, so, early, hor, ..., U, c, alrea...   \n",
              "4  [Nah, I, do, n't, think, he, goes, to, usf, ,,...   \n",
              "\n",
              "                                        lemmas_spacy  \\\n",
              "0  [go, until, jurong, point, ,, crazy, .., avail...   \n",
              "1             [ok, lar, ..., joke, wif, u, oni, ...]   \n",
              "2  [free, entry, in, 2, a, wkly, comp, to, win, F...   \n",
              "3  [u, dun, say, so, early, hor, ..., u, c, alrea...   \n",
              "4  [nah, I, do, not, think, he, go, to, usf, ,, h...   \n",
              "\n",
              "                                         steme_spacy  \n",
              "0  [g, o,  , u, n, t, i, l,  , j, u, r, o, n, g, ...  \n",
              "1  [o, k,  , l, a, r, ., ., .,  , j, o, k, i, n, ...  \n",
              "2  [f, r, e, e,  , e, n, t, r, y,  , i, n,  , 2, ...  \n",
              "3  [u,  , d, u, n,  , s, a, y,  , s, o,  , e, a, ...  \n",
              "4  [n, a, h,  , i,  , d, o, n, ', t,  , t, h, i, ...  "
            ],
            "text/html": [
              "\n",
              "  <div id=\"df-ad71be9b-7449-478c-8910-bfd933ad6408\" class=\"colab-df-container\">\n",
              "    <div>\n",
              "<style scoped>\n",
              "    .dataframe tbody tr th:only-of-type {\n",
              "        vertical-align: middle;\n",
              "    }\n",
              "\n",
              "    .dataframe tbody tr th {\n",
              "        vertical-align: top;\n",
              "    }\n",
              "\n",
              "    .dataframe thead th {\n",
              "        text-align: right;\n",
              "    }\n",
              "</style>\n",
              "<table border=\"1\" class=\"dataframe\">\n",
              "  <thead>\n",
              "    <tr style=\"text-align: right;\">\n",
              "      <th></th>\n",
              "      <th>label</th>\n",
              "      <th>msg</th>\n",
              "      <th>NLTK token</th>\n",
              "      <th>NLTK lemma</th>\n",
              "      <th>NLTK stems</th>\n",
              "      <th>tokens_spacy</th>\n",
              "      <th>lemmas_spacy</th>\n",
              "      <th>steme_spacy</th>\n",
              "    </tr>\n",
              "  </thead>\n",
              "  <tbody>\n",
              "    <tr>\n",
              "      <th>0</th>\n",
              "      <td>ham</td>\n",
              "      <td>Go until jurong point, crazy.. Available only ...</td>\n",
              "      <td>[Go, until, jurong, point, ,, crazy, .., Avail...</td>\n",
              "      <td>[Go, until, jurong, point, ,, crazy, .., Avail...</td>\n",
              "      <td>[go, until, jurong, point, ,, crazi, .., avail...</td>\n",
              "      <td>[Go, until, jurong, point, ,, crazy, .., Avail...</td>\n",
              "      <td>[go, until, jurong, point, ,, crazy, .., avail...</td>\n",
              "      <td>[g, o,  , u, n, t, i, l,  , j, u, r, o, n, g, ...</td>\n",
              "    </tr>\n",
              "    <tr>\n",
              "      <th>1</th>\n",
              "      <td>ham</td>\n",
              "      <td>Ok lar... Joking wif u oni...</td>\n",
              "      <td>[Ok, lar, ..., Joking, wif, u, oni, ...]</td>\n",
              "      <td>[Ok, lar, ..., Joking, wif, u, oni, ...]</td>\n",
              "      <td>[ok, lar, ..., joke, wif, u, oni, ...]</td>\n",
              "      <td>[Ok, lar, ..., Joking, wif, u, oni, ...]</td>\n",
              "      <td>[ok, lar, ..., joke, wif, u, oni, ...]</td>\n",
              "      <td>[o, k,  , l, a, r, ., ., .,  , j, o, k, i, n, ...</td>\n",
              "    </tr>\n",
              "    <tr>\n",
              "      <th>2</th>\n",
              "      <td>spam</td>\n",
              "      <td>Free entry in 2 a wkly comp to win FA Cup fina...</td>\n",
              "      <td>[Free, entry, in, 2, a, wkly, comp, to, win, F...</td>\n",
              "      <td>[Free, entry, in, 2, a, wkly, comp, to, win, F...</td>\n",
              "      <td>[free, entri, in, 2, a, wkli, comp, to, win, f...</td>\n",
              "      <td>[Free, entry, in, 2, a, wkly, comp, to, win, F...</td>\n",
              "      <td>[free, entry, in, 2, a, wkly, comp, to, win, F...</td>\n",
              "      <td>[f, r, e, e,  , e, n, t, r, y,  , i, n,  , 2, ...</td>\n",
              "    </tr>\n",
              "    <tr>\n",
              "      <th>3</th>\n",
              "      <td>ham</td>\n",
              "      <td>U dun say so early hor... U c already then say...</td>\n",
              "      <td>[U, dun, say, so, early, hor, ..., U, c, alrea...</td>\n",
              "      <td>[U, dun, say, so, early, hor, ..., U, c, alrea...</td>\n",
              "      <td>[u, dun, say, so, earli, hor, ..., u, c, alrea...</td>\n",
              "      <td>[U, dun, say, so, early, hor, ..., U, c, alrea...</td>\n",
              "      <td>[u, dun, say, so, early, hor, ..., u, c, alrea...</td>\n",
              "      <td>[u,  , d, u, n,  , s, a, y,  , s, o,  , e, a, ...</td>\n",
              "    </tr>\n",
              "    <tr>\n",
              "      <th>4</th>\n",
              "      <td>ham</td>\n",
              "      <td>Nah I don't think he goes to usf, he lives aro...</td>\n",
              "      <td>[Nah, I, do, n't, think, he, goes, to, usf, ,,...</td>\n",
              "      <td>[Nah, I, do, n't, think, he, go, to, usf, ,, h...</td>\n",
              "      <td>[nah, i, do, n't, think, he, goe, to, usf, ,, ...</td>\n",
              "      <td>[Nah, I, do, n't, think, he, goes, to, usf, ,,...</td>\n",
              "      <td>[nah, I, do, not, think, he, go, to, usf, ,, h...</td>\n",
              "      <td>[n, a, h,  , i,  , d, o, n, ', t,  , t, h, i, ...</td>\n",
              "    </tr>\n",
              "  </tbody>\n",
              "</table>\n",
              "</div>\n",
              "    <div class=\"colab-df-buttons\">\n",
              "\n",
              "  <div class=\"colab-df-container\">\n",
              "    <button class=\"colab-df-convert\" onclick=\"convertToInteractive('df-ad71be9b-7449-478c-8910-bfd933ad6408')\"\n",
              "            title=\"Convert this dataframe to an interactive table.\"\n",
              "            style=\"display:none;\">\n",
              "\n",
              "  <svg xmlns=\"http://www.w3.org/2000/svg\" height=\"24px\" viewBox=\"0 -960 960 960\">\n",
              "    <path d=\"M120-120v-720h720v720H120Zm60-500h600v-160H180v160Zm220 220h160v-160H400v160Zm0 220h160v-160H400v160ZM180-400h160v-160H180v160Zm440 0h160v-160H620v160ZM180-180h160v-160H180v160Zm440 0h160v-160H620v160Z\"/>\n",
              "  </svg>\n",
              "    </button>\n",
              "\n",
              "  <style>\n",
              "    .colab-df-container {\n",
              "      display:flex;\n",
              "      gap: 12px;\n",
              "    }\n",
              "\n",
              "    .colab-df-convert {\n",
              "      background-color: #E8F0FE;\n",
              "      border: none;\n",
              "      border-radius: 50%;\n",
              "      cursor: pointer;\n",
              "      display: none;\n",
              "      fill: #1967D2;\n",
              "      height: 32px;\n",
              "      padding: 0 0 0 0;\n",
              "      width: 32px;\n",
              "    }\n",
              "\n",
              "    .colab-df-convert:hover {\n",
              "      background-color: #E2EBFA;\n",
              "      box-shadow: 0px 1px 2px rgba(60, 64, 67, 0.3), 0px 1px 3px 1px rgba(60, 64, 67, 0.15);\n",
              "      fill: #174EA6;\n",
              "    }\n",
              "\n",
              "    .colab-df-buttons div {\n",
              "      margin-bottom: 4px;\n",
              "    }\n",
              "\n",
              "    [theme=dark] .colab-df-convert {\n",
              "      background-color: #3B4455;\n",
              "      fill: #D2E3FC;\n",
              "    }\n",
              "\n",
              "    [theme=dark] .colab-df-convert:hover {\n",
              "      background-color: #434B5C;\n",
              "      box-shadow: 0px 1px 3px 1px rgba(0, 0, 0, 0.15);\n",
              "      filter: drop-shadow(0px 1px 2px rgba(0, 0, 0, 0.3));\n",
              "      fill: #FFFFFF;\n",
              "    }\n",
              "  </style>\n",
              "\n",
              "    <script>\n",
              "      const buttonEl =\n",
              "        document.querySelector('#df-ad71be9b-7449-478c-8910-bfd933ad6408 button.colab-df-convert');\n",
              "      buttonEl.style.display =\n",
              "        google.colab.kernel.accessAllowed ? 'block' : 'none';\n",
              "\n",
              "      async function convertToInteractive(key) {\n",
              "        const element = document.querySelector('#df-ad71be9b-7449-478c-8910-bfd933ad6408');\n",
              "        const dataTable =\n",
              "          await google.colab.kernel.invokeFunction('convertToInteractive',\n",
              "                                                    [key], {});\n",
              "        if (!dataTable) return;\n",
              "\n",
              "        const docLinkHtml = 'Like what you see? Visit the ' +\n",
              "          '<a target=\"_blank\" href=https://colab.research.google.com/notebooks/data_table.ipynb>data table notebook</a>'\n",
              "          + ' to learn more about interactive tables.';\n",
              "        element.innerHTML = '';\n",
              "        dataTable['output_type'] = 'display_data';\n",
              "        await google.colab.output.renderOutput(dataTable, element);\n",
              "        const docLink = document.createElement('div');\n",
              "        docLink.innerHTML = docLinkHtml;\n",
              "        element.appendChild(docLink);\n",
              "      }\n",
              "    </script>\n",
              "  </div>\n",
              "\n",
              "\n",
              "<div id=\"df-fa99ca07-bcb7-4fa6-872b-d3667a853b33\">\n",
              "  <button class=\"colab-df-quickchart\" onclick=\"quickchart('df-fa99ca07-bcb7-4fa6-872b-d3667a853b33')\"\n",
              "            title=\"Suggest charts\"\n",
              "            style=\"display:none;\">\n",
              "\n",
              "<svg xmlns=\"http://www.w3.org/2000/svg\" height=\"24px\"viewBox=\"0 0 24 24\"\n",
              "     width=\"24px\">\n",
              "    <g>\n",
              "        <path d=\"M19 3H5c-1.1 0-2 .9-2 2v14c0 1.1.9 2 2 2h14c1.1 0 2-.9 2-2V5c0-1.1-.9-2-2-2zM9 17H7v-7h2v7zm4 0h-2V7h2v10zm4 0h-2v-4h2v4z\"/>\n",
              "    </g>\n",
              "</svg>\n",
              "  </button>\n",
              "\n",
              "<style>\n",
              "  .colab-df-quickchart {\n",
              "      --bg-color: #E8F0FE;\n",
              "      --fill-color: #1967D2;\n",
              "      --hover-bg-color: #E2EBFA;\n",
              "      --hover-fill-color: #174EA6;\n",
              "      --disabled-fill-color: #AAA;\n",
              "      --disabled-bg-color: #DDD;\n",
              "  }\n",
              "\n",
              "  [theme=dark] .colab-df-quickchart {\n",
              "      --bg-color: #3B4455;\n",
              "      --fill-color: #D2E3FC;\n",
              "      --hover-bg-color: #434B5C;\n",
              "      --hover-fill-color: #FFFFFF;\n",
              "      --disabled-bg-color: #3B4455;\n",
              "      --disabled-fill-color: #666;\n",
              "  }\n",
              "\n",
              "  .colab-df-quickchart {\n",
              "    background-color: var(--bg-color);\n",
              "    border: none;\n",
              "    border-radius: 50%;\n",
              "    cursor: pointer;\n",
              "    display: none;\n",
              "    fill: var(--fill-color);\n",
              "    height: 32px;\n",
              "    padding: 0;\n",
              "    width: 32px;\n",
              "  }\n",
              "\n",
              "  .colab-df-quickchart:hover {\n",
              "    background-color: var(--hover-bg-color);\n",
              "    box-shadow: 0 1px 2px rgba(60, 64, 67, 0.3), 0 1px 3px 1px rgba(60, 64, 67, 0.15);\n",
              "    fill: var(--button-hover-fill-color);\n",
              "  }\n",
              "\n",
              "  .colab-df-quickchart-complete:disabled,\n",
              "  .colab-df-quickchart-complete:disabled:hover {\n",
              "    background-color: var(--disabled-bg-color);\n",
              "    fill: var(--disabled-fill-color);\n",
              "    box-shadow: none;\n",
              "  }\n",
              "\n",
              "  .colab-df-spinner {\n",
              "    border: 2px solid var(--fill-color);\n",
              "    border-color: transparent;\n",
              "    border-bottom-color: var(--fill-color);\n",
              "    animation:\n",
              "      spin 1s steps(1) infinite;\n",
              "  }\n",
              "\n",
              "  @keyframes spin {\n",
              "    0% {\n",
              "      border-color: transparent;\n",
              "      border-bottom-color: var(--fill-color);\n",
              "      border-left-color: var(--fill-color);\n",
              "    }\n",
              "    20% {\n",
              "      border-color: transparent;\n",
              "      border-left-color: var(--fill-color);\n",
              "      border-top-color: var(--fill-color);\n",
              "    }\n",
              "    30% {\n",
              "      border-color: transparent;\n",
              "      border-left-color: var(--fill-color);\n",
              "      border-top-color: var(--fill-color);\n",
              "      border-right-color: var(--fill-color);\n",
              "    }\n",
              "    40% {\n",
              "      border-color: transparent;\n",
              "      border-right-color: var(--fill-color);\n",
              "      border-top-color: var(--fill-color);\n",
              "    }\n",
              "    60% {\n",
              "      border-color: transparent;\n",
              "      border-right-color: var(--fill-color);\n",
              "    }\n",
              "    80% {\n",
              "      border-color: transparent;\n",
              "      border-right-color: var(--fill-color);\n",
              "      border-bottom-color: var(--fill-color);\n",
              "    }\n",
              "    90% {\n",
              "      border-color: transparent;\n",
              "      border-bottom-color: var(--fill-color);\n",
              "    }\n",
              "  }\n",
              "</style>\n",
              "\n",
              "  <script>\n",
              "    async function quickchart(key) {\n",
              "      const quickchartButtonEl =\n",
              "        document.querySelector('#' + key + ' button');\n",
              "      quickchartButtonEl.disabled = true;  // To prevent multiple clicks.\n",
              "      quickchartButtonEl.classList.add('colab-df-spinner');\n",
              "      try {\n",
              "        const charts = await google.colab.kernel.invokeFunction(\n",
              "            'suggestCharts', [key], {});\n",
              "      } catch (error) {\n",
              "        console.error('Error during call to suggestCharts:', error);\n",
              "      }\n",
              "      quickchartButtonEl.classList.remove('colab-df-spinner');\n",
              "      quickchartButtonEl.classList.add('colab-df-quickchart-complete');\n",
              "    }\n",
              "    (() => {\n",
              "      let quickchartButtonEl =\n",
              "        document.querySelector('#df-fa99ca07-bcb7-4fa6-872b-d3667a853b33 button');\n",
              "      quickchartButtonEl.style.display =\n",
              "        google.colab.kernel.accessAllowed ? 'block' : 'none';\n",
              "    })();\n",
              "  </script>\n",
              "</div>\n",
              "\n",
              "    </div>\n",
              "  </div>\n"
            ],
            "application/vnd.google.colaboratory.intrinsic+json": {
              "type": "dataframe",
              "variable_name": "spam2",
              "summary": "{\n  \"name\": \"spam2\",\n  \"rows\": 5572,\n  \"fields\": [\n    {\n      \"column\": \"label\",\n      \"properties\": {\n        \"dtype\": \"category\",\n        \"num_unique_values\": 2,\n        \"samples\": [\n          \"spam\",\n          \"ham\"\n        ],\n        \"semantic_type\": \"\",\n        \"description\": \"\"\n      }\n    },\n    {\n      \"column\": \"msg\",\n      \"properties\": {\n        \"dtype\": \"string\",\n        \"num_unique_values\": 5169,\n        \"samples\": [\n          \"Did u download the fring app?\",\n          \"Pass dis to all ur contacts n see wat u get! Red;i'm in luv wid u. Blue;u put a smile on my face. Purple;u r realy hot. Pink;u r so swt. Orange;i thnk i lyk u. Green;i realy wana go out wid u. Yelow;i wnt u bck. Black;i'm jealous of u. Brown;i miss you Nw plz giv me one color\"\n        ],\n        \"semantic_type\": \"\",\n        \"description\": \"\"\n      }\n    },\n    {\n      \"column\": \"NLTK token\",\n      \"properties\": {\n        \"dtype\": \"object\",\n        \"semantic_type\": \"\",\n        \"description\": \"\"\n      }\n    },\n    {\n      \"column\": \"NLTK lemma\",\n      \"properties\": {\n        \"dtype\": \"object\",\n        \"semantic_type\": \"\",\n        \"description\": \"\"\n      }\n    },\n    {\n      \"column\": \"NLTK stems\",\n      \"properties\": {\n        \"dtype\": \"object\",\n        \"semantic_type\": \"\",\n        \"description\": \"\"\n      }\n    },\n    {\n      \"column\": \"tokens_spacy\",\n      \"properties\": {\n        \"dtype\": \"object\",\n        \"semantic_type\": \"\",\n        \"description\": \"\"\n      }\n    },\n    {\n      \"column\": \"lemmas_spacy\",\n      \"properties\": {\n        \"dtype\": \"object\",\n        \"semantic_type\": \"\",\n        \"description\": \"\"\n      }\n    },\n    {\n      \"column\": \"steme_spacy\",\n      \"properties\": {\n        \"dtype\": \"object\",\n        \"semantic_type\": \"\",\n        \"description\": \"\"\n      }\n    }\n  ]\n}"
            }
          },
          "metadata": {},
          "execution_count": 293
        }
      ],
      "source": [
        "spam2.head() #printing the new df contans all tokens lemmas and stemms"
      ]
    },
    {
      "cell_type": "code",
      "execution_count": null,
      "metadata": {
        "colab": {
          "base_uri": "https://localhost:8080/"
        },
        "id": "gGQyf4-YOGaA",
        "outputId": "bb2598a5-d5ac-4c24-a0a9-88cbe78ec277"
      },
      "outputs": [
        {
          "output_type": "stream",
          "name": "stdout",
          "text": [
            "NLTK tokenized amount: 104193\n",
            "spacy tokenized amount: 103533\n"
          ]
        }
      ],
      "source": [
        "print(\"NLTK tokenized amount:\", len(NLTKtokens))\n",
        "print(\"spacy tokenized amount:\", len(spacyTokens))"
      ]
    },
    {
      "cell_type": "code",
      "execution_count": null,
      "metadata": {
        "colab": {
          "base_uri": "https://localhost:8080/",
          "height": 110
        },
        "id": "r4VjrKck6Tg_",
        "outputId": "fb4a837e-8c9a-4890-f2fa-2ef841e66616"
      },
      "outputs": [
        {
          "output_type": "error",
          "ename": "IndentationError",
          "evalue": "unindent does not match any outer indentation level (<tokenize>, line 12)",
          "traceback": [
            "\u001b[0;36m  File \u001b[0;32m\"<tokenize>\"\u001b[0;36m, line \u001b[0;32m12\u001b[0m\n\u001b[0;31m    def count_words(message):\u001b[0m\n\u001b[0m    ^\u001b[0m\n\u001b[0;31mIndentationError\u001b[0m\u001b[0;31m:\u001b[0m unindent does not match any outer indentation level\n"
          ]
        }
      ],
      "source": [
        "def analize_list_statistics(pandasSerie):\n",
        "  lst = pandasSerie.tolist()\n",
        "  allMsg =' '.join([' '.join(sublist) for sublist in lst])\n",
        "  words = allMsg.split()\n",
        "  tatalWords = len(words)\n",
        "  avgWordPerMsg = tatalWords/len(lst) if lst else 0\n",
        "  wordFreq = Counter(words)\n",
        "  mostFreq = wordFreq.most_common(5)\n",
        "  rareWords = sum(1 for word,freq in wordFreq.items() if freq == 1)\n",
        "  return tatalWords, avgWordPerMsg, mostFreq, rareWords\n",
        "\n",
        " def count_words(message):\n",
        "    return len(message)"
      ]
    },
    {
      "cell_type": "code",
      "execution_count": null,
      "metadata": {
        "colab": {
          "base_uri": "https://localhost:8080/"
        },
        "id": "Zr3yxrxNOXPo",
        "outputId": "7fff99a5-ff86-4c69-c872-f47196a17115"
      },
      "outputs": [
        {
          "output_type": "stream",
          "name": "stdout",
          "text": [
            "NLTK tokens averaged number of words per message: 18.699389806173727\n",
            "NLTK Most friquent token  [('.', 4886), ('to', 2148), ('I', 1956), ('you', 1888), (',', 1871)]\n"
          ]
        }
      ],
      "source": [
        "print(\"NLTK tokens averaged number of words per message:\", spam2[\"NLTK token\"].apply(count_words).mean())\n",
        "print(\"NLTK Most friquent token \", Counter(spam2['NLTK token'].apply(tuple).sum()).most_common(5) )"
      ]
    },
    {
      "cell_type": "code",
      "execution_count": null,
      "metadata": {
        "colab": {
          "base_uri": "https://localhost:8080/"
        },
        "id": "BEP09_yDasdJ",
        "outputId": "ee0c7d7b-171f-4da6-bb36-9521f9fbe206"
      },
      "outputs": [
        {
          "output_type": "stream",
          "name": "stdout",
          "text": [
            "The rare words are: ['jurong', 'Cine', 'amore', 'Joking', 'Tb', 'chgs', 'aids', 'patent', 'cried', 'breather', 'granted', 'fulfil', 'XXXMobileMovieClub', '//wap', 'xxxmobilemovieclub.com', 'n=QJKGIGHJJGCBL', 'ThatåÕs', 'gota', 'Macedonia', 'goals/team', 'SCOTLAND', '4txt/Ì¼1.20', 'POBOXox36504W45WQ', 'Ffffffffff', 'forced', 'packing', 'Ahhh', 'Work', 'vaguely', 'apologetic', 'fallen', 'actin', 'spoilt', 'Till', 'badly', 'cheers', 'fear', 'fainting', 'housework', 'Quick', 'cuppa', 'å£5/month', 'timings', 'watts', 'Arabian', 'steed', 'Yummy', '07732584351', 'Rodger', 'Burns', 'SEEING', 'endowed', 'hep', 'immunisation', 'Fair', 'stubborn', 'sucker', 'Hospitals', 'suckers', 'thinked', 'smarter', 'crashing', 'accomodations', '\\\\the', 'cave\\\\', 'offered', 'embarassing', 'Sptv', 'Jersey', 'Devils', 'Wings', 'Ice', 'Hockey', 'Incorrect', 'SPTV', 'Mallika', 'Sherawat', 'gauti', 'sehwag', 'burger', 'Girls', 'seekers', '\\\\Divorce', 'Barbie\\\\', 'Ken', 'Finished', 'performed', 'peoples', 'operate', 'multis', 'factory', 'Ela', 'kano.', 'tho-', 'you\\x89Û÷ll', 'casualty', 'stuff42moro', 'includes', 'loans', 'hairdressers', 'beforehand', 'ams', '4the', 'signin', 'memorable', 'ip', 'minecraft', 'server', 'Grumpy', 'lying', 'jokes', 'plural', 'dinner.msg', 'openin', 'formal', 'puttin', '0871277810910p/min', 'egg-potato', 'ratio', '5/9/03', '09064019788', 'BOX42WR29C', '-apples', 'pairs', 'malarky', '7548', '4041', 'sao', 'predict', 'involve', 'imposed', 'DEL', 'SUM', 'LUCYxx', 'Tmorrow.pls', 'accomodate', 'Txting', 'GRAVEL', 'hotmail.com', 'svc', 'Hardcore', '69988', 'Age', 'Verify', '\\\\Nver', 'Hearts', 'dot', 'staff', 'Randy', 'Ummma.will', 'in.our', 'Sindu', 'nevering', 'typical', 'dirt', 'chores', 'exist', 'hail', 'mist', 'Aaooooright', 'annoncement', '07046744435', 'envy', 'excited', '-PLS', 'bootydelious', '32/F', 'YES-434', 'NO-434', 'www.SMS.ac/u/bootydelious', 'BangBabes', 'SHOULD', 'GoTo', 'bangb', 'internet/service', 'cultures', '09061701939', 'S89', 'missunderstding', 'bridge', 'lager', 'AXIS', 'BANK', 'Bloody', 'surname', 'clue', 'spanish', 'begins', 'Turns', '~', 'lifted', 'hopes', 'approaches', 'great.bye', 'handsome', 'finding', 'Working', '30th', 'www.areyouunique.co.uk', 'league', 'week.|', 'ors', 'stool', '1pm', 'babyjontet', 'ENC', 'ga', 'alter', 'dats', 'dogg', 'refund', 'prediction', 'Tired', 'ubandu', 'disk', 'scenery', 'flyng', 'star', 'ARIES', 'elama', 'mudyadhu', 'strict', 'Teacher', 'Exam', 'Lessons', 'gandhipuram', 'rubber', 'Sam', '-msg', 'thirtyeight', 'hearing', 'PLEASSSSSSSEEEEEE', 'TEL', 'AVENT', 'SPORTSx', 'Although', 'baig', 'watches', 'Ups', '3days', 'usps', 'bribe', 'nipost', 'headin', 'suzy', 'MINI', 'LUTON', '0125698789', 'AROUND', 'Dint', 'Wana', 'sometme', 'club4mobiles.com', '87070', '150p/wk', 'Club4', 'Box1146', 'MK45', '2WT', 'evo', 'Jealous', 'chart', 'narcotics', 'Usf', 'objection', 'rob', 'mack', 'theater', 'Celebrations', 'tool', 'ahold', 'cruisin', 'jenny', 'tonite.busy', 'tonite.things', 'ok.varunnathu', 'edukkukayee', 'raksha', 'ollu.but', 'Resend', '3680.Offer', '28thFeb.T', 'GURL', 'appropriate', 'diesel', 'Def', 'fridge', 'womdarfull', 'Rodds1', '21/m', 'Aberdeen', 'United', 'Kingdom', 'Him', '//img', 'ac/W/icmb3cktz8r7', '-4', 'Dates', 'HIDE', 'remb', 'Jos', 'Gossip', 'bookshelf', '85222', 'WinnersClub', '84', 'GBP1.50/week', 'mylife', 'l8', 'Guild', 'Bristol', 'apo', 'k.good', 'evaporated', 'privacy', 'stealing', 'employer', 'Ta-Daaaaa', 'wined', 'dined', 'Bless', 'hiding', 'huiming', 'prestige', 'shag', 'do.Interested', 'sextextuk.com', 'XXUK', 'SUZY', '69876', 'Jeremiah', 'iphone', 'apeshit', 'safely', 'ISH', 'AGO', 'WTF', 'calling.Forgot', 'Onam', 'Sirji.I', 'person.Meet', 'Qatar', 'Insha', 'Allah.Rakhesh', 'Tata', 'AIG', '08708800282', 'andrews-boy', '-DB-', 'audrey', 'Trying', 'dawns', 'refreshed', 'Z', 'call2optout/F4Q=', 'RP176781', 'www.regalportfolio.co.uk', 'Services', '08717205546', 'uniform', 'spoil', 'Reference', 'T91', 'GBP', '09057039994', 'Face', 'Lindsay', 'bars', 'heron', 'payasam', 'rinu', 'taught', 'Becaus', 'verifying', 'Prabu', 'repairs', 'followin', 'wallet', '945+', 'owl', 'Fr', 'kickboxing', 'lap', '7.30ish', 'performance', 'calculated', 'month.not', 'Wahleykkum.sharing', 'news.By', 'joined.Hope', 'fine.Inshah', 'Allah', 'sometime.Rakhesh', 'visitor', '2814032', '3xå£150pw', 'eå£nd', 'stoners', 'disastrous', 'fav', 'wld', 'Headin', 'busetop', 'iron', 'Okies', 'Wendy', '09064012103', 'box334sk38ch', '09111032124', 'PoBox12n146tf150p', 'Siva', '09058094455', 'speaking', 'expression', '1.childish', '2.naughty', '3.Sentiment', '4.rowdy', '5.ful', 'attitude', '6.romantic', '7.shy', '8.Attractive', '9.funny', '.irritating', '.lovable', 'urination', 'hillsborough', 'Shoul', 'txt~journey', 'hasnt', 'WERETHE', 'MONKEESPEOPLE', 'MONKEYAROUND', 'HOWDY', 'GORGEOUS', 'blimey', 'exercise', 'concentration', 'hanks', 'lotsly', 'detail', 'optimistic', 'Si', 'si', 'AMY', 'INTELLIGENT', 'WOMAN', 'LOT', 'WORRY', 'consistently', 'practicum', 'links', 'ears', '1.20', 'feeling.wavering', 'individual.time', 'heal', 'UpgrdCentre', '9153', 'oral', 'Doggy', 'slippery', 'bike', 'okmail', 'enters', 'differ', 'differ.be', 'MOAN', '69888Nyt', 'heart-', 'machi', 'mcr', 'Almost', 'jaykwon', 'thuglyfe', 'falconerf', 'faded', 'glory', 'ralphs', 'reunion', 'accenture', 'jackson', 'reache', 'nuerologist', 'Lolnice', 'westshore', 'hyde', 'significance', 'ammo', 'ak', '150p/Mtmsgrcvd18+', 'Boltblue', 'MONO', 'POLY3', 'Slide', 'Slow', 'Jamz', 'Toxic', 'topped', '//www.bubbletext.com', 'Pin', 'tgxxrz', 'problematic', 'unconscious', 'adults', 'abnormally', '0871-872-9755', 'merry', \"x'mas\", 'recieve', '24hrs', 'Channel', 'Teletext', 'Pg', 'double-faggot', '07815296484', '41782', '18/11/04', 'Bani', 'leads', 'buttons', 'www.Applausestore.com', 'MonthlySubscription', '50p/msg', 'max6/month', 'CsC', '2stop', 'famous', \"'anything\", 'unconditionally', 'temper', \"'MARRIED\", 'oclock', 'bash', 'cooped', 'invitation', 'Cali', 'weddin', 'BTW', 'alibi', 'sink', 'paces', 'cage', 'surrounded', 'reminding', 'cuck', 'weed-deficient', 'acknowledgement', 'astoundingly', 'tactless', 'oath', 'magic', 'it\\x89Û÷s', 'perhaps', 'silly', 'isn\\x89Û÷t', 'uv', 'causes', 'mutations', 'Sunscreen', 'thesedays', 'Having', 'haven', 'bao', 'sugardad', 'gee', 'brownie', 'ninish', 'icky', 'freek', 'Jen', 'ridden', 'ey', 'anyways', 'slap', 'MISSY', 'goggles', 'arguing', '09050005321', 'Arngd', 'walkin', 'unfortuntly', 'bites', 'frnt', 'sayin', 'Bite', 'textand', '08002988890', 'ex-wife', 'JJC', 'tendencies', 'Yogasana', '\\\\Pete', 'meive', 'gotany', 'credit\\\\', 'srsly', 'yi', '07753741225', '08715203677', '42478', '24/10/04', 'prix', 'stands', 'nitz', 'blastin', 'Tsunamis', 'occur', 'Rajnikant', 'Ocean', 'Speaking', 'TaKe', 'gET', 'WeLL', 'sOOn', 'XCLUSIVE', 'CLUBSAISAI', '28/5', 'SOIREE', 'SPECIALE', 'ZOUK', 'PARIS.FREE', 'ROSES', 'LADIES', '07946746291/07880867867', 'bridgwater', 'banter', '22', 'dependents', 'THANX4', 'CER', 'CATCH', 'OFTEN', 'SOON.C', '\\\\Happy', 'valentines', 'day\\\\', 'hundreds', 'handsomes', 'beauties', 'aunties', 'shock', 'reaction', 'friendships', 'grow', 'dismay', 'MAKE', 'FIFTEEN', \"'RE\", 'CONCERNED', 'tootsie', 'Seventeen', 'hundred', 'ml', 'apply.2', 'Biola', 'fetching', 'restock', 'brighten', 'Allo', 'braved', 'triumphed', 'we\\x89Û÷re', 'b\\x89Û÷ham', 'jolly', 'uncomfortable', '08715203694', 'Sonetimes', 'rough', 'wesleys', 'cloud', 'wikipedia.com', '88800', '89034', '08718711108', 'repent', 'positions', 'kama', 'sutra', 'En', 'nange', 'bakra', 'kalstiya', 'tea/coffee', 'lakhs', 'sun0819', '\\\\You', 'TOP', '08452810071', 'Ditto', 'ANYTHING', 'Peace', 'wetherspoons', 'Piggy', 'Cause', 'freaky', 'scrappy', \"'hex\", 'Explain', 'sdryb8i', 'sue', 'lapdancer', 'SUE', 'TextOperator', 'G2', '1DA', '150ppmsg', 'Crying', 'Building', 'Imprtant', 'TOMORW', 'cherthala.in', 'bfore', 'start.i', 'accordingly.or', 'coming.tmorow', 'engaged', '448712404000', '08712404000', '1405', '1680', '1843', 'poop', 'entrepreneurs', 'corporation', 'prevent', 'dehydration', 'fluids', 'so.so', 'trek', 'harri', 'N-Gage', 'deck', 'www.cnupdates.com/newsletter', 'alerts', 'shitstorm', 'attributed', '08714712388', '+449071512431', 'sth', 'specs', 'PX3748', '08714712394', 'Macha', 'upset.i', 'mindset.believe', 'us.LET', 'AGAIN.call', \"S'fine\", 'wondar', 'flim', 'jelly', 'still.maybe', 'it.or', 'mad.then', 'life.and', 'running.lets', 'scrumptious', 'dao', 'half8th', 'Exactly', 'jide', 'visiting', 'Email', 'AlertFrom', 'Jeri', 'StewartSize', '2KBSubject', 'Low-cost', 'prescripiton', 'drvgsTo', '123', 'Spring', 'steak', 'neglect', 'Leaving', 'opportunity.all', 'fast.pls', 'prayers', 'dear.Rakhesh', 'Thing', 'clocks', 'realised', '7.', 'wahay', 'Gaze', '82324', 'tattoos', 'gim', 'caveboy', 'Realy', 'sorry-i', 'Faith', 'you/carlos', 'is/are', 'vibrate', 'acting', 'Romantic', 'Paris', 'å£79', '08704439680Ts', 'grandmas', 'hungover', 'unclaimed', '09066368327', 'closingdate04/09/02', 'claimcode', 'M39M51', 'å£1.50pmmorefrommobile2Bremoved-MobyPOBox734LS27YF', 'gua', 'faber', 'Yest', 'dramatic', 'Schools', 'Apparently', 'damn', 'hunting', 'drunkard', 'idc', 'weaseling', 'trash', 'punish', 'Beerage', 'randomlly', 'fixes', 'spelling', '100p/SMS', 'Polyphonic', '087018728737', 'toppoly', 'tune', '81618', 'UnSub', 'fondly', 'DOGBREATH', 'SOUNDING', 'JAN', 'AL', 'weighed', 'Woohoo', 'uncountable', 'dictionary', '9996', '14thMarch', 'availa', '\\\\Petey', 'whereare', 'friendsare', 'theKingshead', 'canlove', 'Nic\\\\', 'few\\\\', 'Appt', 'RG21', '4JX', 'dled', 'smokin', 'Boooo', 'bec', 's.nervous', 'costumes', 'yowifes', 'Hint', 'outbid', 'simonwatson5120', 'Shinco', 'Plyr', 'ac/smsrewards', 'notifications', 'Youi', '\\\\BOO', 'ENJOYIN', 'YOURJOB', 'SEEMED', 'GETTIN', 'IåÕLLSPEAK', '2U', 'SOONLOTS', 'XXXX.\\\\', 'starshine', 'Ache', 'sips', 'SMSSERVICES', 'yourinclusive', 'Bits', 'turned', 'burial', 'RV', 'hol', 'RVx', 'Surely', 'VIDEO', 'HALF', 'PRICE', 'vouchers-Text', 'SavaMob-member', 'soo', 'comprehensive', 'Prashanthettan', 'samantha', 'guitar', 'impress', 'doug', 'realizes', 'trauma', 'swear', 'inner', 'tigress', '\\\\AH', 'POOR', 'URFEELING', 'BETTERSN', 'PROBTHAT', 'OVERDOSE', 'CAREFUL', 'LOTS', 'LOVEJEN', '83110', 'ana', 'tomarrow', 'sathy', 'RTO', 'Spoons', 'genius', 'corvettes', 'Virgin', 'Records', '09061104283', 'å£1.50pm', 'consider', 'bunkers', 'peaceful', '07808', 'XXXXXX', '08719899217', 'posh', 'chaps', 'trial', 'prods', 'champneys', 'dob', '0721072', 'philosophical', 'hole', 'american', 'Atleast', '-Shakespeare-', '09065171142-stopsms-08', 'Reminder', 'Goto', '//doit', 'mymoby', 'tv/', 'woul', 'curfew', 'gibe', 'MIDNIGHT', 'getsleep', 'studdying', 'massages', 'Yoyyooo', 'permissions', 'Gibbs', 'unsold.mike', 'hussey', 'unbelievable', 'faglord', 'Nutter', 'Cutter', 'Ctter', 'Cttergg', 'Cttargg', 'Ctargg', 'Ctagg', 'ie', 'thus', 'Superb', 'Thought-', 'grateful', 'happier', 'today.\\\\', 'agents', 'experiment', 'invoices', 'smell', 'tobacco', 'assumed', 'charles', 'lastest', 'Stereophonics', 'Marley', 'Dizzee', 'Racal', 'Libertines', 'Strokes', 'Nookii', 'Flirt', 'Bookmark', 'grinule', 'WHITE', 'FUDGE', 'OREOS', 'STORES', 'Zaher', 'nauseous', 'dieting', 'reminder', 'ashley', 'avalarr', 'hollalater', 'rounds', 'blogging', 'magicalsongs.blogspot.com', 'slices', 'kvb', 'å£1million', 'ppt150x3+normal', 'box403', 'w1t1jy', 'friday.hope', 'alternative.hope', 'ore', 'owo', 'wa', 'fro', 'samus', 'shoulders', 'Matthew', '09063440451', 'ppm150', 'Box334', 'SK38XH', 'vomitin', 'k.are', '09061749602', '528', 'HP20', '1YF', 'Made', 'stuffed', 'writhing', 'paypal', 'Voila', 'pockets', 'Theyre', 'hospitals', 'folks', '150p/SMS', 'sorta', 'blown', 'sophas', 'secondary', 'schools', 'applying', 'Contact', 'ogunrinde', 'lodging', 'Chk', 'belovd', 'ms', 'dict', 'Shb', 'Filthy', 'stories', 'Welp', 'retired', 'natwest', 'chad', 'gymnastics', 'Christians', '.a', 'token', 'you.thats', 'LIKING.BE', 'that.dont', 'aptitude', '2.15', 'horse', 'wrongly', 'boggy', 'biatch', 'hesitate', 'weakness', 'notebook', 'Reckon', 'eightish', 'carpark', 'polyPH', 'ah.the', 'tomorrow.call', '67441233', 'irene.ere', 'bus8,22,65,61,66,382', 'Ubi', 'cres', 'park.6ph', '5wkg', 'days.Ì¬n', 'sd', 'JULY', 'relaxing', '7am', '5ish', 'stripes', 'skirt', 'escalator', 'Feels', 'Beth', 'charlie', 'helen', 'syllabus', 'Panasonic', 'BluetoothHdset', 'DoubleMins', 'DoubleTxt', '7.30pm', 'Poyyarikatur', 'kolathupalayam', 'unjalur', 'erode', 'Hero', 'apt', 'opportunity.pls', 'EMAIL', 'Meat', 'supreme', 'cudnt', 'call.drove', 'ctla', 'home.left', 'ente', 'ishtamayoo', 'bakrid', 'glorious', 'finds', 'Prey', 'coaxing', 'images', 'fond', 'souveniers', 'Cougar-Pen', '09065394514', 'scratches', 'NO.1', 'SHEFFIELD', 'nanny', 'SHITIN', 'MYSELF', 'DEFO', 'HARDEST', 'CUM', 'MILLIONS', 'LEKDOG', 'Filling', 'blankets', 'thx', \"'its\", 'atten', 'iåÕd', 'indian', '09058097218', 'BLOKE', 'doesnåÕt', 'soiree', 'data', 'analysis', 'belligerent', 'BRISTOL', 'ST', 'APRIL', 'LES', 'OFF', 'RUDI', 'YRS', 'SNORING.THEY', 'DRUNK', 'YET', 'SENDS', 'INK', 'BATH', '515', 'throwing', 'process.networking', 'days.so', 'finalise', '.dont', 'visit.need', 'AREA', 'www.flirtparty.us', 'REPLYS150', 'dentist', 'Lul', 'gossip', 'nurses', 'shes', 'obese', 'Oyea', 'Ami', 'parchi', 'Kicchu', 'kaaj', 'korte', 'iccha', 'korche', 'tul', 'Dvd', 'copies', 'sculpture', 'surya', '.after', 'POKKIRI', 'attraction.i', 'me.she', 'thoughts.I', 'her.she', 'dream.love', 'name.my', 'her.my', 'her.will', 'sorrows.I', 'proove', 'planet.I', 'praises', 'makiing', 'sambar.life', 'then.will', 'me.I', \"FR'NDSHIP\", 'needle', 'Evn', 'itz', '4few', 'alwys', 'conected', 'spatula', 'cali', 'complexities', 'freely', 'taxes', 'outrageous', 'Ryder', 'unsold.now', 'gibbs', 'Elvis', 'Presleys', 'strips', 'postal', 'address.u', 'alright.Okay', 'GIFTS', 'cliff', 'wrking', 'sittin', 'drops', 'hen', 'smoked', 'dhoni', 'teju', 'hourish', 'ground.amla', 'convenience', 'evaluation', '449050000301', '09050000301', '80155', 'SWAP', 'chatter', 'Chat80155', 'rcd', 'Cancel', 'cheyyamo', '80160', 'www.txt43.com', '1.50p', 'Catching', 'throws', 'brothers', 'HMV1', 'errors', 'tau', 'sar', 'piah', 'Requests', '1stchoice.co.uk', 'Information', '08707808226', 'shade', 'copied', 'notified', 'marketing', '84122', '08450542832', 'Raining', 'virgins', 'sexual', 'theirs', 'CUTE', '69911', 'å£1.50p', 'sitter', 'kaitlyn', 'danger', 'peeps', 'comment', 'veggie', 'neighbors', 'computerless', 'balloon', 'pass.They', 'nt.swt', 'drms', 'Shesil', 'melody', 'macs', 'hme', 'islands', 'velachery', 'flippin', 'breaking', 'cstore', 'Annoying', 'hangin', 'alive.better', 'lodge', 'worrying', 'quizzes', 'popcorn', '087016248', '08719181503', 'thin', 'arguments', 'fed', 'himso', 'thanx.xx', 'map', 'semi', 'apart', 'SIM', 'EXP', '30Apr', 'maaaan', 'Guessin', 'Ilol', 'personally', 'wuldnt', 'lunchtime', 'organise', 'passable', 'phd', '5years', 'Prakesh', 'Teach', 'betta', 'invest', 'aging', 'products', 'BY', 'accommodation', 'global', 'www.phb1.com', 'ph:08700435505150p', 'submitting', 'cust', 'snatch', '\\\\Hello-/', 'drivby-:0quit', 'edrunk', 'iff', 'pthis', 'senrd-dnot', '^', 'dancce', 'drum', 'basq', 'ihave', '2nhite', 'ros', 'xxxxxxx\\\\', 'relieved', 'westonzoyland', 'greatness', 'europe', 'goin2bed', 'Only1more', 'mc', '2NITE-TELL', 'EVERY1', 'AVA', 'GOODTIME', 'OLI', 'RANG', 'MELNITE', 'IFINK', 'MITE', 'SORTED', 'EXPLAIN', 'EVERYTHIN', 'MON.L8RS.x', '08712402779', 'shun', 'bian', 'glass', 'exhibition', 'el', 'nino', 'himself', 'downstem', 'Hungry', '08718730555', 'wahala', 'inperialmusic', 'listening2the', 'byåÓleafcutter', 'johnåÓ-sounds', 'insects', 'molested', 'plumbing', 'remixed', 'evil', 'acid', 'didntgive', 'bellearlier', 'hunny', 'SERIOUSLY', 'THOSE', 'EXACT', 'WORDS', '09096102316', '2moro', 'JANE', 'cheery', '80488.biz', 'weirdo', 'stalk', 'profiles', 'Farm', '9am', '95/pax', 'deposit', 'jap', 'disappeared', 'certificate', 'publish', 'wheellock', 'EAT', 'destination', 'Fifty', 'settling', 'happenin', 'ola', 'cocksuckers', 'ipads', 'worthless', 'garbage', 'novelty', 't-shirt', 'DECIDED', 'COMPLETELY', 'BROKE', 'KNACKERED', 'JANX', 'P.S', 'DADS', '-NO', 'Designation', 'developer', 'jamster', 'videosound', 'videosounds+2', 'logos+musicnews', 'jamster.co.uk', '09701213186', 'jokin', 'careful', 'spirit', 'shattered', 'alrite', 'girlie', 'darker', 'styling', 'gray', 'Remembr', 'listn', 'watevr', '\\x89ÛÏHarry', 'minus', 'paragraphs', 'coveragd', 'vasai', 'retard', 'bathroom', 'sang', \"'Uptown\", 'Girl', '80', 'ANSWER', 'Icic', 'Syria', 'Canada', 'hearts', 'GOODNOON', 'gauge', 'completing', 'ax', 'surgical', 'emergency', 'unfolds', 'korean', 'Fredericksburg', 'Que', 'pases', 'un', 'buen', 'tiempo', 'Xavier', 'Bugis', 'tmrw', 'Compass', 'Soul', 'gnun', 'WAY2SMS.COM', 'Baaaaabe', 'misss', 'youuuuu', 'convince', 'witot', 'buyer', 'becz', 'undrstndng', 'avoids', 'suffer', 'steamboat', 'moji', 'forgive', 'tp', 'Bbq', '6ish', 'everyso', 'panicks', 'Bears', 'Pic', 'Nick', 'Tom', 'Dick', 'types', 'Auntie', 'huai', 'path', 'appear', '\\\\paths', 'reserve', 'thirunelvali', 'tackle', 'tonght', 'ploughing', 'pile', 'ironing', 'Staying', 'chinky', 'k.i', 'wi', 'nz', 'aust', 'bk', 'recharged', 'papa', 'detailed', 'losers', 'beta', 'HTTP', '//WWW.URAWINNER.COM', 'noncomittal', 'snickering', 'chords', 'before.went', '\\\\Speak', 'www.Ldew.com', 'win150ppmx3age16', 'THING', 'EXAMS', 'MARCH', 'REVISION', 'STILL', 'BOYF', 'INTERVIW', 'EXETER', 'WORRIED', 'spreadsheet', 'determine', '\\\\smokes', 'entire', 'arsenal', 'dartboard', 'doubles', 'trebles', 'thought-', 'recognises', 'alone\\\\', 'wisheds', 'intrepid', 'duo', 'Arms', 'tues', 'breeze', 'Fresh', 'Twittering', '\\\\GOODMORNING', 'ducking', 'chinchillas', 'function', 'headstart', '2.30ish', 'earlier-we', 'rummer', 'flying', 'optin', 'BBC', 'charts', 'thanks2', 'rajini', 'Summers', 'MATCHED', 'SUMMER', 'Help08714742804', 'spys', '09099725823', 'Bought', 'offering', 'Yalru', 'astne', 'innu', 'mundhe', 'halla', 'bilo', 'edhae', 'ovr', 'vargu', 'Kinda', 'prone', '07801543489', 'latests', 'No:83355', 'TC-LLC', 'NY-USA', '150p/Mt', 'msgrcvd18+', 'permission', 'LUCY', 'Hubby', 'meetins', 'cumin', '09099726395', 'Lucy', 'dose', 'tablet', 'incomm', 'lotr', 'maps', 'tiring', 'Uni', 'concentrating', 'browsin', 'compulsory', 'investigate', 'www.80488.biz', 'moneY', 'vitamin', 'Anyone', 'crucial', 'JSco', '2channel', 'leadership', 'skills', 'Psychic', 'ANS', 'w/question', 'JSCO', 'Host-based', 'IDPS', 'linux', 'systems', 'converter', 'Vote', 'Karaoke', 'SING', 'sayy', 'Jenny', 'Leanne.what', 'disc', 'champ', 'glasgow', 'lovin', 'install', 'browse', 'artists', 'corect', 'speling', 'i.e', 'Sarcasm', '1/08/03', '0871-4719-523', 'cts', 'employee', 'nike', 'sooo', 'shouting', 'dang', 'Unfortunately', 'Makes', 'earliest', 'nordstrom', 'conference', 'www.orange.co.uk/ow', 'degree', 'bleak', 'Shant', 'Bishan', 'nearer', 'sux', 'raiden', 'totes', 'pierre', 'cardin', 'establish', 'Truro', 'Hospital', 'ext', 'cloth', 'pack.also', 'sunroof', 'Sux', 'Tmrw', 'blanked', 'image', 'kalainar', 'office.thenampet', 'nosy', 'reacting', 'freaked', 'satanic', 'imposter', 'me.need', 'it.may', 'destiny', 'Companion', 'Chef', 'listener', 'Organizer', 'boyfriend', 'Sympathetic', 'Athletic', 'Warm', 'Courageous', 'Determined', 'Dependable', 'Intelligent', 'Psychologist', 'Pest', 'exterminator', 'Psychiatrist', 'Healer', 'Stylist', 'Driver', 'Aaniye', 'pudunga', 'venaam', 'chez', 'jules', 'Hhahhaahahah', 'rofl', 'nig', 'leonardo', 'Sunday', '2years', 'strain', 'withdraw', 'anyhow', 'millers', 'soul', 'spark', 'rawring', 'XoXo', 'Somewhr', 'crushes', 'honeymoon', 'outfit', '08719899230', 'cheque', 'Registered', 'olympics', 'leo', 'K.then', 'done/want', 'haul', 'wildlife', 'want2come', 'that2worzels', 'wizzle', 'shanghai', 'cya', '645', 'RT-KIng', 'Pro', 'ringtoneking.co.uk', '08701237397', 'redeemable', 'www.ringtoneking.co.uk', 'Thnx', 'sef', 'anjie', 'fring', 'nte', 'doesn\\x89Û÷t', 'Worth', '02072069400', 'Bx', '526', 'talents', 'animal', 'Reminding', 'Yesterday', 'Shiny', 'warming', 'french', 'fooled', '0A', 'NETWORKS', 'companies', 'responsible', '\\\\suppliers\\\\', 'Feelin', 'lnly', 'Jst', 'keen', 'SWITCH', 'DAMMIT', 'Wright', 'somewhat', 'laden', 'Head', 'wrecked', 'spontaneously', 'GOODEVENING', 'LAPTOP', 'RGENT', 'Bec', 'daytime', 'busty', '09099726429', 'JANINExx', 'mostly', 'spageddies', 'phasing', 'fourth', 'dimension', 'IT.', 'meaningful', 'compromised', '09050001295', 'A21', 'Monthly', 'mobsi.com', '391784', 'dub', 'je', 'Painful', 'words-', 'toughest', 'Earth', 'LIKELY', 'squatting', 'Cramps', '0089', 'digits', '09063442151', 'sonathaya', 'soladha', 'cd', 'raping', 'dudes', 'Weightloss', 'mushy', 'embarrassed', 'stash', 'priya', 'kilos', 'accidant', 'tookplace', 'ghodbandar', 'Traffic', 'slovely', 'ah.now', 'nus', 'sc', 'specialise', 'wad', 'desparately', 'stereo', 'mi', 'classmates', 'fires.Are', 'WOW', 'Tour', 'pre-book', 'Trackmarque', 'vipclub4u', 'missionary', 'entertaining', 'hugh', 'laurie', 'indeed', 'praps', 'Jon', 'Ive', 'Spain', 'sum', 'dinero', 'åÔrents', '12,000pes', 'å£48', '\\\\ALRITE', 'DIDNT', 'INSTEAD', 'CHILLIN', 'BEDROOM', 'JEN', 'complaining', 'Mandy', 'Sullivan', 'HOTMIX', 'FM', 'chosen', 'å£5000.00', 'Easter', '09041940223', '29/03/05', 'transferred', 'finn', '\\\\EY', 'CALM', 'DOWNON', 'THEACUSATIONS', 'ITXT', 'COS', 'IWANA', 'WOTU', 'THEW/END', 'HAVENTCN', 'AGES', 'NETHING', 'SAT.LOVE', 'dine', 'conacted', '09111030116', 'PoBox12n146tf15', 'IåÕm', 'v.tired', 'inspection', 'nursery', 'spk', 'sn', 'you.my', 'Slowly', 'Habit', 'Follow', 'panren', 'paru', 'chuckin', 'trainners', 'carryin', 'bac', 'dhanush', 'needing', 'habba', 'Dileep.thank', 'muchand', 'venugopal', 'mentioned.tomorrow', 'there.goodnight', 'Remembrs', 'Forgets', 'Remembered', 'Everytime', '3230', 'textbook', 'algorithms', 'edition', 'BIG', 'BROTHER', 'ALERT', '10k', '09064018838', 'CRO1327', 'Takin', '4u.i', 'didnåÕt', 'intend', 'Iwas+marine', 'itried2tell', 'urmom.i', 'careabout', 'learned', 'Air', 'Force', 'Iraq', 'afghanistan', 'stable', 'honest', 'traveling', 'bless.get', '1225', 'å£50award', 'pai', 'seh', 'beer', 'parts', '\\\\Getting', 'walsall', 'tue', '.Terry\\\\', 'Sian', 'ccna', 'shrek', '3D', 'dirty', 'fellow', 'dying', 'lifting', 'Teresa', 'dec', \"you'ld\", 'Bam', 'aid', 'Usmle', 'Squishy', 'Mwahs', 'Hottest', 'Wet', 'Wanting', 'PICS', 'Hello-', 'prominent', 'cheek', 'september', 'Hack', 'backdoor', 'fraction', 'NEO69', '09050280520', 'subscribe', 'DPS', 'Bcm', '8027', 'wc1n3xx', '4.15', '\\\\Are', 'comingdown', 'murali', 'player.why', 'sts', 'engalnd', 'mia', 'elliot', 'kissing', '12mths', '1/2price', 'x-net', '100txt/mth', \"B'tooth\", 'Mobileupd8', '2optout/D3WV', 'matric', '850', 'Toa', '650', '08718726970', 'payments', 'fedex', 'reception', 'annoying', 'consensus', 'entertain', 'tag', 'bras', 'strewn', 'pillows', 'weaknesses', 'knee', 'exposes', 'pulls', 'wicked', 'sh', 'ready.all', 'Mom', 'supports', 'srt', 'ps3', 'jontin', 'prize.To', 'banned', 'pen', 'Wont', 'Biro', '09058094594', 'shell', 'unconsciously', 'unhappy', 'jog', '09061743811', 'lark', '09090900040', 'LISTEN', 'EXTREME', 'OFFICE', 'TOTAL', 'PRIVACY', 'sic', 'LISTENING', '60P', 'MIN', '24/7MP', '0870753331018+', 'video/pic', 'fones', 'WILD', '150p/rcvd', 'STOP2stop', 'Uh', 'lim', 'parachute', 'placed', 'lambda', 'angels', 'snowball', 'fights', 'ELLO', 'ikea', 'Becoz', 'duffer', 'grr', 'Pharmacy', 'cook', '08715500022', 'rpl', 'cnl', 'nor', 'Fffff', 'lifebook', 'zhong', 'qing', 'act', '4-6', 'hypertension', 'annoyin', '08702490080', 'VPOD', 'Carry', 'nigro', 'scratching', 'anyplaces', '\\\\find', 'priority', '\\\\what', 'ecstasy', '09090204448', 'minded', 'Aå£1.50', 'minAPN', 'LS278BB', 'hittng', 'reflex', '10:10', 'adewale', 'Aka', 'Egbon', 'mary', 'jane', 'deduct', 'wrks', 'monkey', 'asshole', '..................', 'grab', 'sliding', '09065394973', 'payback', '31', 'tescos', 'feathery', 'bowa', 'infra', 'gep', '2006', 'FIFA', 'Shhhhh', 'related', 'Arul', 'amk', '09061743810', 'length', 'antha', 'corrct', 'dane', 'basket', 'THANKS', 'LIFT', 'rupaul', 'TOOL', 'practising', 'curtsey', '\\\\YEH', 'DEF', 'LMAO', 'memory', 'Idea', 'converted', 'yo-Here', 'members', 'african', 'soil', 'roles', 'outreach', 'Them', '8lb', '7oz', 'brilliantly', 'forwarding', 'intention', 'visitors', 'rules', 'Yet', 'bend', 'thia', 'DOESNT', 'inlude', 'previews', 'Ambrith', 'madurai', 'arun', 'dha', 'marrge', 'remembr', 'kitty', 'shaved', 'tactful', 'www.ldew.com', 'SkillGame,1Winaweek', 'age16.150ppermessSubscription', 'eggs-pert', 'potato', 'head\\x89Û_', 'crammed', 'satsgettin', '4.47per', 'apologize', 'pei', 'GON', 'subtoitles', 'jot', 'store.like', 'cereals', 'gari', 'bold2', '09094100151', 'cast', 'provided', 'GBP5/month', 'Box61', 'M60', '1ER', 'Ages', 'thkin', '.Please', 'resubbing', 'shadow', 'spring', 'breadstick', 'Saeed', '09066362220', 'Pass', 'Blue', 'Purple', 'Green', 'Yelow', 'bck', 'Brown', 'Nw', 'arranging', 'eldest', 'drugdealer', 'Singles', 'wither', 'E.G.23F', 'G.', 'e.g.23G', 'wondarfull', 'messages-Text', 'web2mobile', 'Txt250.com', '1.50p/wk', 'BOX139', 'LA32WU', 'txtX', 'hun-onbus', 'donyt', 'latelyxxx', '85233', '\\\\alright', 'yor', 'stressed', 'soooo', 'provider', 'tming', 'cutest', 'dice', 'help:08700469649', 'BOX420', 'IP4', '5WE', 'Howda', 'Mathe', 'en', 'samachara', 'Audrie', 'autocorrect', 'simulate', 'readiness', 'and/or', 'Lara', 'supplies', 'guesses', 'attach', '087123002209am-7pm', 'washob', 'nobbing', 'Nickey', 'Platt', 'spotty', 'province', 'sterling', 'problem-free', 'xam', 'hall', 'hesitation', 'intha', 'ponnungale', 'ipaditan', 'bad-', 'rejected', 'noisy', 'needa', 'manual', 'reset', 'troubleshooting', 'B4U', 'w/c', '27/03', 'MARSMS', 'www.B4Utele.com', '08717168528', 'strongly', 'creativity', 'stifled', 'requirements', 'heåÕs', 'Thinks', '2GETHA', 'Buffy', 'randy', 'QlynnBV', 'Help08700621170150p', '8-8:30', 'Wld', 'nosh', 'Waaaat', 'Lololo', 'occupied', 'kindly', 'documents', 'submitted', 'STAPATI', 'cutie', 'hills', 'honesty', 'specialisation', 'labor', 'shakara', 'beggar', 'driver', 'dent', 'Yes.he', 'crickiting', 'Thx', '\\\\CAN', 'IMIN', 'TOWN.DONTMATTER', 'URGOIN', 'OUTL8R', 'Yavnt', 'ESPECIALLY', 'popping', 'ibuprofens', 'sip', 'grown', 'Chinatown', 'porridge', 'claypot', 'yam', 'fishhead', 'beehoon', 'Either', 'jaklin', 'idk', 'nearby', 'cliffs', '4.49/month', 'bundle', 'deals', 'avble', 'call2optout/J', 'MF', 'Ooh', '4got', 'moseley', 'weds', 'Thankyou', 'Treat', 'pending.i', 'days.will', 'thru.Respect', 'home.check', 'V-aluable', 'A-ffectionate', 'L-oveable', 'E-ternal', 'N-oble', 'T-ruthful', 'I-ntimate', 'N-atural', 'E-namous', '\\\\VALENTINES', 'textin', 'amigos', 'burn', 'progress', 'holy', 'arty', 'collages', 'tryin', '2hrs', 'waliking', 'cartons', 'shelves', '08714712379', 'mirror', 'Know', 'K718', '09065069120', 'Tues', 'Alrite', 'jod', 'revision', 'Keris', 'smidgin', 'k.k', 'intentions', 'accordin', 'discussed', 'knocking', '\\\\Si.como', 'listened2the', 'plaid', 'album-quite', 'air1', 'hilarious-also', 'boughtåÓbraindanceåÓa', 'comp.ofstuff', 'aphexåÕs', 'abel', 'nelson', 'unmits', 'newspapers', 'Yummmm', 'puzzeles', '4goten', 'scammers', 'prem', 'msg/subscription', '2morro', 'passion', '09099726481', 'DENA', 'å£1/minMobsmoreLKPOBOX177HP51FL', 'R836', '09065069154', 'threats', 'sales', 'executive', 'Shifad', 'raised', \"'doctors\", 'reminds', '2go.did', 'lk', '\\\\Hurt', 'SplashMobile', 'subscrition', 'ENJOY', 'dust', '3POUND', 'watchin', 'meaningless', 'Cold', 'Brdget', 'Jones', 'Inever', '=/', 'Hype', 'studio', 'bedrm-', 'Velly', 'marking', '2StopTx', 'ANNIE', 'Remind', '08718738034', 'MISSIN', 'HAVING', 'va', 'Nothin', 'hanger', 'Arrow', 'blanket', '08718726971', 'tddnewsletter', 'emc1.co.uk', 'TheDailyDraw', 'Helen', 'Dozens', 'prizesWith', 'significant', 'Waqt', 'pehle', 'naseeb', 'zyada', 'kisi', 'ko', 'kuch', 'milta', 'hum', 'sochte', 'jeetey', 'stalking', 'Dan', 'reminded', 'Apps', 'varaya', 'elaya', '10/06/03', '09066368753', '97N7QP', 'anand', 'beach', 'Expected', '\\\\Aww', 'Jez', 'isComing', 'toDo', 'workAnd', 'whillTake', 'Zogtorius', 'IåÕve', 'financial', 'problem.i', 'alian', 'B/Tooth', 'FREE-Nokia', 'or2optout/HV9D', 'posible', 'century', 'cm', 'frwd', 'affectionate', 'sorts', 'Download', 'restrictions', 'buddys', '08712402902', 'owned', 'possessive', 'clarification', 'coimbatore', 're-sub', 'MONOC', 'monos', 'POLYC', 'Stream', '0871212025016', 'sheffield', 'categories', 'ethnicity', 'census', 'transcribing', 'unfortunately', 'cakes', 'draws', 'goodmate', 'SARY', 'ASUSUAL', 'CHEERED', 'FRANYxxxxx', 'batt', 'me.\\\\', 'becausethey', '09058098002', 'PoBox1', 'W14RG', 'gained', 'Second', 'pressure', 'limits', 'DUMB', 'doke', 'laying', 'Neshanth', 'BYATCH', 'WHASSUP', 'CL', 'filthyguys', 'slo', 'SLO', '4msgs', 'Wasted', 'chiong', 'dialogue', 'reltnship', 'Aww', 'Pose', 'comb', 'dryer', 'fps', 'computational', 'science', 'Lk', 'Madam', 'disturbance.might', 'DLF', 'Premarica.kindly', 'informed.Rgds', 'gotto', '08702840625', 'comuk.220cm2', 'Err', 'Cud', 'hitter.anyway', 'B-day', 'offline', 'anjola', 'WWW.ASJESUS.COM', '1/1', 'Says', 'directors', 'lac', 'crore\\\\', 'deposited', \"'taxless\", 'crore', 'Forever', 'suply', 'projects', '/-', 'IMF', 'blocked', 'corrupt', 'Itna', 'karo', 'ki', 'pura', 'padhe.g.m.\\\\', 'torrents', 'particularly', 'slowing', 'commit', '83370', 'www.music-trivia.net', 'Rightio', '11.48', 'brum', 'scorable', 'paranoid', 'brin', 'properly', 'sheet', 'complain', 'bettr', 'bsnl', 'offc', 'payed', 'Suganya', 'dessert', 'Abeg', 'sponsors', 'Onum', 'ela', 'can.dont', 'poet', 'imagination', 'car.so', 'rr', 'famamus', 'locks', 'jenne', 'easiest', 'barcelona', 'Sppok', 'complementary', 'WA14', '2PX', 'Hol', 'Pansy', 'jungle', 'kanji', 'drink.pa', 'srs', 'drizzling', 'appointments', 'Concentrate', 'Greetings', 'Consider', 'excused', 'drama', 'Pls.i', 'struggling', 'place.No', 'ego', \"'IF\", 'INVITED', 'necessity', 'go.wait', 'reppurcussions', 'cosign', 'hvae', '09061701444', 'HCL', 'requires', 'FRESHERS', 'process.Excellent', 'needed.Salary', '.Call', 'Ms.Suman', 'Telephonic', '-via', 'Indyarocks.com', 'Ola', 'bids', 'Invest', 'Wud', 'reliant', 'Fwiw', 'afford', 'sq825', 'arrival', 'citylink', 'Props', 'pleasant', '-u', 'statements', '6230', 'digital', 'POBOX114/14TCR/W1', 'Bognor', 'splendid', 'Yes.i', 'ktv', 'Misplaced', 'Wondering', 'atlanta', 'computers', 'begun', 'registration', 'permanent', 'residency', 'claire', 'risks', 'predicting', 'accumulation', 'Package', 'programs', 'belongs', 'Pray', 'fated', 'Shoranur', 'fuelled', 'concern', 'prior', 'grief', 'VIOLENCE', 'AGAINST', 'WOMEN', 'Text82228', 'logos', 'www.txt82228.com', 'Questions', 'txt82228.co.uk', 'Honestly', 'promptly', 'burnt', 'FreeMSG', 'DIGITAL', 'SNAP', 'quizclub', 'Opt', '80122300p/wk', 'RWM', 'Ph:08704050406', 'GMW', 'connected', 'someplace', 'goods', 'pressies', 'Dr', 'Ultimately', 'tor', 'motive', 'tui', 'achieve', 'korli', 'we\\x89Û÷ll', 'dock', 'rolled', 'newscaster', 'dabbles', 'flute', 'wheel', 'keyword', 'the4th', 'october', '83435', 'elaborating', 'safety', 'aspects', 'TAROT', 'TEXTS', '85555', 'ours', 'horniest', 'ENTRY', 'Nyt.EC2A.3LP.msg', 'flow', 'developed', 'ovarian', 'cysts', 'Bc', 'shrink', 'upping', 'grams', 'timin', 'That\\x89Û÷s', 'apes', 'ibm', 'hp', 'Gosh', 'Spose', 'rimac', 'arestaurant', 'squid', '10:30', 'dosomething', '\\\\HELLO', 'U.CALL', 'WRK.I', 'FANCY', 'MEETIN', 'WIV', 'TONITE', 'BREAK', 'DABOOKS', 'HRS', 'NITE+2', 'WRK', 'EACHOTHER', 'Luckily', 'starring', 'restocked', 'www.tkls.com', 'stoptxtstopå£1.50/week', 'innocent', 'smoothly', 'challenging', 'breakfast', 'hamper', 'cc100p/min', 'reality', 'above', '\\\\POLYS\\\\', '0870737910216yrs', 'å£1.50/wk', 'Unni', 'lacking', 'particular', 'dramastorm', 'forfeit', 'digi', 'coupla', '077xxx', '09066362206', 'CAL', 'SIR', 'sundayish', 'prasad', 'Tiwary', 'rcb.battle', 'bang', 'kochi', 'Moms', 'checkup', 'aka', 'smear', 'gobi', 'Pandy', '4w', 'technologies', 'today.he', 'Em', 'olowoyey', 'usc.edu', 'argentina', ',s', 'taxt', 'massage', 'tie-pos', 'argh', 'Lool', 'shaking', 'busy.i', 'sarcasm', '.nt', 'scarcasim', 'naal', 'eruku', 'W4', '5WQ', 'impressively', 'sensible', 'PARK', 'Nyt', 'also.or', 'obedient', 'ft.', 'combination', 'needy', 'playng', 'McFly-All', 'Ab', 'Sara', 'Jorge-Shock', 'Smith-Switch', 'Chasing', 'Yupz', 'sony', 'ericson', 'der', 'luks', 'modl', 'cheesy', 'frosty', 'witin', 'fans', 'PLUS', 'SPORT', '0870141701216+', '4txt/120p', 'Europe', '10th', '09050000555', 'BA128NNFWFLY150ppm', 'nudist', 'themed', 'pump', 'petrol', 'å£12', 'signal', 'neither', 'unusual', 'Omw', 'palm', 'printing', 'handing', 'optout', '83021', 'stated', 'Reaction', 'perpetual', 'DD', 'pract', 'Flung', 'justbeen', 'overa', 'brains', 'mush', 'Tunde', 'missions', '20M12AQ', '\\x89ÛÏ', 'EH74RR', 'avo', 'crashed', 'cuddled', 'Chachi', 'Pl', 'tiz', 'Kanagu', 'prices', 'ringing', 'houseful', 'brats', 'pulling', 'diwali', 'now.onion', 'prepare', 'Derp', 'abusers', 'lipo', 'easter', 'netflix', 'clash', 'ARR', 'oscar', 'Open', 'rebtel', 'firefox', 'Married', 'MATCH', '69969', 'BCMSFWC1N3XX', 'impressed', 'funs', 'footy', 'stadium', 'Large', 'Coca-Cola', 'teenager', 'Took', 'Centre', 'replacing', 'Mittelschmertz', 'paracetamol', 'sales/pee', 'arrived', 'cThen', 'conclusion', 'references', 'at/your', 'U\\x89Ûªve', 'Bin', 'Awarded', 'å£50', 'Instant', '08715203028', 'EVERY', '9th', 'Wins', 'Min', 'å£50-å£500', 'wed.', 'rugby', 'affidavit', 'Twiggs', 'courtroom', 'FAV', 'TONES', 'Lil', 'Thinkin', 'showers', 'possessiveness', 'poured', 'lies', 'golden', 'lasting', 'Genius', 'mobs', 'BREATHE1', 'CRAZYIN', 'SLEEPINGWITH', 'FINEST', 'YMCA', 'getzed.co.uk', 'POBox365O4W45WQ', 'wtc', 'Weiyi', 'INTERFLORA', 'åÒIt', 'Interflora', 'flowers', '505060', 'paining', 'ROMCAPspam', 'Everyone', 'presence', 'outgoing', 'sian', 'maggi', 'mee', '08712103738', 'cough', 'Com', 'fine.', 'pooja', 'sweatter', 'ambitious', 'miiiiiiissssssssss', 'Tunji', 'iZ', 'Yellow', 'misscall', 'frndZ', '6missed', 'Free-message', 'frog', 'MAD1', 'MAD2', 'GBP/week', 'tall', 'robs', 'Avenge', 'choices', 'toss', 'Gudni8', 'Adult', 'dancin', 'explicitly', 'nora', 'Smith', 'da.i', 'gayle', 'Woke', 'Crucify', 's.', 'butting', 'vs.', 'cedar', 'durham', 'reserved', '69855', '24Hrs', 'STOPBCM', 'SF', 'wall', 'Printer', 'groovy', 'groovying', 'Harish', 'transfred', 'Acnt', 'Cbe', 'nowadays', 'showrooms', 'shaping', 'attending', 'doinat', 'callon', 'ganesh', 'pdate_Now', 'call2optout/', 'YHL', 'configure', 'i\\x89Ûªm', 'isn\\x89Ûªt', 'WISH', 'CANT', 'WAIT', 'ANAL', 'GANG', 'BANG', 'pears', 'Such', 'Oooooh', '09058094454', 'Kindly', 'MOB', '54', 'resubmit', 'expiry', 'THEMOB', 'weåÕve', '2geva', 'mint', 'xxxx', 'humans', 'studyn', 'wuld', 'everyboy', 'xxxxxxxx', 'Test', 'CAT', \"'xam\", '5+3+2=', '9+2+4=', '8+6+3=', '7+2+5=', '1thing.i', 'answr', 'liquor', 'loko', '730', 'lined', '\\\\wow', \"tm'ing\", 'laughs', 'fireplace', 'icon', '08712400200', 'fifth', 'woozles', 'weasels', 'exeter', '08718723815', 'machines', 'fucks', 'ignorant', 'mys', 'downs', 'fletcher', 'å£1,500', '27/6/03', '08714714011', 'teaching', 'bowls', 'cozy', 'night.nobody', 'Buzzzz', 'vibrator', 'shake', 'trends', 'pros', 'cons', 'Brief', 'description', 'nuclear', 'fusion', 'brief', 'iter', 'jet', '\\\\NONE', 'NOWHERE', 'IKNO', 'DOESDISCOUNT', 'SHITINNIT\\\\', 'jabo', 'slower', 'maniac', 'sapna', 'manege', \"y'day\", 'hogidhe', 'chinnu', 'swalpa', 'agidhane', 'Mostly', 'footbl', 'crckt', 'Ma', 'swell', 'Sary', 'Tim', 'bollox', 'tol', 'hang', 'ingredients', 'pocy', 'non', 'call2optout/4QF2', 'Tonight', 'senor', 'giggle', 'possibly', 'person2die', 'NVQ', 'professional', 'Tiger', 'Woods', 'grinder', 'buyers', 'figuring', 'entirely', 'disconnected', 'onluy', 'matters', 'offcampus', 'riley', 'Ew', 'wesley', 'lingo', '12Mths', '400mins', 'call2optout=J5Q', 'WITHOUT', 'Goodnoon', 'HARDCORE', '69200', 'chrgd', '2exit', 'approaching', 'Sankranti', 'republic', 'Shivratri', 'Ugadi', 'Fools', 'Independence', 'Father', 'Teachers', 'Childrens', 'Ganesh', 'festival', 'Dasara', 'Diwali', 'Mornings', 'Afternoons', 'Evenings', 'Nights', 'RememberI', 'WISHING', 'THESE', 'joys', 'lifeis', 'daywith', 'thoughts', 'somewhereSomeone', 'tosend', 'greeting', 'selflessness', '\\\\do', 'initiate\\\\', 'tallent', 'wasting', 'portal', \"Don't4get2text\", 'Jokin', 'lennon', 'bothering', 'waves', 'Crab', 'Waves', 'fox', 'frndsship', 'dwn', 'Slaaaaave', 'summon', 'å£33.65', 'appendix', 'However', 'Become', 'slob-', '\\\\how', 'smiled', 'Webpage', 'Yeesh', 'unsubscribed', 'hunks', '//gotbabes.co.uk', 'subscriptions', 'Gopalettan', 'participate', 'abroad', 'xxSP', 'stopCost', '08712400603', 'agent', 'goodies', 'MAT', 'Ay', 'Apart', 'steal', 'Isaiah.=D', 'Hoping', 'expert', 'S.s', 'thinl', 'sachin.just', 'Others', 'Bye', 'importantly', 'Holding', 'tightly', \"'Wnevr\", 'fal', 'fals', 'Yen', 'madodu', 'nav', 'pretsorginta', 'nammanna', 'pretsovru', 'alwa', 'LORD', 'RINGS', 'RETURN', 'KING', 'soundtrack', 'StdTxtRate', 'home.love', 'staff.science.nus.edu.sg/~phyhcmk/teaching/pc1323', 'emigrated', 'hopeful', 'Olol', 'stagwood', 'winterstone', 'victors', 'Address', 'jp', 'mofo', 'Pathaya', 'enketa', 'maraikara', 'priest', 'reserves', 'intrude', 'walkabout', 'cashed', 'announced', 'blog', '28th', '06', 'footie', 'Phil', 'Neville', 'Abbey', 'returning', 'roger', 'Small', 'punj', 'tiwary', 'str8', 'Classic', 'Polys', 'Nokia/150p', 'Poly/200p', 'fuckin', 'pre', 'sacked', 'clip', '35p', 'MMSto', '32323', 'barred', 'stores', 'twat', 'dungerees', 'decking', 'punch', 'fri.', 'mentionned', 'porn', 'RECD', 'MSGS', '150P', 'INC', 'VAT', 'CANCEL', 'only.don', 'Hogolo', 'kodstini', 'Agalla', 'madstini', 'agalla', 'Hogli', 'mutai', 'eerulli', 'kodthini', '\\\\SHIT', 'THASA', 'MESSED', 'UP.YEH', 'TEX', 'MECAUSE', 'WEREBORED', 'OKDEN', 'UIN', 'SOUNDåÕS', 'LIKEYOUR', 'HAVIN', 'GR8FUN', 'UPDAT', 'COUNTINLOTS', 'XXXXX.\\\\', 'L', 'tagged', 'BETTER', 'CAUSE', 'USED', 'OTHERWISE', 'hdd', 'casing', 'opened', 'describe', '09053750005', '310303', '08718725756', '140ppm', 'asus', 'reformat', 'Mah', 'le', 'plumbers', 'wrench', '//www.e-tlp.co.uk/reward', 'bcum', 'appeal', 'thriller', 'director', 'elephant', 'shove', 'um', 'cr', 'pookie', 'MAYBE', 'WOKE', 'PROBLEM', 'dear.with', 'love.rakhesh', 'NRI', 'X2', 'ItåÕs', 'deserve', '88039.SkilGme.TsCs087147403231Winawk', 'Age16+å£1.50perWKsub', 'diddy', 'neighbor', 'toothpaste', 'av', 'poking', 'everyday', 'canada', 'de.am', 'coccooning', 'mus', 'HAV', 'NEWQUAY-SEND', 'WHILE', 'GONE', '1IM', 'TALKIN', 'divorce', 'windy', '09066358361', 'Y87', 'mahal', 'tirunelvai', 'dusk', 'solve', 'puzzles', 'X29', '09065989180', 'stairs', 'phews', 'thangam.it', 'Sup', 'recycling', 'twice-', 'earning', 'Toledo', 'Ron', 'ding', 'tai', 'feng', 'reservations', 'swimsuit', 'Squeeeeeze', 'frndshp', 'luvd', 'Funny', 'volcanoes', 'erupt', 'tsunamis', 'arise', 'hurricanes', 'sway', 'aroundn', 'Natural', 'disasters', 'lighters', '7pm', '......', 'lasagna', 'vodka', 'chickened', 'woould', '08718726978', 'drove', '44', '7732584351', 'on-edge', 'Raviyog', 'Peripherals', 'bhayandar', 'east', 'sunoco', 'MOON', 'STARS', 'musical', 'Peaceful', 'plate', 'leftovers', 'Hang', 'Food', 'starving', 'Everyday', 'fatty', 'Badrith', 'owe', 'NIC', 'CHECKIN', 'NUMBER-SO', 'T.B', 'block', 'armenia', 'swann', '09058097189', '330', '1120', '1205', '\\\\wylie', 'justify', 'Meds', 'hunt', '5226', 'hava', '1131', 'RCT', 'THNQ', 'Adrian', 'Rgds', 'Vatian', 'everyones', 'babysitting', 'GONNAMISSU', 'SEND', 'BUTTHERES', 'ABOUTAS', 'MEREMEMBERIN', 'ASTHERE', 'OFSI', 'BREAKIN', 'CONTRACT', 'Yaxx', 'Ee', 'poortiyagi', 'odalebeku', 'Hanumanji', '1-Hanuman', '2-Bajarangabali', '3-Maruti', '4-Pavanaputra', '5-Sankatmochan', '6-Ramaduth', '7-Mahaveer', 'ee', 'janarige', 'ivatte', 'kalisidare', 'olage', 'ondu', 'keluviri', 'Maretare', 'inde', 'dodda', 'problum', 'nalli', 'siguviri', 'idu', 'matra', 'neglet', 'Set', 'forgets', 'INTO', 'TROUBLE', 'IJUST', 'TALKED', 'Hyde', 'opps', 'gei', 'tron', 'dl', 'selfish', 'spiffing', 'workage', 'craving', 'Fml', 'supose', 'much.i', 'babysit', 'there.xx', 'spaces', 'embassy', 'lightly', 'checkboxes', 'hardcore', 'hundred.he', 'batsman', 'yetty', 'Per', 'theory', '09050000928', 'GAS', 'STATION', 'Caught', 'emailed', 'yifeng', 'slurp', 'Minimum', '3miles', 'ing', 'Brainless', 'Doll', 'vehicle', 'sariyag', 'madoke', 'barolla', '07090201529', 'postponed', 'stocked', 'tiime', 'tears', 'fml', 'afternon', 'interviews', 'Wun', 'resizing', 'STAR', '09066364349', 'Box434SK38WP150PPM18+', 'opposed', 'shortcode', '83332.Please', '08081263000', 'refunded.This', 'somerset', 'overtime', 'nigpun', 'dismissial', 'screwd', '08712402972', 'Bull', 'floating', '09058095201', 'Heehee', 'arithmetic', 'percentages', \"'An\", 'Quote', '\\\\Sometimes', 'chillaxin', 'DAS', 'COOL', 'IKNOW', 'WELLDA', 'PERIL', 'STUDENTFINANCIAL', 'CRISIS', 'L8R.\\\\', 'monster', 'obey', 're-send', 'Uhhhhrmm', 'gbp/sms', '600', '400', 'Inclusive', 'delTOMORROW', '09066368470', 'e.g', '24M', 'Freemsg', '1-month', 'SmartCall', '68866', 'Subscriptn3gbp/wk', '08448714184', 'landlineonly', 'camera/video', 'å£s', 'texts/weekend', 'orno', 'fink', '09099726553', 'promised', 'CARLIE', 'Callså£1/minMobsmore', 'LKPOBOX177HP51FL', 'youPhone', 'atHome', 'youwanna', 'chat.\\\\', 'jack', 'say/ask', 'helpful', 'pretend', 'hypotheticalhuagauahahuagahyuhagga', 'brainy', 'STUDY', 'occasion', 'Celebrated', 'Reflection', 'Values', 'Desires', 'Affections', 'Traditions', 'Sending', 'cantdo', 'anythingtomorrow', 'myparents', 'aretaking', 'outfor', 'Katexxx\\\\', 'level', 'gate', 'Charles', 'uh', '89105', 'Extra', 'lingerie', 'www.bridal.petticoatdreams.co.uk', 'superb', 'Brought', 'WeddingFriend', 'board', 'overheating', 'reslove', 'inst', 'Mon', 'western', 'Nowadays', 'notixiquating', 'laxinorficated', 'bambling', 'entropication', 'oblisingately', 'opted', 'masteriastering', 'amplikater', 'fidalfication', 'champlaxigating', 'atrocious', 'Wotz', 'Opinion', 'Junna', 'knickers', '01223585236', 'Nikiyu4.net', 'accident', 'a30', 'divert', 'wadebridge.I', 'vill', 'orc', 'seeking', 'Inform', 'Wherre', 'phone750', 'resolution', 'reply.Be', 'frank', 'logoff', 'parkin', 'kent', 'asa', '09050000878', 'charming', 'mention', 'served', 'arnt', 'xxxxxxxxxxxxxX', 'Dorothy', 'kiefer.com', 'alle', 'mone', 'eppolum', 'oru', 'allalo', 'fundamentals', '\\\\Walk', '10.1mega', 'pixels', '3optical', '5digital', 'dooms', 'Petey', 'noiåÕm', 'time-hope', 'alrite.have', 'js', 'am.x', 'burgundy', 'captaining', 'Staff', 'Amrita', 'profile', 'bpo', 'nighters', 'persevered', 'regretted', 'Hanging', 'wasnåÕt', 'spouse', 'pmt', 'sumthin', '4give', 'shldxxxx', 'scenario', 'SPUN-OUT', 'DEAD', 'WRLD', 'SLEEPING', 'SOFA', 'Guaranteed', '09071517866', '150ppmPOBox10183BhamB64XE', '10am', 'Tyler', 'pounded', 'Lion', 'Airtel', 'Broadband', 'installation', 'tensed', 'coughing', 'warned', 'Sprint', 'TH', 'GOWER', 'WHICH', 'åÔMORROW', 'RANDOM', 'Rock', 'chik', 'filthy', 'FILTH', 'Saristar', 'E14', '9YT', '08701752560', '450p', 'Stop2', 'Din', '420', '9061100010', 'Wire3.net', '1st4Terms', 'PoBox84', 'MobcudB', 'sabarish', '09050000460', 'J89', 'box245c2150pm', 'inpersonation', 'flea', 'BANNEDUK', 'highest', 'å£54', 'maximum', 'å£71', 'BIDS', 'NY', 'TAJ', 'MAHAL', 'symbol', 'lesser', 'known', 'facts', 'wifes', 'Question', 'arises', 'Hell', '-|', '-The', 'Hari-', 'VALENTINE', 'Flight', 'Hotel', '69101.', 'www.rtf.sphosting.com', 'webadres', 'geting', 'Sends', 'passport', 'Multiply', 'independently', 'showed', 'twins', 'strt', 'LtdHelpDesk', '02085076972', 'equally', 'uneventful', 'pesky', 'cyclists', 'were/are', 'adi', 'entey', 'nattil', 'kittum', 'hire', 'hitman', \"'VE\", 'Won', 'Winner', '09066660100', '2309', 'Cps', 'outages', 'conserve', 'voted', 'epi', 'bare', 'bhaskar', 'individual', 'gong', 'kaypoh', 'basketball', 'outdoors', 'interfued', 'listed', 'Alfie', 'nokias', 'apology', 'hustle', 'forth', 'harlem', 'Goin', 'workout', 'fats', 'zac', 'SENT', 'Hui', 'versus', 'edge', 'underdtand', '\\\\ME', 'LETS', '4GET', 'IT+BOTH', '+CHEER', 'UP+NOT', 'FIT', 'SOO', 'MUCHXXLOVE', 'LOCAXX\\\\', '07090298926', 'Ref:9307622', 'skateboarding', 'thrown', 'winds', 'bandages', '\\\\STOP', 'MIX\\\\', 'my-tone.com/enjoy', 'html', 'GBP4.50/week', 'MFL', 'sky', 'hectic', 'wamma', 'doggin', 'dogs', 'Langport', 'virtual', 'Senthil', 'Apnt', 'Studying', 'pants', 'Wait.i', 'langport', 'go2sri', 'lanka', 'merely', 'relationship', 'Wherevr', 'Forevr', 'Gudnyt', 'Darling', 'Sugar', 'plum', 'Loverboy', 'smacks', '50s', 'alot', 'Whos', 'formatting', 'attracts', 'Promotion', '8714714', 'Vegas', 'vegas', 'lou', 'reply-', 'Lancaster', 'Neway', 'couldnåÕt', 'soc', 'bsn', 'advising', 'lobby', 'showered', \"er'ything\", 'lubly', 'Rs.5', '087147123779am-7pm', 'luck.2', 'catches', 'specify', 'domain', 'nusstu', 'Kent', 'habit', 'bari', 'hudgi', 'yorge', 'pataistha', 'ertini', 'Hasbro', 'AUGUST', 'jump', 'hoops', 'morning.take', 'ummifying', 'associate', 'rip', 'uterus', 'jacuzzi', 'X49', 'colour=red', '/colour', 'TXTstar', '2nights', 'Uve', 'Uks', 'wildest', 'spl', 'Aldrine', 'rakhesh', 'RTM', 'here.pls', 'call.urgent', 'sources', 'unhappiness', 'necesity', 'witout', 'colleg', 'wth', 'functions', 'events', 'espe', 'irritated', '4wrd', 'dear-loving', 'wthout', 'Takecare', 'Orchard', 'univ', 'rajas', 'burrito', 'stitch', 'trouser', '2/2', '146tf150p', 'Wednesday', 'cheetos', 'synced', 'shangela', 'passes', '08704439680', 'poo', 'gloucesterroad', 'uup', 'ouch', 'forgiveness', 'glo', '09058095107', 'S3XY', 'Yes.mum', 'wlcome', 'lion', 'timi', 'fishrman', 'sack', 'strtd', 'throwin', 'Atlast', '1stone', '\\\\Dont', '08717895698', 'MobStoreQuiz10ppm', 'physics', 'a-', 'Ar.Praveesh', 'delicious', 'transaction', 'Salad', 'beers', 'WHORE', 'UNBELIEVABLE', '\\\\get', 'Twinks', 'bears', 'scallies', 'skins', 'jocks', '08712466669', 'flood', 'dr', 'beads', 'wishlist', 'section', 'nitro', 'History', \"'Need\", \"'Comfort\", \"'Luxury\", 'Sold', 'Onion-Rs', 'Petrol-Rs', 'Beer-Rs', 'creative', 'reffering', 'getiing', 'weirdy', 'brownies', '09061701851', 'K61', '12hours', 'restrict', 'Audrey', 'god.not', '74355', 'greece', 'recorded', 'someday', 'grandfather', 'November', '09061104276', 'TS', 'costå£3.75max', 'yuou', 'spot', 'bunch', 'lotto', 'Deal', 'Early', 'bird', 'purchases', 'authorise', '6.45pm', 'HONEY', 'GIMMI', 'DE', 'GOSS', 'pain.it', 'today.do', 'ystrday.ice', 'chile', 'subletting', 'feb-april', 'ammae', 'steering', 'sleeps', 'rounder', 'required', 'lambu', 'ji', 'batchlor', 'zoom', '62220Cncl', 'STOPCS', '08717890890å£1.50', 'åÒHarry', 'pink', '//tms', 'id=1b6a5ecef91ff9', '37819', 'first=true18:0430-JUL-05', 'xafter', 'cst', 'chg', 'pure', 'hearted', 'his/her', 'enemies', 'SMILEY', 'GAIL', 'WRONG', 'WORRY.C', 'L8TR', 'Yaxxx', 'Theoretically', 'hooked', 'formally.Pls', 'praying.will', 'is-', 'more\\\\', 'multimedia', 'e-mail', 'senthil.hsbc', 'vague', 'accounting', 'delayed', 'housing', 'agency', 'renting', 'presents', 'Loads', 'nicky', 'Gumby', '//alto18.co.uk/wave/wave.asp', 'o=44345', 'sized', 'tarpon', 'springs', 'Cab', 'available.they', 'steps', 'care.umma', 'Unlimited', 'Limited', 'call2optout/HF8', '07XXXXXXXXX', '08719181259', 'XXXXX', '26.03.05', 'dear.take', 'radiator', 'Serious', 'proper', 'tongued', 'shorts', 'qi', 'suddenly', 'flurries', 'REAL1', 'PushButton', 'DontCha', 'BabyGoodbye', 'GoldDigger', 'WeBeBurnin', 'perform', 'cards', 'rebooting', 'Nigh', 'Nooooooo', 'Cable', 'outage', 'Sos', 'Playin', 'guoyang', 'rahul', 'dengra', 'STRIKE', 'RED', 'BIRD', 'ANTELOPE', 'TOPLAY', 'FIELDOF', 'SELFINDEPENDENCE', 'BELIEVE', 'CONTENTION', 'GROW.RANDOM', 'Gnarls', 'Barkleys', '\\\\Crazy\\\\', 'TOTALLY', 'borderline', 'Until', '545', 'nightnight', 'possibility', 'HMM', 'grooved', 'mising', 'Refused', 'Secured', 'Unsecured', '195', '6669', 'lanre', 'fakeye', 'Eckankar', 'ph', '\\\\3000', 'degrees', 'dodgey', 'Expecting', 'seing', '...............', 'asssssholeeee', '................', 'CERI', 'REBEL', 'DREAMZ', 'LITTLE', 'BUDDY', 'NEEDS', 'BLOKES', 'ringtoneking', '84484', 'Nationwide', 'Newport', 'Whatever', 'juliana', 'Sort', 'nachos', 'eta', 'Dizzamn', 'suitemates', 'Nimbomsons', 'Obviously', 'continent', '087104711148', 'emerging', 'fiend/make', 'much/impede', 'hesitant', 'ow', 'dey.i', '60,400thousad.i', 'FINE', 'BABES', 'AINT', 'THO', 'SAW', 'SCARY', 'MOVIE', 'YEST', 'QUITE', 'FUNNY', 'AFTERNOON', 'MALL', 'SUMTHIN', 'nose', 'essay', 'tram', 'vic', 'Discussed', 'coherently', 'Triple', 'Echo', 'Pie', '\\\\GRAN', 'ONLYFOUND', 'AFEW', 'AGO.CUSOON', 'HONI\\\\', 'Dial', 'Bx526', 'University', 'southern', 'rayan', 'macleran', 'Balls', 'evenings', 'olave', 'mandara', 'trishul', 'Woo', 'hoo', 'panties', 'Thout', 'flatter', 'pints', 'carlin', 'Ciao', 'X49.Your', 'starve', 'impression', 'Motivate', 'darkness', 'time.you', 'wknd', 'nan', 'yalrigu', 'heltini', 'Iyo', 'kothi', 'shared', 'uttered', 'trusting', 'B-', 'Noice', 'esaplanade', 'accessible', '08709501522', '139', 'LA3', '2WU', 'å£1.50/week', 'occurs', 'Student', 'Enna', 'kalaachutaarama', 'coco', 'sporadically', 'bc', 'Dating', '09064017305', 'PoBox75LDNS7', 'TBS/PERSOLVO', 'forå£38', 'Kath', 'Manchester', 'youåÕre', 'burden', 'Loans', 'Credit', 'NoWorriesLoans.com', '08717111821', 'harder', 'NBME', 'sickness', 'Kick', 'goals', 'VILLA', 'Gam', 'smash', 'religiously', 'Soup', 'Chart', 'Heroes', 'Ringtones', 'tips', '07973788240', '08715203649', 'Muhommad', 'Penny', 'fiting', 'load', 'mj', 'unconvinced', 'elaborate', 'willpower', '\\\\Life', 'everything\\\\', 'Real', 'absence', 'answerin', 'åÈ10', 'evey', 'mnth', 'prin', '\\x89Û_Thanks', 'GSOH', 'SPAM', 'male', 'gigolo', 'mens', 'ONCALL', 'mjzgroup', '08714342399.2stop', 'å£1.50rcvd', 'ashwini', '08707500020', 'tomorrow/today', 'UKP', '09061790125', 'Seem', 'thet', 'skinny', 'casting', 'hockey', 'elections', 'shouldn\\x89Û÷t', '116', 'hlday', 'camp', 'Amrca', 'Serena', 'prescribed', 'meatballs', 'approve', 'panalam', 'SPJanuary', 'fortune', 'allday', 'piss', 'perf', 'outsider', 'receipts\\x89ÛÓwell', 'What\\x89Û÷s', '98321561', 'familiar', 'Expression', 'depression', 'Loved', 'Ni8', 'Infact', 'Simpsons', 'Movie', 'band', 'A-Green', 'B-Blue', 'C-Red', 'canåÕt', 'cornwall', 'isnåÕt', 'itåÕs', 'shite', 'kip', 'hont', 'Amanda', 'regard', 'renewing', 'upgrading', '3680', 'subject', 'nannys', 'puts', 'perspective', 'conveying', 'Ese', 'debating', 'Feeling', '//www.wtlp.co.uk/text', 'jb', 'florida', 'hidden', 'teams', 'swhrt', '2day.love', 'miss.take', '0906346330', '47', 'PO19', '2EZ', 'general', '/oz', 'if/when/how', 'Moment', 'value-Morning', 'faith', 'today.Good', 'jetton', 'friend-of-a-friend', 'cmon', 'fantasy', 'replies', 'Wylie', 'lunsford', 'enjoying', 'ORANGE', '0796XXXXXX', 'PRIZEAWAITING', 'kfc', 'meals', 'gravy', 'message.pandy', '07008009200', 'attended', 'mw', 'tuth', 'eviction', 'Spiral', 'Michael', 'riddance', '\\\\The', 'suffers', 'raglan', 'edward', 'cricket', 'closeby', 'skye', 'bookedthe', 'hut', 'drastic', 'FREEMSG', '3750', 'garments', 'Sez', 'arab', 'evry1', 'eshxxxxxxxxxxx', 'LAY', 'bimbo', 'ugo', 'Safe', 'Show', 'Euro', '2-4-1', 'Flag', '3Lions', 'portege', 'm100', 'semiobscure', 'PASS', 'polyphonic', 'gprs', 'Loosu', 'De', 'careless', 'freaking', 'MySpace', 'logged', 'PARTNER', 'method', 'jewelry', 'Block', 'Breaker', 'deluxe', 'features', 'graphics', 'å£5', 'BBDELUXE', 'lush', 'fumbling', 'stone', 'weekdays', 'Cut', 'nails', 'asia', 'STIL', 'FUCKED', 'TOBED', '430', 'Beauty', 'asthma', 'attack', 'Ball', 'lot.will', 'spin', 'Haiyoh', 'million', '02', 'prsn', 'saves', 'nothin', 'Science', 'BCoz', 'audiitions', 'relocate', 'pocked', 'motivating', 'sharing', 'brison', 'spelled', 'caps', 'bullshit', 'G.W.R', 'motherfucker', 'Kit', 'Strip', '1013', 'IG11', 'OJA', '08712402578', 'thesmszone.com', 'anonymous', 'masked', 'abuse', 'Woodland', 'avenue', 'parish', 'magazine', 'billy', 'Awww', 'useless', 'loo', 'hello-ed', 'swollen', 'glands', 'bcaz', 'STU', '2.IM', 'TRUBLE', 'MOMENT', 'EVONE', 'HATES', 'EVEN', 'HELL', 'AV', 'WONT', 'BCK', 'DAN', 'view', 'gays', 'dual', 'hostile', 'haircut', 'breezy', '1Apple/Day=No', '1Tulsi', 'Leaf/Day=No', '1Lemon/Day=No', 'Fat', '1Cup', 'Milk/day=No', 'Bone', 'Problms', 'Litres', 'Watr/Day=No', 'Diseases', 'Snd', 'ALSO', 'lavender', 'manky', 'scouse', 'travelling', 'home.wot', 'inmind', 'recreation', 'judgemental', 'fridays', 'waheeda', 'half-8th', 'bot', 'notes', 'Rent', 'Fun', 'although', 'eventually', 'tolerance', 'fucked', 'hits', '0789xxxxxxx', 'HELLOGORGEOUS', 'CHARGE', 'LST', 'NITW', 'TEXD', 'HOPEU', 'AD', 'WKEND', 'LOOKIN', '4WARD', 'C-IN', 'JAZ', '09058091870', 'POBox84', 'Exorcism', 'Emily', 'gooD', 'Evry', 'Emotion', 'Words.Evry', 'Prayrs', 'u.Othrwise', 'Stay', 'u.So', 'Ujhhhhhhh', 'sandiago', 'parantella', 'Wtf', 'Poop', 'hugging', 'sweater', 'mango', 'involved', 'del', 'å£600', 'Complete', 'landmark', 'Bob', 'B.', 'Barry', 'C.', 'Ben', '83738', 'consent', 'forms', 'TONEXS', 'renewed', 'www.clubzed.co.uk', 'BILLING', 'can\\x89Û÷t', 'Mathews', 'tait', 'edwards', 'anderson', 'haunt', 'promoting', 'hex', '.by', 'Joke', 'crowd', 'cardiff', '8000930705', 'snowboarding', 'christmassy', 'RECPT', '1/3', 'Baaaaaaaabe', 'ignoring', '-/', 'Shola', 'Sagamu', 'lautech', 'vital', 'completes', 'education', 'zealand', 'qet', 'FRIENDS', 'CLoSE', 'UNDERSTaND', 'STaY', 'dial', 'browser', 'surf', 'subscribers', 'G.B', 'well.you', 'life.you', 'that.i', 'conversations', 'us.GET', 'time.Your', 'senses.respect', 'overemphasise.or', 'Headset', '\\\\ADP\\\\', 'internal', 'extract', 'god.You', 'immed', 'skint', 'fancied', 'bevies.waz', 'othrs', 'spoon', 'watchng', 'planet', 'comfey', 'quitting', 'least5times', \"I'ma\", 'frequently', 'message.it', 'cupboard', 'route', '2mro', 'yellow', 'floppy', 'snappy', 'risk', 'grasp', 'flavour', 'laready', 'denying', 'Dom', 'TAMPA', 'FFFFUUUUUUU', 'annie', '\\\\julianaland\\\\', 'oblivious', 'dehydrated', 'mapquest', '\\\\usf', 'dogwood', 'drive\\\\', 'archive', 'UK-mobile-date', '08719839835', 'mgs', '\\\\go', 'stop\\\\', '89123', 'lengths', 'behalf', 'stunning', 'visa', 'gucci', 'CALLIN', 'BABE.SOZI', 'CULDNT', 'TALKBUT', 'WANNATELL', 'DETAILS', 'LATER', 'WENWECAN', 'PROPERLY', 'X\\\\', 'smsing', 'efficient', '5.15pm', 'Erutupalam', 'thandiyachu', 'invention', 'joking.', 'lyrics', 'reckon', 'nevr', 'unrecognized', 'somone', 'valuing', 'definitly', 'undrstnd', 'ger', 'toking', 'syd', 'khelate', 'kintu', 'opponenter', 'dhorte', 'lage', 'fried', 'spares', 'looovvve', 'warwick', 'tmw', 'canceled', 'tops', 'grandma', 'parade', 'iPOD', '+å£400', 'proze', 'Norcorp', 'Ltd.å£1,50/Mtmsgrcvd18+', 'posting', '7cfca1a', 'grumble', 'linear', 'algebra', 'decorating', 'wining', '946', 'roomate', 'graduated', 'adjustable', 'cooperative', 'allows', 'Nottingham', '63miles', '40mph', 'mornin', 'Thanku', '2MORRO', 'guessed', '89938', 'strings', 'å£1.50ea', 'OTBox', '731', 'LA1', '7WS', 'Understand', 'gain', 'School', 'MISSED', 'HAVENT', 'BORED', 'SAD', 'ISNT', 'beside', 'brisk', 'walks', 'sexiest', 'dirtiest', 'TELLMISS', 'Normally', 'Dare', 'Party', 'contribute', 'greatly', 'Urgh', 'coach', 'smells', 'duvet', 'predictive', 'Ready', 'w8in', '4uTxt', 'url', 'Deliver', '24th', 'sept.', 'cha', 'beverage', 'v.pist', 'surrender', '\\\\SYMPTOMS\\\\', '1.U', '2.U', '3.U', 'Gettin', 'rdy', 'PISS', 'TALKING', 'REALISE', 'POINT', 'READ', 'BACKWARDS', 'police', 'abstract', 'hiya', 'africa', 'avin', 'CHIT-CHAT', 'Logon', '8883', 'CM', '4217', 'W1A', '6ZF', '118p/msg', '\\\\CHA', 'QUITEAMUZING', 'THATåÕSCOOL', '\\\\URGENT', 'å£1000CALL', '09071512432', '300603t', 'csBCM4235WC1N3XX.callcost150ppmmobilesvary', '50\\\\', 'Abt', 'rows', 'engagement', 'fixd', 'njan', 'vilikkam', 'sudn', 'maths', 'chapter', 'chop', 'Noooooooo', '09065171142-stopsms-08718727870150ppm', 'firsg', 'split', 'wasnt', 'Full', 'heat', 'applyed', 'airtel', 'virgin', 'sumfing', 'PUTTIN', 'hiphop', 'oxygen', 'resort', 'roller', '4.30', 'recorder', 'canname', 'Australia', 'MQUIZ', '82277', 'SHOWR', 'Received', 'upon', 'ceiling', 'presnts', 'bcz', '\\\\jeevithathile', 'irulinae', 'neekunna', 'prakasamanu', 'sneham\\\\', 'prakasam', 'ennal', \"'That\", 'mns', \"is'LOVE\", 'blowing', '7634', '7684', 'Everybody', 'firmware', 'vijaykanth', 'captain', 'hide', 'anythiing', 'ripped', 'www.clubmoby.com', '08717509990', 'poly/true/Pix/Ringtones/Games', 'keypad', 'btwn', 'decades', 'BEER', 'PETROL', 'goverment', 'expects', '\\\\DRINK\\\\', 'DRIVE', 'spice', 'Prasanth', 'ettans', '08718738002', '48922', '21/11/04', 'APPY', 'FIZZ', 'contains', 'Ladies', 'genus', 'robinson', 'outs', 'REALY', 'SOZ', 'IMAT', 'MUMS', 'IDIOT\\\\', 'sometext', '07099833605', 'Ref:9280114', 'Chloe', '150p/text', 'Wewa', '130', 'Iriver', '255', '128', 'bw', 'Sry', 'Eatin', 'Hmmm.but', 'Surly', '07808726822', '0871-872-9758', 'dumb', 'i\\x89Û÷ll', 'Mmmmmmm', 'snuggles', 'contented', 'whispers', 'healthy', 'Wif', '2bold', 'brother\\x89Û÷s', 'scraped', 'barrel', 'misfits', 'switch', 'Her', 'sections', 'clearer', 'PEACH', 'CAKE', 'TASTS', 'LUSH', 'GAME', 'Rayman', 'Golf', 'activ8', 'Termsapply', 'shindig', 'Jason', 'Camera/Video', 'mins/texts', 'Career', 'INDYAROCKS.COM', 'phonebook', 'eng', 'rocking', 'ashes', 'Shijutta', 'offense', 'dvg', 'vinobanagar', 'ovulate.when', '3wks', '\\\\woah\\\\', 'realising', 'oh\\\\', '\\\\Thinking', 'Orh', 'beauty', 'hides', 'secrets', 'n8', 'soon.xxx', 'Cool-Mob', 'Frog-AXEL', 'Akon-Lonely', 'Eyed-Dont', 'wasted', 'Cashbin.co.uk', 'www.cashbin.co.uk', 'canteen', 'stressfull', 'Laugh', 'adds', 'continued', 'President', '140', 'Ìä', '180', 'bedrm', 'pleasured', 'support.providing', 'assistance', 'Whens', '1172', 'watever', 'reLation', 'built', 'atlast', 'lonlines', 'lotz', 'memories', 'CHEERS', 'LOU', 'GOODNITE', 'SHAME', 'CAME', 'GAILxx', 'complacent', 'SEEN', 'COMMON', 'ROOM', 'mina', 'Sen', 'miwa', 'senthil', 'hsbc', 'statement', 'Indeed', '-call', '09066649731from', 'Holy', 'mth', 'opposite', 'heavily', 'Saw', 'Guys', 'Dolls', 'Patrick', 'Swayze', '09077818151', 'Calls1.50ppm', '30s', 'www.santacalling.com', 'miserable', 'total', 'quarter', 'nervous', 'fired', 'limping', 'aa', '078498', '08719180219', '06.05.05', 'oga', 'poorly', 'punishment', 'Brb', 'kill', 'Predicte', 'situations', 'First-', 'Second-', 'loosing', 'smaller', 'capacity', 'Out', 'Videos', 'sms.shsex.netUN', 'fgkslpoPW', 'fgkslpo', '0871277810710p/min', 'Drink', 'defer', 'admission', '\\\\Checkmate\\\\', 'chess', 'Persian', 'phrase', 'Shah', 'Maat\\\\', 'Po', 'Rats', 'themes', 'pee', 'burns', 'BEST', 'PETE', 'WEEK+', '2GEVA', 'LONGER', 'THAN', 'photoshop', 'manageable', '08715203652', '42810', '29/10/0', 'too.pray', 'inshah', 'Ashley', 'S.this', 'increase', 'winning', 'Gain', 'wife.dont', 'it.i', 'too.Lets', 'north', 'carolina', 'texas', 'gre', 'bomb', 'breathing', '\\\\Response\\\\', 'powerful', 'weapon', \"'HEART\", 'lovly', 'Subscription', '150p/MSGRCVD', 'Skip', 'CustomerCare', 'clas', 'lit', 'Loooooool', '\\\\sleep', 'couch\\\\', 'rents', 'swashbuckling', 'Waste', 'Innocent', '5.Terror', '6.Cruel', '7.Romantic', '8.Lovable', '9.decent', '.joker', 'Dip', 'Texting', 'gek1510', 'feelin', 'Wuld', 'lyricalladie', '21/F', 'YES-910', 'NO-910', 'www.SMS.ac/u/hmmross', 'happiest', 'characters', 'differences', 'lists', 'crisis', 'When/where', 'antibiotic', 'abdomen', 'gynae', 'bone', 'Poor', 'lmao', '6times', 'exposed', 'chastity', 'device', 'beatings', 'uses', 'Miserable', 'gut', 'wrenching', 'tallahassee', 'ou', 'Taka', 'SUPER', 'PoBox202', 'NR31', '7ZS', '450pw', 'stops.\\\\', 'ritten', 'fold', 'etc.', '83118', 'Colin', 'Farrell', 'SWAT', 'Popcorn', 'msg+ticket', 'kiosk.Valid', '4-7/12', 'kiosk', 'SONY', 'mre', 'solihull', 'REGRET', 'INFORM', 'NHS', 'HAS', 'MADE', 'MISTAKE.U', 'ACTUALLY', 'BORN.PLEASE', 'REPORT', 'LOCAL', 'HOSPITAL', '2B', 'TERMINATED.WE', 'INCONVENIENCE', 'dentists', 'Goal', 'yards', 'Bergkamp', 'margin', '78', \"It'snot\", 'Ride', 'unintentional', 'nonetheless', 'hooch', 'toaday', 'Splat', 'Grazed', 'knees', 'Re', 'confirm/deny', 'hearin', 'yah', 'torture', 'england', 'hopeing', 'wasn\\x89Û÷t', 'sisters', 'SEXYCHAT', 'lips', 'Match', 'started.india', 'congratulation', 'court', 'chapel', 'frontierville', 'mountain', 'deer', 'mail.i', 'mailed', 'varma', 'membership.take', 'care.insha', 'Wrong', 'secure', 'Amy', 'parties', 'james', 'farting', '7:30', 'ortxt', 'Select', 'trained', 'advisors', 'dialling', '402', 'stuffing', 'Ahhhh', '9-6', 'holder', 'dining', 'experiencehttp', '//www.vouch4me.com/etlp/dining.asp', 'kaila', '09058094507', 'donate', 'UNICEF', 'Asian', 'Tsunami', 'disaster', 'fund', 'DONATE', '864233.', 'hos', '2morow', 'xuhui', 'collapsed', 'Stuff', 'DOES', 'cumming', 'JADE', 'PAUL', 'DIDNåÕT', 'REMEMBER', 'BARMED', 'TALK', 'Spending', 'Slept', 'thinkThis', 'dangerous', 'goldviking', '29/M', 'YES-762', 'NO-762', 'www.SMS.ac/u/goldviking', 'L8r', 'rushing', 'channel', 'coulda', 'Phony', 'XXXX', 'Eta', '12:30', 'okday', '-xx', 'Esplanade', 'Hmph', 'baller', 'punto', 'ayo', 'travelled', 'Looking', 'å£125', 'Freeentry', 'xt', 'www.ldew.com1win150ppmx3age16', 'toyota', 'camry', 'olayiwola', 'Mileage', 'k.its', 'landing', 'Holla', 'clover', 'number.pls', 'id.convey', 'achan', 'amma.Rakhesh.Qatar', \"'rencontre\", 'Mountains', '08714712412', 'nÌÂte', 'Getting', 'puppy', 'noise', '150p/meg', 'HG/Suite342/2lands', 'Row/W1j6HL', '08715203685', 'Code:4xx26', '13/10/04', 'crossing', 'deepest', 'darkest', 'fantasies', '09094646631', 'inconvenient', 'adsense', 'approved', 'dudette', 'perumbavoor', 'stage', 'clarify', 'preponed', 'Natalie', '20/F', 'YES-165', 'NO-165', 'www.SMS.ac/u/natalie2k9', 'younger', '08701213186', 'Desires-', 'liver', 'stylish', 'Hmmm.still', 'opener', 'guides', 'watched', 'loneliness', 'skyving', 'Pilates', 'Afternoon', 'onwords', 'mtnl', 'mumbai', '83039', '62735=å£450', 'AccommodationVouchers', 'mustprovide', '15541', 'Rajitha', 'Ranju', '5p', 'styles', 'Starting', 'TsCs08714740323', '1Winawk', 'å£1.50perweeksub', '09066361921', 'disagreeable', 'Guy', 'afterwards', '\\\\Keep', '\\\\HI', 'UAWAKE', 'FEELLIKW', 'SHIT.JUSTFOUND', 'VIA', 'ALETTER', 'THATMUM', 'GOTMARRIED', '4thNOV.BEHIND', 'OURBACKS', 'FUCKINNICE', 'SELFISH', 'rearrange', 'Dormitory', 'Dirty', 'Astronomer', 'starer', 'Election', 'Lies', 'recount', 'Mother-in-law', 'Woman', 'Hitler', 'Eleven', '=Twelve', 'worms', 'suffering', 'dysentry', 'andre', 'virgil', 'Gokila', 'Shanil', 'here.thanks', 'exchanged', 'uncut', 'diamond', 'stuff.leaving', 'Dino', 'Prem', 'K.k.this', 'kotees', 'Hit', 'Panther', 'Sugababes', 'Zebra', 'animation', 'badass', 'Hoody', 'wallpaper-all', '-tho', 'resent', 'Queries', 'customersqueries', 'netvision.uk.com', 'hassling', 'andres', 'HAUGHAIGHGTUJHYGUJ', 'Ding', 'fassyole', 'Blacko', 'londn', 'KISS', '4EVA', 'responsibilities', '08715205273', 'VCo', 'humanities', 'Fills', 'calm', 'reassurance', 'Aslamalaikkum', 'insha', 'tohar', 'beeen', 'muht', 'albi', 'mufti', 'mahfuuz', '078', '\\\\NOT', 'ENUFCREDEIT', 'TOCALL.SHALL', 'ILEAVE', '+GET', 'Chikku', 'treats', 'Okors', 'ibored', 'adding', 'zeros', 'savings', 'goigng', 'perfume', 'Sday', 'joined.so', 'grocers', 'pubs', 'Frankie', 'Bennys', 'warner', 'changing', 'diapers', 'owed', 'Unlike', 'patients', 'turkeys', 'helens', 'princes', 'unintentionally', 'wenever', 'stability', 'tranquility', 'vibrant', 'colourful', 'bawling', 'failure', 'failing', 'YEARS', 'BOYFRIEND', 'SI', 'Velusamy', 'facilities', 'karnan', 'bluray', 'I\\x89Û÷ve', 'salt', 'wounds', 'Water', 'logging', 'Geoenvironmental', 'implications', 'gently', 'Sms', 'Fuuuuck', 'salmon', 'uploaded', 'WRKIN', 'ree', 'compensation', 'awkward', 'i\\x89Û÷m', 'splash', 'leg', 'Musta', 'overdid', 'www.telediscount.co.uk', 'STUDENT', 'DISCOUNT', 'BOOKS', '2StopTxt', 'Hi.what', 'K.k.how', 'Jane', 'wrk', 'lst', 'Foned', 'chuck', 'port', 'stuffs', '\\\\OH', 'JUSWOKE', 'BOATIN', 'DOCKS', 'SLEPT', 'WID', 'OLD', 'SPINOUT', 'GOSSIP', 'L8R', 'XXX\\\\', 're-met', 'nichols', '08715203656', '42049', '26/10/04', 'realise', 'Started', 'uworld', 'qbank', 'assessment', 'Someonone', '09064015307', 'BOX334SK38ch', 'tke', 'tease', 'temales', 'finishd', 'dull', 'studies', 'anyones', 'treadmill', 'Craigslist', 'absolutely', 'South', 'Park', 'ni8.swt', 'drms.take', 'SOMETHIN', 'CALLED', 'SWAN', 'PARENTS', 'DRINK', '\\\\ER', 'asap.ok', 'Hello.How', 'lamp', 'k.wish', 'foward', '09061790126', 'Vikky', 'misundrstud', '2u2', 'genes', 'www.Ldew.com1win150ppmx3age16subscription', 'resuming', 'minimum', 'reapply', 'london', 'treatin', 'treacle', 'mumHas', 'beendropping', 'theplace', 'adress', 'Jolly', '.so', 'money.i', 'oyster', 'sashimi', 'rumbling', 'Kothi', 'marandratha', 'correctly', 'bless', 'Alaikkum.Pride', 'Tea', 'Shop.We', 'Qatar.Rakhesh', 'Indian.Pls', 'Number.Respectful', 'Regards', 'Gal', 'gal-can', 'boy-y', 'gal-no', 'heaven', 'GN', 'pisces', 'aquarius', '2yrs', 'steyn', 'wicket', 'Neither', 'sterm', 'resolved', 'Garbage', 'jam', 'hannaford', 'wheat', 'chex', 'pride', 'grownup', 'costume', 'Jerk', 'stink', 'TEXTCOMP', 'follows', 'subsequent', '150p/msg.2', 'openings', 'upcharge', '8-hr', 'Guai', 'Being', 'select', 'astrology', 'slacking', 'filling', 'forms.don', 'mentor', 'percent', '09095350301', 'erotic', 'ecstacy', 'dept', '13/4/04', '08717507382', 'coincidence', 'sane', 'helping', 'leading', '151', 'pause', 'gr8prizes', '8800', 'PSP', 'wk.TXT', 'http//www.gr8prizes.com', 'spacebucks', '0207-083-6089', 'squeezed', 'too.Pray', 'me.Remove', 'maintaining', '5.IåÕm', 'dreading', 'thou', 'suggestion', 'Lands', 'helps', 'forgt', 'Soon', 'FIGHTS', 'ajith', 'Ooooooh', 'yoville', 'mega', 'asda', 'counts', 'officer', 'respectful', 'bffs', 'carly', 'HARD', 'express', 'seperated', '\\x8eö´\\x89Ó_', '\\x8bÛ¬ud', 'Babes', 'brolly', 'English', 'Franxx', 'prometazine', 'syrup', '5mls', 'feed', 'singapore', 'victoria', 'traffic', 'pocay', 'wocay', '4eva', '2morrowxxxx', 'East', 'broth', 'ramen', 'fowler', 'siva', 'tats', 'flew', 'Calling', '09058094583', '15:26', 'pub/cafe', 'attention', 'tix', 'Mode', 'biola', 'fne', 'youdoing', 'Sar', 'worc', 'foregate', 'shrub', 'get4an18th', '32000', 'legitimat', 'efreefone', 'receipts', 'pendent', 'toilet', 'stolen', 'cops', 'HU', 'navigate', 'choosing', 'require', 'guidance', 'Except', 'chick', 'boobs', 'revealing', '\\\\For', 'sparkling', 'breaks', '45', '0121', '2025050', 'www.shortbreaks.org.uk\\\\', 'Gyno', 'belong', 'www.gamb.tv', 'treasure', 'http//tms', 'id=820554ad0a1705572711', 'first=trueåÁC', 'RingtoneåÁ', '09050000332', 'slide', 'positive', 'negative', 'Hmmmm', 'Dhoni', 'title.so', 'command', 'stressful', 'Holby', '09064017295', 'li', 'lecturer', 'repeating', 'yeovil', 'motor', 'max', 'rhode', 'bong', 'Ofcourse', '08448350055', 'PlanetTalkInstant.com', 'Marvel', 'Ultimate', 'Spider-man', 'SPIDER', '83338', '8Ball', 'tamilnadu', 'tip', '07808247860', '08719899229', '40411', '06/11/04', 'Apo', 'Perhaps', 'identification', 'limit', 'boundaries', 'endless', 'Machan', 'reassuring', 'young', 'referin', 'Miles', 'saibaba', 'colany', 'chic', 'Common', 'Declare', '49557', '26/11/04', 'disappointment', 'irritation', 'tantrum', 'Compliments', 'adventuring', 'chief', 'Gsex', '2667', 'WC1N', '3XX', '3MOBILE', 'CHATLINES', 'INCLU', 'MINS', 'CUST', 'SERVs', 'SED', 'L8ER', 'MEGA', 'BILL', 'BAILIFF', 'DUE', 'Armand', 'mouse', 'desk', 'Ic', 'childporn', 'jumpers', 'hat', 'belt', 'Cribbs', 'spiritual', 'barring', 'sudden', 'influx', 'Yeh', 'Tho', 'kane', 'shud', 'Mite', 'Pshew', 'units', 'accent', '4years', 'dental', 'nmde', 'dump', 'heap', 'lowes', 'BORING', 'salesman', 'REMINDER', '2.50', 'å£750', '087187272008', 'NOW1', 'Pity', 'suggestions', 'bitching']\n"
          ]
        }
      ],
      "source": [
        "allTokens = [token for sublist in spam2['NLTK token'] for token in sublist] # Flatten the list of lists into a single list\n",
        "wordFreq = Counter(allTokens) # Count the frequency of each word\n",
        "rareWords = [word for word, freq in wordFreq.items() if freq == 1] # Filter out words that appear only once\n",
        "\n",
        "print(\"The rare words are:\", rareWords)"
      ]
    },
    {
      "cell_type": "code",
      "execution_count": null,
      "metadata": {
        "id": "iamRj6d17Tbo"
      },
      "outputs": [],
      "source": [
        "NLTKTokenTatalWords, NLTKTokenAvgWordPerMsg, NLTKTokenMostFreq, NLTKTokenRareWords = analize_list_statistics(spam2['NLTK token'])"
      ]
    },
    {
      "cell_type": "code",
      "execution_count": null,
      "metadata": {
        "colab": {
          "base_uri": "https://localhost:8080/"
        },
        "id": "hKFnUHwL7g6-",
        "outputId": "d5447966-0c01-4a22-d601-ed9805373696"
      },
      "outputs": [
        {
          "output_type": "stream",
          "name": "stdout",
          "text": [
            "NLTK tokenized amount: 104193\n",
            "NLTK tokens averaged number of words per message: 18.699389806173727\n",
            "NLTK tokens Most friquent token  [('.', 4886), ('to', 2148), ('I', 1956), ('you', 1888), (',', 1871)]\n",
            "NLTK tokens number of rare words are: 6187\n"
          ]
        }
      ],
      "source": [
        "print(\"NLTK tokenized amount:\", NLTKTokenTatalWords)\n",
        "print(\"NLTK tokens averaged number of words per message:\", NLTKTokenAvgWordPerMsg)\n",
        "print(\"NLTK tokens Most friquent token \", NLTKTokenMostFreq )\n",
        "print(\"NLTK tokens number of rare words are:\", NLTKTokenRareWords)"
      ]
    },
    {
      "cell_type": "code",
      "execution_count": null,
      "metadata": {
        "id": "5dEYm_HjNheh"
      },
      "outputs": [],
      "source": [
        "NLTKLemmaTatalWords, NLTKLemmaAvgWordPerMsg, NLTKLemmaMostFreq, NLTKLemmaRareWords = analize_list_statistics(spam2['NLTK lemma'])"
      ]
    },
    {
      "cell_type": "code",
      "execution_count": null,
      "metadata": {
        "colab": {
          "base_uri": "https://localhost:8080/"
        },
        "id": "Q6UZxw8v4zH6",
        "outputId": "c4490e50-89da-44ae-815c-4bd6dbb7f67f"
      },
      "outputs": [
        {
          "output_type": "stream",
          "name": "stdout",
          "text": [
            "NLTK lemma word amount: 104193\n",
            "NLTK lemma averaged number of words per message: 18.699389806173727\n",
            "NLTK lemma Most friquent token  [('.', 4886), ('to', 2148), ('I', 1956), ('you', 1888), (',', 1871)]\n",
            "NLTK lemma number of rare words are: 5903\n"
          ]
        }
      ],
      "source": [
        "print(\"NLTK lemma word amount:\", NLTKLemmaTatalWords)\n",
        "print(\"NLTK lemma averaged number of words per message:\", NLTKLemmaAvgWordPerMsg)\n",
        "print(\"NLTK lemma Most friquent token \", NLTKLemmaMostFreq )\n",
        "print(\"NLTK lemma number of rare words are:\", NLTKLemmaRareWords)"
      ]
    },
    {
      "cell_type": "code",
      "execution_count": null,
      "metadata": {
        "id": "_femnzWfA7Sf"
      },
      "outputs": [],
      "source": [
        "NLTKstemeTatalWords, NLTKstemeAvgWordPerMsg, NLTKstemeMostFreq, NLTKstemeRareWords = analize_list_statistics(spam2['NLTK stems'])"
      ]
    },
    {
      "cell_type": "code",
      "execution_count": null,
      "metadata": {
        "colab": {
          "base_uri": "https://localhost:8080/"
        },
        "id": "AFm6PKLt_pBP",
        "outputId": "02714704-f7d3-41ea-c11c-0c39c49d1c6f"
      },
      "outputs": [
        {
          "output_type": "stream",
          "name": "stdout",
          "text": [
            "NLTK stemes word amount: 104193\n",
            "NLTK stemes averaged number of words per message: 18.699389806173727\n",
            "NLTK stemes Most friquent token  [('.', 4886), ('i', 2900), ('to', 2241), ('you', 2228), (',', 1871)]\n",
            "NLTK stemes number of rare words are: 4179\n"
          ]
        }
      ],
      "source": [
        "print(\"NLTK stemes word amount:\", NLTKstemeTatalWords)\n",
        "print(\"NLTK stemes averaged number of words per message:\", NLTKstemeAvgWordPerMsg)\n",
        "print(\"NLTK stemes Most friquent token \", NLTKstemeMostFreq )\n",
        "print(\"NLTK stemes number of rare words are:\", NLTKstemeRareWords)"
      ]
    },
    {
      "cell_type": "code",
      "execution_count": null,
      "metadata": {
        "id": "IP8Z3rk5FmqB"
      },
      "outputs": [],
      "source": [
        "spacyTokenTatalWords, spacyTokenAvgWordPerMsg, spacyTokenMostFreq, spacyTokenRareWords = analize_list_statistics(spam2['tokens_spacy'])"
      ]
    },
    {
      "cell_type": "code",
      "execution_count": null,
      "metadata": {
        "colab": {
          "base_uri": "https://localhost:8080/"
        },
        "id": "z6oBUA79Fxtw",
        "outputId": "add9e38a-d284-4c44-bdaa-8c86e2c8a47d"
      },
      "outputs": [
        {
          "output_type": "stream",
          "name": "stdout",
          "text": [
            "spacy tokenized amount: 103084\n",
            "spacy tokens averaged number of words per message: 18.500358937544867\n",
            "spacy tokens Most friquent token  [('.', 4945), ('to', 2148), ('I', 1988), ('you', 1878), (',', 1857)]\n",
            "spacy tokens number of rare words are: 6272\n"
          ]
        }
      ],
      "source": [
        "print(\"spacy tokenized amount:\", spacyTokenTatalWords)\n",
        "print(\"spacy tokens averaged number of words per message:\", spacyTokenAvgWordPerMsg)\n",
        "print(\"spacy tokens Most friquent token \", spacyTokenMostFreq )\n",
        "print(\"spacy tokens number of rare words are:\", spacyTokenRareWords)"
      ]
    },
    {
      "cell_type": "code",
      "execution_count": null,
      "metadata": {
        "id": "28hh0px8F6D7"
      },
      "outputs": [],
      "source": [
        "spacyLemmaTatalWords, spacyLemmaAvgWordPerMsg, spacyLemmaMostFreq, spacyLemmaRareWords = analize_list_statistics(spam2['lemmas_spacy'])"
      ]
    },
    {
      "cell_type": "code",
      "execution_count": null,
      "metadata": {
        "colab": {
          "base_uri": "https://localhost:8080/"
        },
        "id": "K35Jrcf_GJjJ",
        "outputId": "009486a2-7446-4b1d-af80-3fd104fd6dba"
      },
      "outputs": [
        {
          "output_type": "stream",
          "name": "stdout",
          "text": [
            "spacy lemmas amount: 103084\n",
            "spacy lemmas averaged number of words per message: 18.500358937544867\n",
            "spacy lemmas Most friquent token  [('.', 4945), ('I', 3722), ('be', 3260), ('to', 2309), ('you', 2217)]\n",
            "spacy lemmas number of rare words are: 5359\n"
          ]
        }
      ],
      "source": [
        "print(\"spacy lemmas amount:\", spacyLemmaTatalWords)\n",
        "print(\"spacy lemmas averaged number of words per message:\", spacyLemmaAvgWordPerMsg)\n",
        "print(\"spacy lemmas Most friquent token \", spacyLemmaMostFreq )\n",
        "print(\"spacy lemmas number of rare words are:\", spacyLemmaRareWords)"
      ]
    },
    {
      "cell_type": "markdown",
      "metadata": {
        "id": "AIkyx5u8NmA2"
      },
      "source": [
        "## 9.) Compare the results of NLTK vs. Spacy."
      ]
    },
    {
      "cell_type": "code",
      "execution_count": null,
      "metadata": {
        "id": "nqxUWh29GRkQ"
      },
      "outputs": [],
      "source": [
        "rowsNames = ['NLTK token', 'NLTK lemma', 'NLTK stems', 'tokens_spacy', 'lemmas_spacy']\n",
        "totalWrdsCount = [NLTKTokenTatalWords, NLTKLemmaTatalWords, NLTKstemeTatalWords, spacyTokenTatalWords, spacyLemmaTatalWords]\n",
        "avgWrdsCount = [NLTKTokenAvgWordPerMsg, NLTKLemmaAvgWordPerMsg, NLTKstemeAvgWordPerMsg, spacyTokenAvgWordPerMsg, spacyLemmaAvgWordPerMsg]\n",
        "nuberOfRareWords = [NLTKTokenRareWords, NLTKLemmaRareWords, NLTKstemeRareWords, spacyTokenRareWords, spacyLemmaRareWords]\n",
        "\n",
        "numericalComperisonDf = pd.DataFrame({\n",
        "    \"indicator Name\":rowsNames,\n",
        "    \"Total word count\":totalWrdsCount,\n",
        "    \"avg Words Count\":avgWrdsCount,\n",
        "    \"Number Of RareWords\":nuberOfRareWords\n",
        "})"
      ]
    },
    {
      "cell_type": "code",
      "execution_count": null,
      "metadata": {
        "colab": {
          "base_uri": "https://localhost:8080/",
          "height": 206
        },
        "id": "mTb5-opSIEH1",
        "outputId": "b7fa5f74-eb62-4dd3-ec34-bf04293a5c59"
      },
      "outputs": [
        {
          "output_type": "execute_result",
          "data": {
            "text/plain": [
              "  indicator Name  Total word count  avg Words Count  Number Of RareWords\n",
              "0     NLTK token            104193        18.699390                 6187\n",
              "1     NLTK lemma            104193        18.699390                 5903\n",
              "2     NLTK stems            104193        18.699390                 4179\n",
              "3   tokens_spacy            103084        18.500359                 6272\n",
              "4   lemmas_spacy            103084        18.500359                 5359"
            ],
            "text/html": [
              "\n",
              "  <div id=\"df-40eb1967-d0bf-4ecf-99b9-5b5284513701\" class=\"colab-df-container\">\n",
              "    <div>\n",
              "<style scoped>\n",
              "    .dataframe tbody tr th:only-of-type {\n",
              "        vertical-align: middle;\n",
              "    }\n",
              "\n",
              "    .dataframe tbody tr th {\n",
              "        vertical-align: top;\n",
              "    }\n",
              "\n",
              "    .dataframe thead th {\n",
              "        text-align: right;\n",
              "    }\n",
              "</style>\n",
              "<table border=\"1\" class=\"dataframe\">\n",
              "  <thead>\n",
              "    <tr style=\"text-align: right;\">\n",
              "      <th></th>\n",
              "      <th>indicator Name</th>\n",
              "      <th>Total word count</th>\n",
              "      <th>avg Words Count</th>\n",
              "      <th>Number Of RareWords</th>\n",
              "    </tr>\n",
              "  </thead>\n",
              "  <tbody>\n",
              "    <tr>\n",
              "      <th>0</th>\n",
              "      <td>NLTK token</td>\n",
              "      <td>104193</td>\n",
              "      <td>18.699390</td>\n",
              "      <td>6187</td>\n",
              "    </tr>\n",
              "    <tr>\n",
              "      <th>1</th>\n",
              "      <td>NLTK lemma</td>\n",
              "      <td>104193</td>\n",
              "      <td>18.699390</td>\n",
              "      <td>5903</td>\n",
              "    </tr>\n",
              "    <tr>\n",
              "      <th>2</th>\n",
              "      <td>NLTK stems</td>\n",
              "      <td>104193</td>\n",
              "      <td>18.699390</td>\n",
              "      <td>4179</td>\n",
              "    </tr>\n",
              "    <tr>\n",
              "      <th>3</th>\n",
              "      <td>tokens_spacy</td>\n",
              "      <td>103084</td>\n",
              "      <td>18.500359</td>\n",
              "      <td>6272</td>\n",
              "    </tr>\n",
              "    <tr>\n",
              "      <th>4</th>\n",
              "      <td>lemmas_spacy</td>\n",
              "      <td>103084</td>\n",
              "      <td>18.500359</td>\n",
              "      <td>5359</td>\n",
              "    </tr>\n",
              "  </tbody>\n",
              "</table>\n",
              "</div>\n",
              "    <div class=\"colab-df-buttons\">\n",
              "\n",
              "  <div class=\"colab-df-container\">\n",
              "    <button class=\"colab-df-convert\" onclick=\"convertToInteractive('df-40eb1967-d0bf-4ecf-99b9-5b5284513701')\"\n",
              "            title=\"Convert this dataframe to an interactive table.\"\n",
              "            style=\"display:none;\">\n",
              "\n",
              "  <svg xmlns=\"http://www.w3.org/2000/svg\" height=\"24px\" viewBox=\"0 -960 960 960\">\n",
              "    <path d=\"M120-120v-720h720v720H120Zm60-500h600v-160H180v160Zm220 220h160v-160H400v160Zm0 220h160v-160H400v160ZM180-400h160v-160H180v160Zm440 0h160v-160H620v160ZM180-180h160v-160H180v160Zm440 0h160v-160H620v160Z\"/>\n",
              "  </svg>\n",
              "    </button>\n",
              "\n",
              "  <style>\n",
              "    .colab-df-container {\n",
              "      display:flex;\n",
              "      gap: 12px;\n",
              "    }\n",
              "\n",
              "    .colab-df-convert {\n",
              "      background-color: #E8F0FE;\n",
              "      border: none;\n",
              "      border-radius: 50%;\n",
              "      cursor: pointer;\n",
              "      display: none;\n",
              "      fill: #1967D2;\n",
              "      height: 32px;\n",
              "      padding: 0 0 0 0;\n",
              "      width: 32px;\n",
              "    }\n",
              "\n",
              "    .colab-df-convert:hover {\n",
              "      background-color: #E2EBFA;\n",
              "      box-shadow: 0px 1px 2px rgba(60, 64, 67, 0.3), 0px 1px 3px 1px rgba(60, 64, 67, 0.15);\n",
              "      fill: #174EA6;\n",
              "    }\n",
              "\n",
              "    .colab-df-buttons div {\n",
              "      margin-bottom: 4px;\n",
              "    }\n",
              "\n",
              "    [theme=dark] .colab-df-convert {\n",
              "      background-color: #3B4455;\n",
              "      fill: #D2E3FC;\n",
              "    }\n",
              "\n",
              "    [theme=dark] .colab-df-convert:hover {\n",
              "      background-color: #434B5C;\n",
              "      box-shadow: 0px 1px 3px 1px rgba(0, 0, 0, 0.15);\n",
              "      filter: drop-shadow(0px 1px 2px rgba(0, 0, 0, 0.3));\n",
              "      fill: #FFFFFF;\n",
              "    }\n",
              "  </style>\n",
              "\n",
              "    <script>\n",
              "      const buttonEl =\n",
              "        document.querySelector('#df-40eb1967-d0bf-4ecf-99b9-5b5284513701 button.colab-df-convert');\n",
              "      buttonEl.style.display =\n",
              "        google.colab.kernel.accessAllowed ? 'block' : 'none';\n",
              "\n",
              "      async function convertToInteractive(key) {\n",
              "        const element = document.querySelector('#df-40eb1967-d0bf-4ecf-99b9-5b5284513701');\n",
              "        const dataTable =\n",
              "          await google.colab.kernel.invokeFunction('convertToInteractive',\n",
              "                                                    [key], {});\n",
              "        if (!dataTable) return;\n",
              "\n",
              "        const docLinkHtml = 'Like what you see? Visit the ' +\n",
              "          '<a target=\"_blank\" href=https://colab.research.google.com/notebooks/data_table.ipynb>data table notebook</a>'\n",
              "          + ' to learn more about interactive tables.';\n",
              "        element.innerHTML = '';\n",
              "        dataTable['output_type'] = 'display_data';\n",
              "        await google.colab.output.renderOutput(dataTable, element);\n",
              "        const docLink = document.createElement('div');\n",
              "        docLink.innerHTML = docLinkHtml;\n",
              "        element.appendChild(docLink);\n",
              "      }\n",
              "    </script>\n",
              "  </div>\n",
              "\n",
              "\n",
              "<div id=\"df-98668d09-66ab-4051-8bd6-344cfb31203e\">\n",
              "  <button class=\"colab-df-quickchart\" onclick=\"quickchart('df-98668d09-66ab-4051-8bd6-344cfb31203e')\"\n",
              "            title=\"Suggest charts\"\n",
              "            style=\"display:none;\">\n",
              "\n",
              "<svg xmlns=\"http://www.w3.org/2000/svg\" height=\"24px\"viewBox=\"0 0 24 24\"\n",
              "     width=\"24px\">\n",
              "    <g>\n",
              "        <path d=\"M19 3H5c-1.1 0-2 .9-2 2v14c0 1.1.9 2 2 2h14c1.1 0 2-.9 2-2V5c0-1.1-.9-2-2-2zM9 17H7v-7h2v7zm4 0h-2V7h2v10zm4 0h-2v-4h2v4z\"/>\n",
              "    </g>\n",
              "</svg>\n",
              "  </button>\n",
              "\n",
              "<style>\n",
              "  .colab-df-quickchart {\n",
              "      --bg-color: #E8F0FE;\n",
              "      --fill-color: #1967D2;\n",
              "      --hover-bg-color: #E2EBFA;\n",
              "      --hover-fill-color: #174EA6;\n",
              "      --disabled-fill-color: #AAA;\n",
              "      --disabled-bg-color: #DDD;\n",
              "  }\n",
              "\n",
              "  [theme=dark] .colab-df-quickchart {\n",
              "      --bg-color: #3B4455;\n",
              "      --fill-color: #D2E3FC;\n",
              "      --hover-bg-color: #434B5C;\n",
              "      --hover-fill-color: #FFFFFF;\n",
              "      --disabled-bg-color: #3B4455;\n",
              "      --disabled-fill-color: #666;\n",
              "  }\n",
              "\n",
              "  .colab-df-quickchart {\n",
              "    background-color: var(--bg-color);\n",
              "    border: none;\n",
              "    border-radius: 50%;\n",
              "    cursor: pointer;\n",
              "    display: none;\n",
              "    fill: var(--fill-color);\n",
              "    height: 32px;\n",
              "    padding: 0;\n",
              "    width: 32px;\n",
              "  }\n",
              "\n",
              "  .colab-df-quickchart:hover {\n",
              "    background-color: var(--hover-bg-color);\n",
              "    box-shadow: 0 1px 2px rgba(60, 64, 67, 0.3), 0 1px 3px 1px rgba(60, 64, 67, 0.15);\n",
              "    fill: var(--button-hover-fill-color);\n",
              "  }\n",
              "\n",
              "  .colab-df-quickchart-complete:disabled,\n",
              "  .colab-df-quickchart-complete:disabled:hover {\n",
              "    background-color: var(--disabled-bg-color);\n",
              "    fill: var(--disabled-fill-color);\n",
              "    box-shadow: none;\n",
              "  }\n",
              "\n",
              "  .colab-df-spinner {\n",
              "    border: 2px solid var(--fill-color);\n",
              "    border-color: transparent;\n",
              "    border-bottom-color: var(--fill-color);\n",
              "    animation:\n",
              "      spin 1s steps(1) infinite;\n",
              "  }\n",
              "\n",
              "  @keyframes spin {\n",
              "    0% {\n",
              "      border-color: transparent;\n",
              "      border-bottom-color: var(--fill-color);\n",
              "      border-left-color: var(--fill-color);\n",
              "    }\n",
              "    20% {\n",
              "      border-color: transparent;\n",
              "      border-left-color: var(--fill-color);\n",
              "      border-top-color: var(--fill-color);\n",
              "    }\n",
              "    30% {\n",
              "      border-color: transparent;\n",
              "      border-left-color: var(--fill-color);\n",
              "      border-top-color: var(--fill-color);\n",
              "      border-right-color: var(--fill-color);\n",
              "    }\n",
              "    40% {\n",
              "      border-color: transparent;\n",
              "      border-right-color: var(--fill-color);\n",
              "      border-top-color: var(--fill-color);\n",
              "    }\n",
              "    60% {\n",
              "      border-color: transparent;\n",
              "      border-right-color: var(--fill-color);\n",
              "    }\n",
              "    80% {\n",
              "      border-color: transparent;\n",
              "      border-right-color: var(--fill-color);\n",
              "      border-bottom-color: var(--fill-color);\n",
              "    }\n",
              "    90% {\n",
              "      border-color: transparent;\n",
              "      border-bottom-color: var(--fill-color);\n",
              "    }\n",
              "  }\n",
              "</style>\n",
              "\n",
              "  <script>\n",
              "    async function quickchart(key) {\n",
              "      const quickchartButtonEl =\n",
              "        document.querySelector('#' + key + ' button');\n",
              "      quickchartButtonEl.disabled = true;  // To prevent multiple clicks.\n",
              "      quickchartButtonEl.classList.add('colab-df-spinner');\n",
              "      try {\n",
              "        const charts = await google.colab.kernel.invokeFunction(\n",
              "            'suggestCharts', [key], {});\n",
              "      } catch (error) {\n",
              "        console.error('Error during call to suggestCharts:', error);\n",
              "      }\n",
              "      quickchartButtonEl.classList.remove('colab-df-spinner');\n",
              "      quickchartButtonEl.classList.add('colab-df-quickchart-complete');\n",
              "    }\n",
              "    (() => {\n",
              "      let quickchartButtonEl =\n",
              "        document.querySelector('#df-98668d09-66ab-4051-8bd6-344cfb31203e button');\n",
              "      quickchartButtonEl.style.display =\n",
              "        google.colab.kernel.accessAllowed ? 'block' : 'none';\n",
              "    })();\n",
              "  </script>\n",
              "</div>\n",
              "\n",
              "  <div id=\"id_6627f91a-5a18-4ae3-9648-80fa8382c1e4\">\n",
              "    <style>\n",
              "      .colab-df-generate {\n",
              "        background-color: #E8F0FE;\n",
              "        border: none;\n",
              "        border-radius: 50%;\n",
              "        cursor: pointer;\n",
              "        display: none;\n",
              "        fill: #1967D2;\n",
              "        height: 32px;\n",
              "        padding: 0 0 0 0;\n",
              "        width: 32px;\n",
              "      }\n",
              "\n",
              "      .colab-df-generate:hover {\n",
              "        background-color: #E2EBFA;\n",
              "        box-shadow: 0px 1px 2px rgba(60, 64, 67, 0.3), 0px 1px 3px 1px rgba(60, 64, 67, 0.15);\n",
              "        fill: #174EA6;\n",
              "      }\n",
              "\n",
              "      [theme=dark] .colab-df-generate {\n",
              "        background-color: #3B4455;\n",
              "        fill: #D2E3FC;\n",
              "      }\n",
              "\n",
              "      [theme=dark] .colab-df-generate:hover {\n",
              "        background-color: #434B5C;\n",
              "        box-shadow: 0px 1px 3px 1px rgba(0, 0, 0, 0.15);\n",
              "        filter: drop-shadow(0px 1px 2px rgba(0, 0, 0, 0.3));\n",
              "        fill: #FFFFFF;\n",
              "      }\n",
              "    </style>\n",
              "    <button class=\"colab-df-generate\" onclick=\"generateWithVariable('numericalComperisonDf')\"\n",
              "            title=\"Generate code using this dataframe.\"\n",
              "            style=\"display:none;\">\n",
              "\n",
              "  <svg xmlns=\"http://www.w3.org/2000/svg\" height=\"24px\"viewBox=\"0 0 24 24\"\n",
              "       width=\"24px\">\n",
              "    <path d=\"M7,19H8.4L18.45,9,17,7.55,7,17.6ZM5,21V16.75L18.45,3.32a2,2,0,0,1,2.83,0l1.4,1.43a1.91,1.91,0,0,1,.58,1.4,1.91,1.91,0,0,1-.58,1.4L9.25,21ZM18.45,9,17,7.55Zm-12,3A5.31,5.31,0,0,0,4.9,8.1,5.31,5.31,0,0,0,1,6.5,5.31,5.31,0,0,0,4.9,4.9,5.31,5.31,0,0,0,6.5,1,5.31,5.31,0,0,0,8.1,4.9,5.31,5.31,0,0,0,12,6.5,5.46,5.46,0,0,0,6.5,12Z\"/>\n",
              "  </svg>\n",
              "    </button>\n",
              "    <script>\n",
              "      (() => {\n",
              "      const buttonEl =\n",
              "        document.querySelector('#id_6627f91a-5a18-4ae3-9648-80fa8382c1e4 button.colab-df-generate');\n",
              "      buttonEl.style.display =\n",
              "        google.colab.kernel.accessAllowed ? 'block' : 'none';\n",
              "\n",
              "      buttonEl.onclick = () => {\n",
              "        google.colab.notebook.generateWithVariable('numericalComperisonDf');\n",
              "      }\n",
              "      })();\n",
              "    </script>\n",
              "  </div>\n",
              "\n",
              "    </div>\n",
              "  </div>\n"
            ],
            "application/vnd.google.colaboratory.intrinsic+json": {
              "type": "dataframe",
              "variable_name": "numericalComperisonDf",
              "summary": "{\n  \"name\": \"numericalComperisonDf\",\n  \"rows\": 5,\n  \"fields\": [\n    {\n      \"column\": \"indicator Name\",\n      \"properties\": {\n        \"dtype\": \"string\",\n        \"num_unique_values\": 5,\n        \"samples\": [\n          \"NLTK lemma\",\n          \"lemmas_spacy\",\n          \"NLTK stems\"\n        ],\n        \"semantic_type\": \"\",\n        \"description\": \"\"\n      }\n    },\n    {\n      \"column\": \"Total word count\",\n      \"properties\": {\n        \"dtype\": \"number\",\n        \"std\": 607,\n        \"min\": 103084,\n        \"max\": 104193,\n        \"num_unique_values\": 2,\n        \"samples\": [\n          103084,\n          104193\n        ],\n        \"semantic_type\": \"\",\n        \"description\": \"\"\n      }\n    },\n    {\n      \"column\": \"avg Words Count\",\n      \"properties\": {\n        \"dtype\": \"number\",\n        \"std\": 0.10901369638787393,\n        \"min\": 18.500358937544867,\n        \"max\": 18.699389806173727,\n        \"num_unique_values\": 2,\n        \"samples\": [\n          18.500358937544867,\n          18.699389806173727\n        ],\n        \"semantic_type\": \"\",\n        \"description\": \"\"\n      }\n    },\n    {\n      \"column\": \"Number Of RareWords\",\n      \"properties\": {\n        \"dtype\": \"number\",\n        \"std\": 860,\n        \"min\": 4179,\n        \"max\": 6272,\n        \"num_unique_values\": 5,\n        \"samples\": [\n          5903,\n          5359\n        ],\n        \"semantic_type\": \"\",\n        \"description\": \"\"\n      }\n    }\n  ]\n}"
            }
          },
          "metadata": {},
          "execution_count": 310
        }
      ],
      "source": [
        "numericalComperisonDf"
      ]
    },
    {
      "cell_type": "markdown",
      "metadata": {
        "id": "3QdND5bVLdao"
      },
      "source": [
        "The above compare table between the numerical values of the NLTK and spacy tokenization, lemmatization and stemming"
      ]
    },
    {
      "cell_type": "code",
      "execution_count": null,
      "metadata": {
        "id": "oOMqj6U4Jx3T"
      },
      "outputs": [],
      "source": [
        "mostFreqComparison = pd.DataFrame({\n",
        "    \"NLTK token\":NLTKTokenMostFreq,\n",
        "    \"NLTK lemma\":NLTKLemmaMostFreq,\n",
        "    \"NLTK stems\":NLTKstemeMostFreq,\n",
        "    \"spacy token\":spacyTokenMostFreq,\n",
        "    \"spacy lemma\":spacyLemmaMostFreq\n",
        "})"
      ]
    },
    {
      "cell_type": "code",
      "execution_count": null,
      "metadata": {
        "colab": {
          "base_uri": "https://localhost:8080/",
          "height": 206
        },
        "id": "PC1OW1YuMKo2",
        "outputId": "153bb2ca-7b80-4e50-8d12-8b2f77ada852"
      },
      "outputs": [
        {
          "output_type": "execute_result",
          "data": {
            "text/plain": [
              "    NLTK token   NLTK lemma   NLTK stems  spacy token  spacy lemma\n",
              "0    (., 4886)    (., 4886)    (., 4886)    (., 4945)    (., 4945)\n",
              "1   (to, 2148)   (to, 2148)    (i, 2900)   (to, 2148)    (I, 3722)\n",
              "2    (I, 1956)    (I, 1956)   (to, 2241)    (I, 1988)   (be, 3260)\n",
              "3  (you, 1888)  (you, 1888)  (you, 2228)  (you, 1878)   (to, 2309)\n",
              "4    (,, 1871)    (,, 1871)    (,, 1871)    (,, 1857)  (you, 2217)"
            ],
            "text/html": [
              "\n",
              "  <div id=\"df-fe942eb0-d323-4c43-9144-e845b394c3be\" class=\"colab-df-container\">\n",
              "    <div>\n",
              "<style scoped>\n",
              "    .dataframe tbody tr th:only-of-type {\n",
              "        vertical-align: middle;\n",
              "    }\n",
              "\n",
              "    .dataframe tbody tr th {\n",
              "        vertical-align: top;\n",
              "    }\n",
              "\n",
              "    .dataframe thead th {\n",
              "        text-align: right;\n",
              "    }\n",
              "</style>\n",
              "<table border=\"1\" class=\"dataframe\">\n",
              "  <thead>\n",
              "    <tr style=\"text-align: right;\">\n",
              "      <th></th>\n",
              "      <th>NLTK token</th>\n",
              "      <th>NLTK lemma</th>\n",
              "      <th>NLTK stems</th>\n",
              "      <th>spacy token</th>\n",
              "      <th>spacy lemma</th>\n",
              "    </tr>\n",
              "  </thead>\n",
              "  <tbody>\n",
              "    <tr>\n",
              "      <th>0</th>\n",
              "      <td>(., 4886)</td>\n",
              "      <td>(., 4886)</td>\n",
              "      <td>(., 4886)</td>\n",
              "      <td>(., 4945)</td>\n",
              "      <td>(., 4945)</td>\n",
              "    </tr>\n",
              "    <tr>\n",
              "      <th>1</th>\n",
              "      <td>(to, 2148)</td>\n",
              "      <td>(to, 2148)</td>\n",
              "      <td>(i, 2900)</td>\n",
              "      <td>(to, 2148)</td>\n",
              "      <td>(I, 3722)</td>\n",
              "    </tr>\n",
              "    <tr>\n",
              "      <th>2</th>\n",
              "      <td>(I, 1956)</td>\n",
              "      <td>(I, 1956)</td>\n",
              "      <td>(to, 2241)</td>\n",
              "      <td>(I, 1988)</td>\n",
              "      <td>(be, 3260)</td>\n",
              "    </tr>\n",
              "    <tr>\n",
              "      <th>3</th>\n",
              "      <td>(you, 1888)</td>\n",
              "      <td>(you, 1888)</td>\n",
              "      <td>(you, 2228)</td>\n",
              "      <td>(you, 1878)</td>\n",
              "      <td>(to, 2309)</td>\n",
              "    </tr>\n",
              "    <tr>\n",
              "      <th>4</th>\n",
              "      <td>(,, 1871)</td>\n",
              "      <td>(,, 1871)</td>\n",
              "      <td>(,, 1871)</td>\n",
              "      <td>(,, 1857)</td>\n",
              "      <td>(you, 2217)</td>\n",
              "    </tr>\n",
              "  </tbody>\n",
              "</table>\n",
              "</div>\n",
              "    <div class=\"colab-df-buttons\">\n",
              "\n",
              "  <div class=\"colab-df-container\">\n",
              "    <button class=\"colab-df-convert\" onclick=\"convertToInteractive('df-fe942eb0-d323-4c43-9144-e845b394c3be')\"\n",
              "            title=\"Convert this dataframe to an interactive table.\"\n",
              "            style=\"display:none;\">\n",
              "\n",
              "  <svg xmlns=\"http://www.w3.org/2000/svg\" height=\"24px\" viewBox=\"0 -960 960 960\">\n",
              "    <path d=\"M120-120v-720h720v720H120Zm60-500h600v-160H180v160Zm220 220h160v-160H400v160Zm0 220h160v-160H400v160ZM180-400h160v-160H180v160Zm440 0h160v-160H620v160ZM180-180h160v-160H180v160Zm440 0h160v-160H620v160Z\"/>\n",
              "  </svg>\n",
              "    </button>\n",
              "\n",
              "  <style>\n",
              "    .colab-df-container {\n",
              "      display:flex;\n",
              "      gap: 12px;\n",
              "    }\n",
              "\n",
              "    .colab-df-convert {\n",
              "      background-color: #E8F0FE;\n",
              "      border: none;\n",
              "      border-radius: 50%;\n",
              "      cursor: pointer;\n",
              "      display: none;\n",
              "      fill: #1967D2;\n",
              "      height: 32px;\n",
              "      padding: 0 0 0 0;\n",
              "      width: 32px;\n",
              "    }\n",
              "\n",
              "    .colab-df-convert:hover {\n",
              "      background-color: #E2EBFA;\n",
              "      box-shadow: 0px 1px 2px rgba(60, 64, 67, 0.3), 0px 1px 3px 1px rgba(60, 64, 67, 0.15);\n",
              "      fill: #174EA6;\n",
              "    }\n",
              "\n",
              "    .colab-df-buttons div {\n",
              "      margin-bottom: 4px;\n",
              "    }\n",
              "\n",
              "    [theme=dark] .colab-df-convert {\n",
              "      background-color: #3B4455;\n",
              "      fill: #D2E3FC;\n",
              "    }\n",
              "\n",
              "    [theme=dark] .colab-df-convert:hover {\n",
              "      background-color: #434B5C;\n",
              "      box-shadow: 0px 1px 3px 1px rgba(0, 0, 0, 0.15);\n",
              "      filter: drop-shadow(0px 1px 2px rgba(0, 0, 0, 0.3));\n",
              "      fill: #FFFFFF;\n",
              "    }\n",
              "  </style>\n",
              "\n",
              "    <script>\n",
              "      const buttonEl =\n",
              "        document.querySelector('#df-fe942eb0-d323-4c43-9144-e845b394c3be button.colab-df-convert');\n",
              "      buttonEl.style.display =\n",
              "        google.colab.kernel.accessAllowed ? 'block' : 'none';\n",
              "\n",
              "      async function convertToInteractive(key) {\n",
              "        const element = document.querySelector('#df-fe942eb0-d323-4c43-9144-e845b394c3be');\n",
              "        const dataTable =\n",
              "          await google.colab.kernel.invokeFunction('convertToInteractive',\n",
              "                                                    [key], {});\n",
              "        if (!dataTable) return;\n",
              "\n",
              "        const docLinkHtml = 'Like what you see? Visit the ' +\n",
              "          '<a target=\"_blank\" href=https://colab.research.google.com/notebooks/data_table.ipynb>data table notebook</a>'\n",
              "          + ' to learn more about interactive tables.';\n",
              "        element.innerHTML = '';\n",
              "        dataTable['output_type'] = 'display_data';\n",
              "        await google.colab.output.renderOutput(dataTable, element);\n",
              "        const docLink = document.createElement('div');\n",
              "        docLink.innerHTML = docLinkHtml;\n",
              "        element.appendChild(docLink);\n",
              "      }\n",
              "    </script>\n",
              "  </div>\n",
              "\n",
              "\n",
              "<div id=\"df-4a914231-baba-4dfe-82c0-012f6a63aa4c\">\n",
              "  <button class=\"colab-df-quickchart\" onclick=\"quickchart('df-4a914231-baba-4dfe-82c0-012f6a63aa4c')\"\n",
              "            title=\"Suggest charts\"\n",
              "            style=\"display:none;\">\n",
              "\n",
              "<svg xmlns=\"http://www.w3.org/2000/svg\" height=\"24px\"viewBox=\"0 0 24 24\"\n",
              "     width=\"24px\">\n",
              "    <g>\n",
              "        <path d=\"M19 3H5c-1.1 0-2 .9-2 2v14c0 1.1.9 2 2 2h14c1.1 0 2-.9 2-2V5c0-1.1-.9-2-2-2zM9 17H7v-7h2v7zm4 0h-2V7h2v10zm4 0h-2v-4h2v4z\"/>\n",
              "    </g>\n",
              "</svg>\n",
              "  </button>\n",
              "\n",
              "<style>\n",
              "  .colab-df-quickchart {\n",
              "      --bg-color: #E8F0FE;\n",
              "      --fill-color: #1967D2;\n",
              "      --hover-bg-color: #E2EBFA;\n",
              "      --hover-fill-color: #174EA6;\n",
              "      --disabled-fill-color: #AAA;\n",
              "      --disabled-bg-color: #DDD;\n",
              "  }\n",
              "\n",
              "  [theme=dark] .colab-df-quickchart {\n",
              "      --bg-color: #3B4455;\n",
              "      --fill-color: #D2E3FC;\n",
              "      --hover-bg-color: #434B5C;\n",
              "      --hover-fill-color: #FFFFFF;\n",
              "      --disabled-bg-color: #3B4455;\n",
              "      --disabled-fill-color: #666;\n",
              "  }\n",
              "\n",
              "  .colab-df-quickchart {\n",
              "    background-color: var(--bg-color);\n",
              "    border: none;\n",
              "    border-radius: 50%;\n",
              "    cursor: pointer;\n",
              "    display: none;\n",
              "    fill: var(--fill-color);\n",
              "    height: 32px;\n",
              "    padding: 0;\n",
              "    width: 32px;\n",
              "  }\n",
              "\n",
              "  .colab-df-quickchart:hover {\n",
              "    background-color: var(--hover-bg-color);\n",
              "    box-shadow: 0 1px 2px rgba(60, 64, 67, 0.3), 0 1px 3px 1px rgba(60, 64, 67, 0.15);\n",
              "    fill: var(--button-hover-fill-color);\n",
              "  }\n",
              "\n",
              "  .colab-df-quickchart-complete:disabled,\n",
              "  .colab-df-quickchart-complete:disabled:hover {\n",
              "    background-color: var(--disabled-bg-color);\n",
              "    fill: var(--disabled-fill-color);\n",
              "    box-shadow: none;\n",
              "  }\n",
              "\n",
              "  .colab-df-spinner {\n",
              "    border: 2px solid var(--fill-color);\n",
              "    border-color: transparent;\n",
              "    border-bottom-color: var(--fill-color);\n",
              "    animation:\n",
              "      spin 1s steps(1) infinite;\n",
              "  }\n",
              "\n",
              "  @keyframes spin {\n",
              "    0% {\n",
              "      border-color: transparent;\n",
              "      border-bottom-color: var(--fill-color);\n",
              "      border-left-color: var(--fill-color);\n",
              "    }\n",
              "    20% {\n",
              "      border-color: transparent;\n",
              "      border-left-color: var(--fill-color);\n",
              "      border-top-color: var(--fill-color);\n",
              "    }\n",
              "    30% {\n",
              "      border-color: transparent;\n",
              "      border-left-color: var(--fill-color);\n",
              "      border-top-color: var(--fill-color);\n",
              "      border-right-color: var(--fill-color);\n",
              "    }\n",
              "    40% {\n",
              "      border-color: transparent;\n",
              "      border-right-color: var(--fill-color);\n",
              "      border-top-color: var(--fill-color);\n",
              "    }\n",
              "    60% {\n",
              "      border-color: transparent;\n",
              "      border-right-color: var(--fill-color);\n",
              "    }\n",
              "    80% {\n",
              "      border-color: transparent;\n",
              "      border-right-color: var(--fill-color);\n",
              "      border-bottom-color: var(--fill-color);\n",
              "    }\n",
              "    90% {\n",
              "      border-color: transparent;\n",
              "      border-bottom-color: var(--fill-color);\n",
              "    }\n",
              "  }\n",
              "</style>\n",
              "\n",
              "  <script>\n",
              "    async function quickchart(key) {\n",
              "      const quickchartButtonEl =\n",
              "        document.querySelector('#' + key + ' button');\n",
              "      quickchartButtonEl.disabled = true;  // To prevent multiple clicks.\n",
              "      quickchartButtonEl.classList.add('colab-df-spinner');\n",
              "      try {\n",
              "        const charts = await google.colab.kernel.invokeFunction(\n",
              "            'suggestCharts', [key], {});\n",
              "      } catch (error) {\n",
              "        console.error('Error during call to suggestCharts:', error);\n",
              "      }\n",
              "      quickchartButtonEl.classList.remove('colab-df-spinner');\n",
              "      quickchartButtonEl.classList.add('colab-df-quickchart-complete');\n",
              "    }\n",
              "    (() => {\n",
              "      let quickchartButtonEl =\n",
              "        document.querySelector('#df-4a914231-baba-4dfe-82c0-012f6a63aa4c button');\n",
              "      quickchartButtonEl.style.display =\n",
              "        google.colab.kernel.accessAllowed ? 'block' : 'none';\n",
              "    })();\n",
              "  </script>\n",
              "</div>\n",
              "\n",
              "    </div>\n",
              "  </div>\n"
            ],
            "application/vnd.google.colaboratory.intrinsic+json": {
              "type": "dataframe",
              "variable_name": "mostFreqComparison",
              "summary": "{\n  \"name\": \"mostFreqComparison\",\n  \"rows\": 5,\n  \"fields\": [\n    {\n      \"column\": \"NLTK token\",\n      \"properties\": {\n        \"dtype\": \"string\",\n        \"num_unique_values\": 5,\n        \"samples\": [\n          [\n            \"to\",\n            2148\n          ],\n          [\n            \",\",\n            1871\n          ],\n          [\n            \"I\",\n            1956\n          ]\n        ],\n        \"semantic_type\": \"\",\n        \"description\": \"\"\n      }\n    },\n    {\n      \"column\": \"NLTK lemma\",\n      \"properties\": {\n        \"dtype\": \"string\",\n        \"num_unique_values\": 5,\n        \"samples\": [\n          [\n            \"to\",\n            2148\n          ],\n          [\n            \",\",\n            1871\n          ],\n          [\n            \"I\",\n            1956\n          ]\n        ],\n        \"semantic_type\": \"\",\n        \"description\": \"\"\n      }\n    },\n    {\n      \"column\": \"NLTK stems\",\n      \"properties\": {\n        \"dtype\": \"string\",\n        \"num_unique_values\": 5,\n        \"samples\": [\n          [\n            \"i\",\n            2900\n          ],\n          [\n            \",\",\n            1871\n          ],\n          [\n            \"to\",\n            2241\n          ]\n        ],\n        \"semantic_type\": \"\",\n        \"description\": \"\"\n      }\n    },\n    {\n      \"column\": \"spacy token\",\n      \"properties\": {\n        \"dtype\": \"string\",\n        \"num_unique_values\": 5,\n        \"samples\": [\n          [\n            \"to\",\n            2148\n          ],\n          [\n            \",\",\n            1857\n          ],\n          [\n            \"I\",\n            1988\n          ]\n        ],\n        \"semantic_type\": \"\",\n        \"description\": \"\"\n      }\n    },\n    {\n      \"column\": \"spacy lemma\",\n      \"properties\": {\n        \"dtype\": \"string\",\n        \"num_unique_values\": 5,\n        \"samples\": [\n          [\n            \"I\",\n            3722\n          ],\n          [\n            \"you\",\n            2217\n          ],\n          [\n            \"be\",\n            3260\n          ]\n        ],\n        \"semantic_type\": \"\",\n        \"description\": \"\"\n      }\n    }\n  ]\n}"
            }
          },
          "metadata": {},
          "execution_count": 312
        }
      ],
      "source": [
        "mostFreqComparison.head()"
      ]
    },
    {
      "cell_type": "markdown",
      "metadata": {
        "id": "CSZ9GEgKMfAC"
      },
      "source": [
        "From the above comparison table we can see the similarity of the most frequent word in all features and the deffrence at the second most frequent word and so on to the next frequecies"
      ]
    },
    {
      "cell_type": "markdown",
      "metadata": {
        "id": "SuzSJgsPN8Yo"
      },
      "source": [
        "## 10.)Compare the results of NLTK before and after tokenization, lemmatization and stemming\n",
        "## +\n",
        "## 11.) Compare the results of Spacy before and after tokenization, lemmatization and stemming"
      ]
    },
    {
      "cell_type": "code",
      "execution_count": null,
      "metadata": {
        "id": "Cszp5VJaN-g5"
      },
      "outputs": [],
      "source": [
        "originalTatalWords, originalAvgWordPerMsg, originalMostFreq, originalRareWords = analize_list_statistics(spam[\"label\"])\n",
        "\n",
        "rowsNames = ['Original messages','NLTK token', 'NLTK lemma', 'NLTK stems', 'tokens_spacy', 'lemmas_spacy']\n",
        "totalWrdsCount = [originalTatalWords, NLTKTokenTatalWords, NLTKLemmaTatalWords, NLTKstemeTatalWords, spacyTokenTatalWords, spacyLemmaTatalWords]\n",
        "avgWrdsCount = [originalAvgWordPerMsg, NLTKTokenAvgWordPerMsg, NLTKLemmaAvgWordPerMsg, NLTKstemeAvgWordPerMsg, spacyTokenAvgWordPerMsg, spacyLemmaAvgWordPerMsg]\n",
        "numberOfRareWords = [originalRareWords, NLTKTokenRareWords, NLTKLemmaRareWords, NLTKstemeRareWords, spacyTokenRareWords, spacyLemmaRareWords]\n",
        "\n",
        "numericalComperisonDfBeforeAfter = pd.DataFrame({\n",
        "    \"indicator Name\":rowsNames,\n",
        "    \"Total word count\":totalWrdsCount,\n",
        "    \"avg Words Count\":avgWrdsCount,\n",
        "    \"Number Of RareWords\":numberOfRareWords\n",
        "})\n"
      ]
    },
    {
      "cell_type": "code",
      "execution_count": null,
      "metadata": {
        "colab": {
          "base_uri": "https://localhost:8080/",
          "height": 237
        },
        "id": "eAKdysPxSGeq",
        "outputId": "c5333b89-3b00-4ad6-d721-e7acaa6c7e10"
      },
      "outputs": [
        {
          "output_type": "execute_result",
          "data": {
            "text/plain": [
              "      indicator Name  Total word count  avg Words Count  Number Of RareWords\n",
              "0  Original messages             17463         3.134063                    0\n",
              "1         NLTK token            104193        18.699390                 6187\n",
              "2         NLTK lemma            104193        18.699390                 5903\n",
              "3         NLTK stems            104193        18.699390                 4179\n",
              "4       tokens_spacy            103084        18.500359                 6272\n",
              "5       lemmas_spacy            103084        18.500359                 5359"
            ],
            "text/html": [
              "\n",
              "  <div id=\"df-56809756-72e4-4a78-81be-3cdf7309c2f9\" class=\"colab-df-container\">\n",
              "    <div>\n",
              "<style scoped>\n",
              "    .dataframe tbody tr th:only-of-type {\n",
              "        vertical-align: middle;\n",
              "    }\n",
              "\n",
              "    .dataframe tbody tr th {\n",
              "        vertical-align: top;\n",
              "    }\n",
              "\n",
              "    .dataframe thead th {\n",
              "        text-align: right;\n",
              "    }\n",
              "</style>\n",
              "<table border=\"1\" class=\"dataframe\">\n",
              "  <thead>\n",
              "    <tr style=\"text-align: right;\">\n",
              "      <th></th>\n",
              "      <th>indicator Name</th>\n",
              "      <th>Total word count</th>\n",
              "      <th>avg Words Count</th>\n",
              "      <th>Number Of RareWords</th>\n",
              "    </tr>\n",
              "  </thead>\n",
              "  <tbody>\n",
              "    <tr>\n",
              "      <th>0</th>\n",
              "      <td>Original messages</td>\n",
              "      <td>17463</td>\n",
              "      <td>3.134063</td>\n",
              "      <td>0</td>\n",
              "    </tr>\n",
              "    <tr>\n",
              "      <th>1</th>\n",
              "      <td>NLTK token</td>\n",
              "      <td>104193</td>\n",
              "      <td>18.699390</td>\n",
              "      <td>6187</td>\n",
              "    </tr>\n",
              "    <tr>\n",
              "      <th>2</th>\n",
              "      <td>NLTK lemma</td>\n",
              "      <td>104193</td>\n",
              "      <td>18.699390</td>\n",
              "      <td>5903</td>\n",
              "    </tr>\n",
              "    <tr>\n",
              "      <th>3</th>\n",
              "      <td>NLTK stems</td>\n",
              "      <td>104193</td>\n",
              "      <td>18.699390</td>\n",
              "      <td>4179</td>\n",
              "    </tr>\n",
              "    <tr>\n",
              "      <th>4</th>\n",
              "      <td>tokens_spacy</td>\n",
              "      <td>103084</td>\n",
              "      <td>18.500359</td>\n",
              "      <td>6272</td>\n",
              "    </tr>\n",
              "    <tr>\n",
              "      <th>5</th>\n",
              "      <td>lemmas_spacy</td>\n",
              "      <td>103084</td>\n",
              "      <td>18.500359</td>\n",
              "      <td>5359</td>\n",
              "    </tr>\n",
              "  </tbody>\n",
              "</table>\n",
              "</div>\n",
              "    <div class=\"colab-df-buttons\">\n",
              "\n",
              "  <div class=\"colab-df-container\">\n",
              "    <button class=\"colab-df-convert\" onclick=\"convertToInteractive('df-56809756-72e4-4a78-81be-3cdf7309c2f9')\"\n",
              "            title=\"Convert this dataframe to an interactive table.\"\n",
              "            style=\"display:none;\">\n",
              "\n",
              "  <svg xmlns=\"http://www.w3.org/2000/svg\" height=\"24px\" viewBox=\"0 -960 960 960\">\n",
              "    <path d=\"M120-120v-720h720v720H120Zm60-500h600v-160H180v160Zm220 220h160v-160H400v160Zm0 220h160v-160H400v160ZM180-400h160v-160H180v160Zm440 0h160v-160H620v160ZM180-180h160v-160H180v160Zm440 0h160v-160H620v160Z\"/>\n",
              "  </svg>\n",
              "    </button>\n",
              "\n",
              "  <style>\n",
              "    .colab-df-container {\n",
              "      display:flex;\n",
              "      gap: 12px;\n",
              "    }\n",
              "\n",
              "    .colab-df-convert {\n",
              "      background-color: #E8F0FE;\n",
              "      border: none;\n",
              "      border-radius: 50%;\n",
              "      cursor: pointer;\n",
              "      display: none;\n",
              "      fill: #1967D2;\n",
              "      height: 32px;\n",
              "      padding: 0 0 0 0;\n",
              "      width: 32px;\n",
              "    }\n",
              "\n",
              "    .colab-df-convert:hover {\n",
              "      background-color: #E2EBFA;\n",
              "      box-shadow: 0px 1px 2px rgba(60, 64, 67, 0.3), 0px 1px 3px 1px rgba(60, 64, 67, 0.15);\n",
              "      fill: #174EA6;\n",
              "    }\n",
              "\n",
              "    .colab-df-buttons div {\n",
              "      margin-bottom: 4px;\n",
              "    }\n",
              "\n",
              "    [theme=dark] .colab-df-convert {\n",
              "      background-color: #3B4455;\n",
              "      fill: #D2E3FC;\n",
              "    }\n",
              "\n",
              "    [theme=dark] .colab-df-convert:hover {\n",
              "      background-color: #434B5C;\n",
              "      box-shadow: 0px 1px 3px 1px rgba(0, 0, 0, 0.15);\n",
              "      filter: drop-shadow(0px 1px 2px rgba(0, 0, 0, 0.3));\n",
              "      fill: #FFFFFF;\n",
              "    }\n",
              "  </style>\n",
              "\n",
              "    <script>\n",
              "      const buttonEl =\n",
              "        document.querySelector('#df-56809756-72e4-4a78-81be-3cdf7309c2f9 button.colab-df-convert');\n",
              "      buttonEl.style.display =\n",
              "        google.colab.kernel.accessAllowed ? 'block' : 'none';\n",
              "\n",
              "      async function convertToInteractive(key) {\n",
              "        const element = document.querySelector('#df-56809756-72e4-4a78-81be-3cdf7309c2f9');\n",
              "        const dataTable =\n",
              "          await google.colab.kernel.invokeFunction('convertToInteractive',\n",
              "                                                    [key], {});\n",
              "        if (!dataTable) return;\n",
              "\n",
              "        const docLinkHtml = 'Like what you see? Visit the ' +\n",
              "          '<a target=\"_blank\" href=https://colab.research.google.com/notebooks/data_table.ipynb>data table notebook</a>'\n",
              "          + ' to learn more about interactive tables.';\n",
              "        element.innerHTML = '';\n",
              "        dataTable['output_type'] = 'display_data';\n",
              "        await google.colab.output.renderOutput(dataTable, element);\n",
              "        const docLink = document.createElement('div');\n",
              "        docLink.innerHTML = docLinkHtml;\n",
              "        element.appendChild(docLink);\n",
              "      }\n",
              "    </script>\n",
              "  </div>\n",
              "\n",
              "\n",
              "<div id=\"df-e342676c-badf-45ca-b494-1bf8414c7f86\">\n",
              "  <button class=\"colab-df-quickchart\" onclick=\"quickchart('df-e342676c-badf-45ca-b494-1bf8414c7f86')\"\n",
              "            title=\"Suggest charts\"\n",
              "            style=\"display:none;\">\n",
              "\n",
              "<svg xmlns=\"http://www.w3.org/2000/svg\" height=\"24px\"viewBox=\"0 0 24 24\"\n",
              "     width=\"24px\">\n",
              "    <g>\n",
              "        <path d=\"M19 3H5c-1.1 0-2 .9-2 2v14c0 1.1.9 2 2 2h14c1.1 0 2-.9 2-2V5c0-1.1-.9-2-2-2zM9 17H7v-7h2v7zm4 0h-2V7h2v10zm4 0h-2v-4h2v4z\"/>\n",
              "    </g>\n",
              "</svg>\n",
              "  </button>\n",
              "\n",
              "<style>\n",
              "  .colab-df-quickchart {\n",
              "      --bg-color: #E8F0FE;\n",
              "      --fill-color: #1967D2;\n",
              "      --hover-bg-color: #E2EBFA;\n",
              "      --hover-fill-color: #174EA6;\n",
              "      --disabled-fill-color: #AAA;\n",
              "      --disabled-bg-color: #DDD;\n",
              "  }\n",
              "\n",
              "  [theme=dark] .colab-df-quickchart {\n",
              "      --bg-color: #3B4455;\n",
              "      --fill-color: #D2E3FC;\n",
              "      --hover-bg-color: #434B5C;\n",
              "      --hover-fill-color: #FFFFFF;\n",
              "      --disabled-bg-color: #3B4455;\n",
              "      --disabled-fill-color: #666;\n",
              "  }\n",
              "\n",
              "  .colab-df-quickchart {\n",
              "    background-color: var(--bg-color);\n",
              "    border: none;\n",
              "    border-radius: 50%;\n",
              "    cursor: pointer;\n",
              "    display: none;\n",
              "    fill: var(--fill-color);\n",
              "    height: 32px;\n",
              "    padding: 0;\n",
              "    width: 32px;\n",
              "  }\n",
              "\n",
              "  .colab-df-quickchart:hover {\n",
              "    background-color: var(--hover-bg-color);\n",
              "    box-shadow: 0 1px 2px rgba(60, 64, 67, 0.3), 0 1px 3px 1px rgba(60, 64, 67, 0.15);\n",
              "    fill: var(--button-hover-fill-color);\n",
              "  }\n",
              "\n",
              "  .colab-df-quickchart-complete:disabled,\n",
              "  .colab-df-quickchart-complete:disabled:hover {\n",
              "    background-color: var(--disabled-bg-color);\n",
              "    fill: var(--disabled-fill-color);\n",
              "    box-shadow: none;\n",
              "  }\n",
              "\n",
              "  .colab-df-spinner {\n",
              "    border: 2px solid var(--fill-color);\n",
              "    border-color: transparent;\n",
              "    border-bottom-color: var(--fill-color);\n",
              "    animation:\n",
              "      spin 1s steps(1) infinite;\n",
              "  }\n",
              "\n",
              "  @keyframes spin {\n",
              "    0% {\n",
              "      border-color: transparent;\n",
              "      border-bottom-color: var(--fill-color);\n",
              "      border-left-color: var(--fill-color);\n",
              "    }\n",
              "    20% {\n",
              "      border-color: transparent;\n",
              "      border-left-color: var(--fill-color);\n",
              "      border-top-color: var(--fill-color);\n",
              "    }\n",
              "    30% {\n",
              "      border-color: transparent;\n",
              "      border-left-color: var(--fill-color);\n",
              "      border-top-color: var(--fill-color);\n",
              "      border-right-color: var(--fill-color);\n",
              "    }\n",
              "    40% {\n",
              "      border-color: transparent;\n",
              "      border-right-color: var(--fill-color);\n",
              "      border-top-color: var(--fill-color);\n",
              "    }\n",
              "    60% {\n",
              "      border-color: transparent;\n",
              "      border-right-color: var(--fill-color);\n",
              "    }\n",
              "    80% {\n",
              "      border-color: transparent;\n",
              "      border-right-color: var(--fill-color);\n",
              "      border-bottom-color: var(--fill-color);\n",
              "    }\n",
              "    90% {\n",
              "      border-color: transparent;\n",
              "      border-bottom-color: var(--fill-color);\n",
              "    }\n",
              "  }\n",
              "</style>\n",
              "\n",
              "  <script>\n",
              "    async function quickchart(key) {\n",
              "      const quickchartButtonEl =\n",
              "        document.querySelector('#' + key + ' button');\n",
              "      quickchartButtonEl.disabled = true;  // To prevent multiple clicks.\n",
              "      quickchartButtonEl.classList.add('colab-df-spinner');\n",
              "      try {\n",
              "        const charts = await google.colab.kernel.invokeFunction(\n",
              "            'suggestCharts', [key], {});\n",
              "      } catch (error) {\n",
              "        console.error('Error during call to suggestCharts:', error);\n",
              "      }\n",
              "      quickchartButtonEl.classList.remove('colab-df-spinner');\n",
              "      quickchartButtonEl.classList.add('colab-df-quickchart-complete');\n",
              "    }\n",
              "    (() => {\n",
              "      let quickchartButtonEl =\n",
              "        document.querySelector('#df-e342676c-badf-45ca-b494-1bf8414c7f86 button');\n",
              "      quickchartButtonEl.style.display =\n",
              "        google.colab.kernel.accessAllowed ? 'block' : 'none';\n",
              "    })();\n",
              "  </script>\n",
              "</div>\n",
              "\n",
              "  <div id=\"id_5184e82f-38ef-42ad-b3e4-165210a50df9\">\n",
              "    <style>\n",
              "      .colab-df-generate {\n",
              "        background-color: #E8F0FE;\n",
              "        border: none;\n",
              "        border-radius: 50%;\n",
              "        cursor: pointer;\n",
              "        display: none;\n",
              "        fill: #1967D2;\n",
              "        height: 32px;\n",
              "        padding: 0 0 0 0;\n",
              "        width: 32px;\n",
              "      }\n",
              "\n",
              "      .colab-df-generate:hover {\n",
              "        background-color: #E2EBFA;\n",
              "        box-shadow: 0px 1px 2px rgba(60, 64, 67, 0.3), 0px 1px 3px 1px rgba(60, 64, 67, 0.15);\n",
              "        fill: #174EA6;\n",
              "      }\n",
              "\n",
              "      [theme=dark] .colab-df-generate {\n",
              "        background-color: #3B4455;\n",
              "        fill: #D2E3FC;\n",
              "      }\n",
              "\n",
              "      [theme=dark] .colab-df-generate:hover {\n",
              "        background-color: #434B5C;\n",
              "        box-shadow: 0px 1px 3px 1px rgba(0, 0, 0, 0.15);\n",
              "        filter: drop-shadow(0px 1px 2px rgba(0, 0, 0, 0.3));\n",
              "        fill: #FFFFFF;\n",
              "      }\n",
              "    </style>\n",
              "    <button class=\"colab-df-generate\" onclick=\"generateWithVariable('numericalComperisonDfBeforeAfter')\"\n",
              "            title=\"Generate code using this dataframe.\"\n",
              "            style=\"display:none;\">\n",
              "\n",
              "  <svg xmlns=\"http://www.w3.org/2000/svg\" height=\"24px\"viewBox=\"0 0 24 24\"\n",
              "       width=\"24px\">\n",
              "    <path d=\"M7,19H8.4L18.45,9,17,7.55,7,17.6ZM5,21V16.75L18.45,3.32a2,2,0,0,1,2.83,0l1.4,1.43a1.91,1.91,0,0,1,.58,1.4,1.91,1.91,0,0,1-.58,1.4L9.25,21ZM18.45,9,17,7.55Zm-12,3A5.31,5.31,0,0,0,4.9,8.1,5.31,5.31,0,0,0,1,6.5,5.31,5.31,0,0,0,4.9,4.9,5.31,5.31,0,0,0,6.5,1,5.31,5.31,0,0,0,8.1,4.9,5.31,5.31,0,0,0,12,6.5,5.46,5.46,0,0,0,6.5,12Z\"/>\n",
              "  </svg>\n",
              "    </button>\n",
              "    <script>\n",
              "      (() => {\n",
              "      const buttonEl =\n",
              "        document.querySelector('#id_5184e82f-38ef-42ad-b3e4-165210a50df9 button.colab-df-generate');\n",
              "      buttonEl.style.display =\n",
              "        google.colab.kernel.accessAllowed ? 'block' : 'none';\n",
              "\n",
              "      buttonEl.onclick = () => {\n",
              "        google.colab.notebook.generateWithVariable('numericalComperisonDfBeforeAfter');\n",
              "      }\n",
              "      })();\n",
              "    </script>\n",
              "  </div>\n",
              "\n",
              "    </div>\n",
              "  </div>\n"
            ],
            "application/vnd.google.colaboratory.intrinsic+json": {
              "type": "dataframe",
              "variable_name": "numericalComperisonDfBeforeAfter",
              "summary": "{\n  \"name\": \"numericalComperisonDfBeforeAfter\",\n  \"rows\": 6,\n  \"fields\": [\n    {\n      \"column\": \"indicator Name\",\n      \"properties\": {\n        \"dtype\": \"string\",\n        \"num_unique_values\": 6,\n        \"samples\": [\n          \"Original messages\",\n          \"NLTK token\",\n          \"lemmas_spacy\"\n        ],\n        \"semantic_type\": \"\",\n        \"description\": \"\"\n      }\n    },\n    {\n      \"column\": \"Total word count\",\n      \"properties\": {\n        \"dtype\": \"number\",\n        \"std\": 35230,\n        \"min\": 17463,\n        \"max\": 104193,\n        \"num_unique_values\": 3,\n        \"samples\": [\n          17463,\n          104193,\n          103084\n        ],\n        \"semantic_type\": \"\",\n        \"description\": \"\"\n      }\n    },\n    {\n      \"column\": \"avg Words Count\",\n      \"properties\": {\n        \"dtype\": \"number\",\n        \"std\": 6.322768250162479,\n        \"min\": 3.1340631730078967,\n        \"max\": 18.699389806173727,\n        \"num_unique_values\": 3,\n        \"samples\": [\n          3.1340631730078967,\n          18.699389806173727,\n          18.500358937544867\n        ],\n        \"semantic_type\": \"\",\n        \"description\": \"\"\n      }\n    },\n    {\n      \"column\": \"Number Of RareWords\",\n      \"properties\": {\n        \"dtype\": \"number\",\n        \"std\": 2404,\n        \"min\": 0,\n        \"max\": 6272,\n        \"num_unique_values\": 6,\n        \"samples\": [\n          0,\n          6187,\n          5359\n        ],\n        \"semantic_type\": \"\",\n        \"description\": \"\"\n      }\n    }\n  ]\n}"
            }
          },
          "metadata": {},
          "execution_count": 318
        }
      ],
      "source": [
        "numericalComperisonDfBeforeAfter"
      ]
    },
    {
      "cell_type": "markdown",
      "metadata": {
        "id": "ihwr8aHPhyGc"
      },
      "source": [
        "From the table above we ca can see that for statistics of the tokenizers and lemmatizares and stemmers"
      ]
    },
    {
      "cell_type": "markdown",
      "metadata": {
        "id": "5Zl2-6ANh7Z8"
      },
      "source": [
        "## 12.)  Install the library BeautifulSoup"
      ]
    },
    {
      "cell_type": "code",
      "execution_count": null,
      "metadata": {
        "colab": {
          "base_uri": "https://localhost:8080/"
        },
        "id": "5QQdgSMiSntk",
        "outputId": "d1c27c25-a074-4da6-a823-ae75782688f6"
      },
      "outputs": [
        {
          "output_type": "stream",
          "name": "stdout",
          "text": [
            "Requirement already satisfied: beautifulsoup4 in /usr/local/lib/python3.10/dist-packages (4.12.3)\n",
            "Requirement already satisfied: soupsieve>1.2 in /usr/local/lib/python3.10/dist-packages (from beautifulsoup4) (2.5)\n"
          ]
        }
      ],
      "source": [
        "pip install beautifulsoup4 #download and install beautifulsoup4 library\n"
      ]
    },
    {
      "cell_type": "code",
      "execution_count": null,
      "metadata": {
        "id": "Q9l3gklVivhO"
      },
      "outputs": [],
      "source": [
        "from bs4 import BeautifulSoup #import BeautifulSoup library"
      ]
    },
    {
      "cell_type": "markdown",
      "metadata": {
        "id": "FfT0F8x0jlI9"
      },
      "source": [
        "## 13.)  Choose any url page. You can choose a page of yourself in a social media (e.g., facebook, Instagram, Linkdin, Twitter), or anything else"
      ]
    },
    {
      "cell_type": "markdown",
      "metadata": {
        "id": "ZVl4Ef-KjxOB"
      },
      "source": [
        "##14.) Perform data scrapping of this url. You can learn how to do it from the following links: https://www.edureka.co/blog/web-scraping-with-python/ https://zindi.africa/learn/a-beginners-guide-to-scraping-data-from-social-media or, ask CHATGPT to program it for you."
      ]
    },
    {
      "cell_type": "code",
      "execution_count": null,
      "metadata": {
        "id": "P_wMAGQAkIdl"
      },
      "outputs": [],
      "source": [
        "import requests"
      ]
    },
    {
      "cell_type": "code",
      "execution_count": null,
      "metadata": {
        "id": "QO4yuUNKlP0Z"
      },
      "outputs": [],
      "source": [
        "url = \"https://en.wikipedia.org/wiki/Neuro-linguistic_programming\" #chosen url\n",
        "\n",
        "response = requests.get(url) #sending a get request to the url"
      ]
    },
    {
      "cell_type": "code",
      "execution_count": null,
      "metadata": {
        "colab": {
          "base_uri": "https://localhost:8080/",
          "height": 206
        },
        "id": "avbwSigmlo74",
        "outputId": "71bd2266-cf03-4294-be54-c0b012f705b6"
      },
      "outputs": [
        {
          "output_type": "execute_result",
          "data": {
            "text/plain": [
              "                                                  v2\n",
              "0                                                 \\n\n",
              "1  Neuro-linguistic programming (NLP) is a pseudo...\n",
              "2  NLP has been adopted by some hypnotherapists a...\n",
              "3  There is no scientific evidence supporting the...\n",
              "4  According to Bandler and Grinder, NLP consists..."
            ],
            "text/html": [
              "\n",
              "  <div id=\"df-c04ced7c-4fec-438b-a0e7-e28cf617f00f\" class=\"colab-df-container\">\n",
              "    <div>\n",
              "<style scoped>\n",
              "    .dataframe tbody tr th:only-of-type {\n",
              "        vertical-align: middle;\n",
              "    }\n",
              "\n",
              "    .dataframe tbody tr th {\n",
              "        vertical-align: top;\n",
              "    }\n",
              "\n",
              "    .dataframe thead th {\n",
              "        text-align: right;\n",
              "    }\n",
              "</style>\n",
              "<table border=\"1\" class=\"dataframe\">\n",
              "  <thead>\n",
              "    <tr style=\"text-align: right;\">\n",
              "      <th></th>\n",
              "      <th>v2</th>\n",
              "    </tr>\n",
              "  </thead>\n",
              "  <tbody>\n",
              "    <tr>\n",
              "      <th>0</th>\n",
              "      <td>\\n</td>\n",
              "    </tr>\n",
              "    <tr>\n",
              "      <th>1</th>\n",
              "      <td>Neuro-linguistic programming (NLP) is a pseudo...</td>\n",
              "    </tr>\n",
              "    <tr>\n",
              "      <th>2</th>\n",
              "      <td>NLP has been adopted by some hypnotherapists a...</td>\n",
              "    </tr>\n",
              "    <tr>\n",
              "      <th>3</th>\n",
              "      <td>There is no scientific evidence supporting the...</td>\n",
              "    </tr>\n",
              "    <tr>\n",
              "      <th>4</th>\n",
              "      <td>According to Bandler and Grinder, NLP consists...</td>\n",
              "    </tr>\n",
              "  </tbody>\n",
              "</table>\n",
              "</div>\n",
              "    <div class=\"colab-df-buttons\">\n",
              "\n",
              "  <div class=\"colab-df-container\">\n",
              "    <button class=\"colab-df-convert\" onclick=\"convertToInteractive('df-c04ced7c-4fec-438b-a0e7-e28cf617f00f')\"\n",
              "            title=\"Convert this dataframe to an interactive table.\"\n",
              "            style=\"display:none;\">\n",
              "\n",
              "  <svg xmlns=\"http://www.w3.org/2000/svg\" height=\"24px\" viewBox=\"0 -960 960 960\">\n",
              "    <path d=\"M120-120v-720h720v720H120Zm60-500h600v-160H180v160Zm220 220h160v-160H400v160Zm0 220h160v-160H400v160ZM180-400h160v-160H180v160Zm440 0h160v-160H620v160ZM180-180h160v-160H180v160Zm440 0h160v-160H620v160Z\"/>\n",
              "  </svg>\n",
              "    </button>\n",
              "\n",
              "  <style>\n",
              "    .colab-df-container {\n",
              "      display:flex;\n",
              "      gap: 12px;\n",
              "    }\n",
              "\n",
              "    .colab-df-convert {\n",
              "      background-color: #E8F0FE;\n",
              "      border: none;\n",
              "      border-radius: 50%;\n",
              "      cursor: pointer;\n",
              "      display: none;\n",
              "      fill: #1967D2;\n",
              "      height: 32px;\n",
              "      padding: 0 0 0 0;\n",
              "      width: 32px;\n",
              "    }\n",
              "\n",
              "    .colab-df-convert:hover {\n",
              "      background-color: #E2EBFA;\n",
              "      box-shadow: 0px 1px 2px rgba(60, 64, 67, 0.3), 0px 1px 3px 1px rgba(60, 64, 67, 0.15);\n",
              "      fill: #174EA6;\n",
              "    }\n",
              "\n",
              "    .colab-df-buttons div {\n",
              "      margin-bottom: 4px;\n",
              "    }\n",
              "\n",
              "    [theme=dark] .colab-df-convert {\n",
              "      background-color: #3B4455;\n",
              "      fill: #D2E3FC;\n",
              "    }\n",
              "\n",
              "    [theme=dark] .colab-df-convert:hover {\n",
              "      background-color: #434B5C;\n",
              "      box-shadow: 0px 1px 3px 1px rgba(0, 0, 0, 0.15);\n",
              "      filter: drop-shadow(0px 1px 2px rgba(0, 0, 0, 0.3));\n",
              "      fill: #FFFFFF;\n",
              "    }\n",
              "  </style>\n",
              "\n",
              "    <script>\n",
              "      const buttonEl =\n",
              "        document.querySelector('#df-c04ced7c-4fec-438b-a0e7-e28cf617f00f button.colab-df-convert');\n",
              "      buttonEl.style.display =\n",
              "        google.colab.kernel.accessAllowed ? 'block' : 'none';\n",
              "\n",
              "      async function convertToInteractive(key) {\n",
              "        const element = document.querySelector('#df-c04ced7c-4fec-438b-a0e7-e28cf617f00f');\n",
              "        const dataTable =\n",
              "          await google.colab.kernel.invokeFunction('convertToInteractive',\n",
              "                                                    [key], {});\n",
              "        if (!dataTable) return;\n",
              "\n",
              "        const docLinkHtml = 'Like what you see? Visit the ' +\n",
              "          '<a target=\"_blank\" href=https://colab.research.google.com/notebooks/data_table.ipynb>data table notebook</a>'\n",
              "          + ' to learn more about interactive tables.';\n",
              "        element.innerHTML = '';\n",
              "        dataTable['output_type'] = 'display_data';\n",
              "        await google.colab.output.renderOutput(dataTable, element);\n",
              "        const docLink = document.createElement('div');\n",
              "        docLink.innerHTML = docLinkHtml;\n",
              "        element.appendChild(docLink);\n",
              "      }\n",
              "    </script>\n",
              "  </div>\n",
              "\n",
              "\n",
              "<div id=\"df-87695900-d723-42dc-b18a-b08dd99f89d9\">\n",
              "  <button class=\"colab-df-quickchart\" onclick=\"quickchart('df-87695900-d723-42dc-b18a-b08dd99f89d9')\"\n",
              "            title=\"Suggest charts\"\n",
              "            style=\"display:none;\">\n",
              "\n",
              "<svg xmlns=\"http://www.w3.org/2000/svg\" height=\"24px\"viewBox=\"0 0 24 24\"\n",
              "     width=\"24px\">\n",
              "    <g>\n",
              "        <path d=\"M19 3H5c-1.1 0-2 .9-2 2v14c0 1.1.9 2 2 2h14c1.1 0 2-.9 2-2V5c0-1.1-.9-2-2-2zM9 17H7v-7h2v7zm4 0h-2V7h2v10zm4 0h-2v-4h2v4z\"/>\n",
              "    </g>\n",
              "</svg>\n",
              "  </button>\n",
              "\n",
              "<style>\n",
              "  .colab-df-quickchart {\n",
              "      --bg-color: #E8F0FE;\n",
              "      --fill-color: #1967D2;\n",
              "      --hover-bg-color: #E2EBFA;\n",
              "      --hover-fill-color: #174EA6;\n",
              "      --disabled-fill-color: #AAA;\n",
              "      --disabled-bg-color: #DDD;\n",
              "  }\n",
              "\n",
              "  [theme=dark] .colab-df-quickchart {\n",
              "      --bg-color: #3B4455;\n",
              "      --fill-color: #D2E3FC;\n",
              "      --hover-bg-color: #434B5C;\n",
              "      --hover-fill-color: #FFFFFF;\n",
              "      --disabled-bg-color: #3B4455;\n",
              "      --disabled-fill-color: #666;\n",
              "  }\n",
              "\n",
              "  .colab-df-quickchart {\n",
              "    background-color: var(--bg-color);\n",
              "    border: none;\n",
              "    border-radius: 50%;\n",
              "    cursor: pointer;\n",
              "    display: none;\n",
              "    fill: var(--fill-color);\n",
              "    height: 32px;\n",
              "    padding: 0;\n",
              "    width: 32px;\n",
              "  }\n",
              "\n",
              "  .colab-df-quickchart:hover {\n",
              "    background-color: var(--hover-bg-color);\n",
              "    box-shadow: 0 1px 2px rgba(60, 64, 67, 0.3), 0 1px 3px 1px rgba(60, 64, 67, 0.15);\n",
              "    fill: var(--button-hover-fill-color);\n",
              "  }\n",
              "\n",
              "  .colab-df-quickchart-complete:disabled,\n",
              "  .colab-df-quickchart-complete:disabled:hover {\n",
              "    background-color: var(--disabled-bg-color);\n",
              "    fill: var(--disabled-fill-color);\n",
              "    box-shadow: none;\n",
              "  }\n",
              "\n",
              "  .colab-df-spinner {\n",
              "    border: 2px solid var(--fill-color);\n",
              "    border-color: transparent;\n",
              "    border-bottom-color: var(--fill-color);\n",
              "    animation:\n",
              "      spin 1s steps(1) infinite;\n",
              "  }\n",
              "\n",
              "  @keyframes spin {\n",
              "    0% {\n",
              "      border-color: transparent;\n",
              "      border-bottom-color: var(--fill-color);\n",
              "      border-left-color: var(--fill-color);\n",
              "    }\n",
              "    20% {\n",
              "      border-color: transparent;\n",
              "      border-left-color: var(--fill-color);\n",
              "      border-top-color: var(--fill-color);\n",
              "    }\n",
              "    30% {\n",
              "      border-color: transparent;\n",
              "      border-left-color: var(--fill-color);\n",
              "      border-top-color: var(--fill-color);\n",
              "      border-right-color: var(--fill-color);\n",
              "    }\n",
              "    40% {\n",
              "      border-color: transparent;\n",
              "      border-right-color: var(--fill-color);\n",
              "      border-top-color: var(--fill-color);\n",
              "    }\n",
              "    60% {\n",
              "      border-color: transparent;\n",
              "      border-right-color: var(--fill-color);\n",
              "    }\n",
              "    80% {\n",
              "      border-color: transparent;\n",
              "      border-right-color: var(--fill-color);\n",
              "      border-bottom-color: var(--fill-color);\n",
              "    }\n",
              "    90% {\n",
              "      border-color: transparent;\n",
              "      border-bottom-color: var(--fill-color);\n",
              "    }\n",
              "  }\n",
              "</style>\n",
              "\n",
              "  <script>\n",
              "    async function quickchart(key) {\n",
              "      const quickchartButtonEl =\n",
              "        document.querySelector('#' + key + ' button');\n",
              "      quickchartButtonEl.disabled = true;  // To prevent multiple clicks.\n",
              "      quickchartButtonEl.classList.add('colab-df-spinner');\n",
              "      try {\n",
              "        const charts = await google.colab.kernel.invokeFunction(\n",
              "            'suggestCharts', [key], {});\n",
              "      } catch (error) {\n",
              "        console.error('Error during call to suggestCharts:', error);\n",
              "      }\n",
              "      quickchartButtonEl.classList.remove('colab-df-spinner');\n",
              "      quickchartButtonEl.classList.add('colab-df-quickchart-complete');\n",
              "    }\n",
              "    (() => {\n",
              "      let quickchartButtonEl =\n",
              "        document.querySelector('#df-87695900-d723-42dc-b18a-b08dd99f89d9 button');\n",
              "      quickchartButtonEl.style.display =\n",
              "        google.colab.kernel.accessAllowed ? 'block' : 'none';\n",
              "    })();\n",
              "  </script>\n",
              "</div>\n",
              "\n",
              "    </div>\n",
              "  </div>\n"
            ],
            "application/vnd.google.colaboratory.intrinsic+json": {
              "type": "dataframe",
              "variable_name": "url_text_df",
              "summary": "{\n  \"name\": \"url_text_df\",\n  \"rows\": 48,\n  \"fields\": [\n    {\n      \"column\": \"v2\",\n      \"properties\": {\n        \"dtype\": \"string\",\n        \"num_unique_values\": 48,\n        \"samples\": [\n          \"According to Stollznow, \\\"Bandler and Grinder's infamous Frogs into Princes and their other books boast that NLP is a cure-all that treats a broad range of physical and mental conditions and learning difficulties, including epilepsy, myopia and dyslexia. With its promises to cure schizophrenia, depression and Post Traumatic Stress Disorder, and its dismissal of psychiatric illnesses as psychosomatic, NLP shares similarities with Scientology and the Citizens Commission on Human Rights (CCHR).\\\"[17] A systematic review of experimental studies by Sturt et al (2012) concluded that \\\"there is little evidence that NLP interventions improve health-related outcomes.\\\"[53] In his review of NLP, Stephen Briers writes, \\\"NLP is not really a cohesive therapy but a ragbag of different techniques without a particularly clear theoretical basis ... [and its] evidence base is virtually non-existent.\\\"[54] Eisner writes, \\\"NLP appears to be a superficial and gimmicky approach to dealing with mental health problems. Unfortunately, NLP appears to be the first in a long line of mass marketing seminars that purport to virtually cure any mental disorder ... it appears that NLP has no empirical or scientific support as to the underlying tenets of its theory or clinical effectiveness. What remains is a mass-marketed serving of psychopablum.\\\"[55]\\n\",\n          \"By the end of 2000, Bandler and Grinder entered a release where they agreed, amongst other things, that \\\"they are the co-creators and co-founders of the technology of Neuro-linguistic Programming\\\" and \\\"mutually agree to refrain from disparaging each other's efforts, in any fashion, concerning their respective involvement in the field of Neurolinguistic Programming.\\\"[115]\\n\",\n          \"The two main therapeutic uses of NLP are, firstly, as an adjunct by therapists[51] practicing in other therapeutic disciplines and, secondly, as a specific therapy called Neurolinguistic Psychotherapy.[52]\\n\"\n        ],\n        \"semantic_type\": \"\",\n        \"description\": \"\"\n      }\n    }\n  ]\n}"
            }
          },
          "metadata": {},
          "execution_count": 323
        }
      ],
      "source": [
        "#check if the url requelst was successful(status_code = 200), if so parse the url of the page\n",
        "if response.status_code == 200:\n",
        "  soup = BeautifulSoup(response.content, 'html.parser')\n",
        "\n",
        "# Extract text, for example, all paragraphs\n",
        "text_list = [p.text for p in soup.find_all('p')]\n",
        "\n",
        "#  Create a DataFrame\n",
        "url_text_df = pd.DataFrame(text_list, columns=['v2'])\n",
        "\n",
        "url_text_df.head()\n",
        "\n",
        "\n"
      ]
    },
    {
      "cell_type": "markdown",
      "metadata": {
        "id": "tLpE8FoQj23G"
      },
      "source": [
        "## 15.)  Perform steps 5-11 on the text achieved in (14).  "
      ]
    },
    {
      "cell_type": "code",
      "execution_count": null,
      "metadata": {
        "id": "9wGoLRVQiK4i"
      },
      "outputs": [],
      "source": [
        "#define function for nltk tokenize\n",
        "def nltk_tokenize(message):\n",
        "    tokens = nltk.word_tokenize(message)\n",
        "    return tokens\n",
        "\n",
        "#define function for nltk lematization\n",
        "def nltk_lematize(message):\n",
        "    tokens = word_tokenize(message)\n",
        "    lemmatized_tokens = [lemmatizer.lemmatize(token) for token in tokens]\n",
        "    return lemmatized_tokens\n",
        "\n",
        "#define function for nltk stemming\n",
        "def nltk_stemming(message):\n",
        "    tokens = word_tokenize(message)\n",
        "    stemmed_tokens = [ps.stem(token) for token in tokens]\n",
        "    return stemmed_tokens"
      ]
    },
    {
      "cell_type": "code",
      "execution_count": null,
      "metadata": {
        "id": "mKLNyfnlD36_"
      },
      "outputs": [],
      "source": [
        "#define function for spacy tokenize\n",
        "def spacy_tokenize(message):\n",
        "    doc = nlp(message)\n",
        "    tokens = [token.text for token in doc]\n",
        "    return tokens\n",
        "\n",
        "#define function for spacy lemmatization\n",
        "def spacy_lemmatize(message):\n",
        "    doc = nlp(message)\n",
        "    lemmatized_tokens = [token.lemma_ for token in doc]\n",
        "    return lemmatized_tokens\n",
        "\n",
        "def spacy_token_nltk_stemming(tokens):\n",
        "    stemmed_tokens = [ps.stem(token) for token in tokens]\n",
        "    return stemmed_tokens"
      ]
    },
    {
      "cell_type": "code",
      "execution_count": null,
      "metadata": {
        "id": "dUBuxHpEDfcm"
      },
      "outputs": [],
      "source": [
        "url_text_df['nltk_tokens'] = url_text_df['v2'].apply(nltk_tokenize)\n",
        "url_text_df['spacy_tokens'] = url_text_df['v2'].apply(spacy_tokenize)\n",
        "\n",
        "url_text_df['nltk_lemma'] = url_text_df['v2'].apply(nltk_lematize)\n",
        "url_text_df['spacy_lemma'] = url_text_df['v2'].apply(spacy_lemmatize)\n",
        "\n",
        "url_text_df['nltk_stem'] = url_text_df['v2'].apply(nltk_stemming)"
      ]
    },
    {
      "cell_type": "code",
      "execution_count": null,
      "metadata": {
        "id": "kpBPPr2HJ-NE"
      },
      "outputs": [],
      "source": [
        "url_text_df['spacy_token_nltk_stem'] = url_text_df['spacy_tokens'].apply(spacy_token_nltk_stemming)"
      ]
    },
    {
      "cell_type": "code",
      "execution_count": null,
      "metadata": {
        "colab": {
          "base_uri": "https://localhost:8080/",
          "height": 275
        },
        "id": "gGBvrZuDF443",
        "outputId": "39696db7-87d9-45cc-f5ac-b0b4056ad8b3"
      },
      "outputs": [
        {
          "output_type": "execute_result",
          "data": {
            "text/plain": [
              "                                                  v2  \\\n",
              "0                                                 \\n   \n",
              "1  Neuro-linguistic programming (NLP) is a pseudo...   \n",
              "2  NLP has been adopted by some hypnotherapists a...   \n",
              "3  There is no scientific evidence supporting the...   \n",
              "4  According to Bandler and Grinder, NLP consists...   \n",
              "\n",
              "                                         nltk_tokens  \\\n",
              "0                                                 []   \n",
              "1  [Neuro-linguistic, programming, (, NLP, ), is,...   \n",
              "2  [NLP, has, been, adopted, by, some, hypnothera...   \n",
              "3  [There, is, no, scientific, evidence, supporti...   \n",
              "4  [According, to, Bandler, and, Grinder, ,, NLP,...   \n",
              "\n",
              "                                        spacy_tokens  \\\n",
              "0                                               [\\n]   \n",
              "1  [Neuro, -, linguistic, programming, (, NLP, ),...   \n",
              "2  [NLP, has, been, adopted, by, some, hypnothera...   \n",
              "3  [There, is, no, scientific, evidence, supporti...   \n",
              "4  [According, to, Bandler, and, Grinder, ,, NLP,...   \n",
              "\n",
              "                                          nltk_lemma  \\\n",
              "0                                                 []   \n",
              "1  [Neuro-linguistic, programming, (, NLP, ), is,...   \n",
              "2  [NLP, ha, been, adopted, by, some, hypnotherap...   \n",
              "3  [There, is, no, scientific, evidence, supporti...   \n",
              "4  [According, to, Bandler, and, Grinder, ,, NLP,...   \n",
              "\n",
              "                                         spacy_lemma  \\\n",
              "0                                               [\\n]   \n",
              "1  [Neuro, -, linguistic, programming, (, NLP, ),...   \n",
              "2  [NLP, have, be, adopt, by, some, hypnotherapis...   \n",
              "3  [there, be, no, scientific, evidence, support,...   \n",
              "4  [accord, to, Bandler, and, Grinder, ,, NLP, co...   \n",
              "\n",
              "                                           nltk_stem  \\\n",
              "0                                                 []   \n",
              "1  [neuro-linguist, program, (, nlp, ), is, a, ps...   \n",
              "2  [nlp, ha, been, adopt, by, some, hypnotherapis...   \n",
              "3  [there, is, no, scientif, evid, support, the, ...   \n",
              "4  [accord, to, bandler, and, grinder, ,, nlp, co...   \n",
              "\n",
              "                               spacy_token_nltk_stem  \n",
              "0                                               [\\n]  \n",
              "1  [neuro, -, linguist, program, (, nlp, ), is, a...  \n",
              "2  [nlp, ha, been, adopt, by, some, hypnotherapis...  \n",
              "3  [there, is, no, scientif, evid, support, the, ...  \n",
              "4  [accord, to, bandler, and, grinder, ,, nlp, co...  "
            ],
            "text/html": [
              "\n",
              "  <div id=\"df-1cd0ec26-7cb7-48e3-a3e3-21e2c12dae21\" class=\"colab-df-container\">\n",
              "    <div>\n",
              "<style scoped>\n",
              "    .dataframe tbody tr th:only-of-type {\n",
              "        vertical-align: middle;\n",
              "    }\n",
              "\n",
              "    .dataframe tbody tr th {\n",
              "        vertical-align: top;\n",
              "    }\n",
              "\n",
              "    .dataframe thead th {\n",
              "        text-align: right;\n",
              "    }\n",
              "</style>\n",
              "<table border=\"1\" class=\"dataframe\">\n",
              "  <thead>\n",
              "    <tr style=\"text-align: right;\">\n",
              "      <th></th>\n",
              "      <th>v2</th>\n",
              "      <th>nltk_tokens</th>\n",
              "      <th>spacy_tokens</th>\n",
              "      <th>nltk_lemma</th>\n",
              "      <th>spacy_lemma</th>\n",
              "      <th>nltk_stem</th>\n",
              "      <th>spacy_token_nltk_stem</th>\n",
              "    </tr>\n",
              "  </thead>\n",
              "  <tbody>\n",
              "    <tr>\n",
              "      <th>0</th>\n",
              "      <td>\\n</td>\n",
              "      <td>[]</td>\n",
              "      <td>[\\n]</td>\n",
              "      <td>[]</td>\n",
              "      <td>[\\n]</td>\n",
              "      <td>[]</td>\n",
              "      <td>[\\n]</td>\n",
              "    </tr>\n",
              "    <tr>\n",
              "      <th>1</th>\n",
              "      <td>Neuro-linguistic programming (NLP) is a pseudo...</td>\n",
              "      <td>[Neuro-linguistic, programming, (, NLP, ), is,...</td>\n",
              "      <td>[Neuro, -, linguistic, programming, (, NLP, ),...</td>\n",
              "      <td>[Neuro-linguistic, programming, (, NLP, ), is,...</td>\n",
              "      <td>[Neuro, -, linguistic, programming, (, NLP, ),...</td>\n",
              "      <td>[neuro-linguist, program, (, nlp, ), is, a, ps...</td>\n",
              "      <td>[neuro, -, linguist, program, (, nlp, ), is, a...</td>\n",
              "    </tr>\n",
              "    <tr>\n",
              "      <th>2</th>\n",
              "      <td>NLP has been adopted by some hypnotherapists a...</td>\n",
              "      <td>[NLP, has, been, adopted, by, some, hypnothera...</td>\n",
              "      <td>[NLP, has, been, adopted, by, some, hypnothera...</td>\n",
              "      <td>[NLP, ha, been, adopted, by, some, hypnotherap...</td>\n",
              "      <td>[NLP, have, be, adopt, by, some, hypnotherapis...</td>\n",
              "      <td>[nlp, ha, been, adopt, by, some, hypnotherapis...</td>\n",
              "      <td>[nlp, ha, been, adopt, by, some, hypnotherapis...</td>\n",
              "    </tr>\n",
              "    <tr>\n",
              "      <th>3</th>\n",
              "      <td>There is no scientific evidence supporting the...</td>\n",
              "      <td>[There, is, no, scientific, evidence, supporti...</td>\n",
              "      <td>[There, is, no, scientific, evidence, supporti...</td>\n",
              "      <td>[There, is, no, scientific, evidence, supporti...</td>\n",
              "      <td>[there, be, no, scientific, evidence, support,...</td>\n",
              "      <td>[there, is, no, scientif, evid, support, the, ...</td>\n",
              "      <td>[there, is, no, scientif, evid, support, the, ...</td>\n",
              "    </tr>\n",
              "    <tr>\n",
              "      <th>4</th>\n",
              "      <td>According to Bandler and Grinder, NLP consists...</td>\n",
              "      <td>[According, to, Bandler, and, Grinder, ,, NLP,...</td>\n",
              "      <td>[According, to, Bandler, and, Grinder, ,, NLP,...</td>\n",
              "      <td>[According, to, Bandler, and, Grinder, ,, NLP,...</td>\n",
              "      <td>[accord, to, Bandler, and, Grinder, ,, NLP, co...</td>\n",
              "      <td>[accord, to, bandler, and, grinder, ,, nlp, co...</td>\n",
              "      <td>[accord, to, bandler, and, grinder, ,, nlp, co...</td>\n",
              "    </tr>\n",
              "  </tbody>\n",
              "</table>\n",
              "</div>\n",
              "    <div class=\"colab-df-buttons\">\n",
              "\n",
              "  <div class=\"colab-df-container\">\n",
              "    <button class=\"colab-df-convert\" onclick=\"convertToInteractive('df-1cd0ec26-7cb7-48e3-a3e3-21e2c12dae21')\"\n",
              "            title=\"Convert this dataframe to an interactive table.\"\n",
              "            style=\"display:none;\">\n",
              "\n",
              "  <svg xmlns=\"http://www.w3.org/2000/svg\" height=\"24px\" viewBox=\"0 -960 960 960\">\n",
              "    <path d=\"M120-120v-720h720v720H120Zm60-500h600v-160H180v160Zm220 220h160v-160H400v160Zm0 220h160v-160H400v160ZM180-400h160v-160H180v160Zm440 0h160v-160H620v160ZM180-180h160v-160H180v160Zm440 0h160v-160H620v160Z\"/>\n",
              "  </svg>\n",
              "    </button>\n",
              "\n",
              "  <style>\n",
              "    .colab-df-container {\n",
              "      display:flex;\n",
              "      gap: 12px;\n",
              "    }\n",
              "\n",
              "    .colab-df-convert {\n",
              "      background-color: #E8F0FE;\n",
              "      border: none;\n",
              "      border-radius: 50%;\n",
              "      cursor: pointer;\n",
              "      display: none;\n",
              "      fill: #1967D2;\n",
              "      height: 32px;\n",
              "      padding: 0 0 0 0;\n",
              "      width: 32px;\n",
              "    }\n",
              "\n",
              "    .colab-df-convert:hover {\n",
              "      background-color: #E2EBFA;\n",
              "      box-shadow: 0px 1px 2px rgba(60, 64, 67, 0.3), 0px 1px 3px 1px rgba(60, 64, 67, 0.15);\n",
              "      fill: #174EA6;\n",
              "    }\n",
              "\n",
              "    .colab-df-buttons div {\n",
              "      margin-bottom: 4px;\n",
              "    }\n",
              "\n",
              "    [theme=dark] .colab-df-convert {\n",
              "      background-color: #3B4455;\n",
              "      fill: #D2E3FC;\n",
              "    }\n",
              "\n",
              "    [theme=dark] .colab-df-convert:hover {\n",
              "      background-color: #434B5C;\n",
              "      box-shadow: 0px 1px 3px 1px rgba(0, 0, 0, 0.15);\n",
              "      filter: drop-shadow(0px 1px 2px rgba(0, 0, 0, 0.3));\n",
              "      fill: #FFFFFF;\n",
              "    }\n",
              "  </style>\n",
              "\n",
              "    <script>\n",
              "      const buttonEl =\n",
              "        document.querySelector('#df-1cd0ec26-7cb7-48e3-a3e3-21e2c12dae21 button.colab-df-convert');\n",
              "      buttonEl.style.display =\n",
              "        google.colab.kernel.accessAllowed ? 'block' : 'none';\n",
              "\n",
              "      async function convertToInteractive(key) {\n",
              "        const element = document.querySelector('#df-1cd0ec26-7cb7-48e3-a3e3-21e2c12dae21');\n",
              "        const dataTable =\n",
              "          await google.colab.kernel.invokeFunction('convertToInteractive',\n",
              "                                                    [key], {});\n",
              "        if (!dataTable) return;\n",
              "\n",
              "        const docLinkHtml = 'Like what you see? Visit the ' +\n",
              "          '<a target=\"_blank\" href=https://colab.research.google.com/notebooks/data_table.ipynb>data table notebook</a>'\n",
              "          + ' to learn more about interactive tables.';\n",
              "        element.innerHTML = '';\n",
              "        dataTable['output_type'] = 'display_data';\n",
              "        await google.colab.output.renderOutput(dataTable, element);\n",
              "        const docLink = document.createElement('div');\n",
              "        docLink.innerHTML = docLinkHtml;\n",
              "        element.appendChild(docLink);\n",
              "      }\n",
              "    </script>\n",
              "  </div>\n",
              "\n",
              "\n",
              "<div id=\"df-0408a8eb-30e9-490f-9546-5f33ff13c1e7\">\n",
              "  <button class=\"colab-df-quickchart\" onclick=\"quickchart('df-0408a8eb-30e9-490f-9546-5f33ff13c1e7')\"\n",
              "            title=\"Suggest charts\"\n",
              "            style=\"display:none;\">\n",
              "\n",
              "<svg xmlns=\"http://www.w3.org/2000/svg\" height=\"24px\"viewBox=\"0 0 24 24\"\n",
              "     width=\"24px\">\n",
              "    <g>\n",
              "        <path d=\"M19 3H5c-1.1 0-2 .9-2 2v14c0 1.1.9 2 2 2h14c1.1 0 2-.9 2-2V5c0-1.1-.9-2-2-2zM9 17H7v-7h2v7zm4 0h-2V7h2v10zm4 0h-2v-4h2v4z\"/>\n",
              "    </g>\n",
              "</svg>\n",
              "  </button>\n",
              "\n",
              "<style>\n",
              "  .colab-df-quickchart {\n",
              "      --bg-color: #E8F0FE;\n",
              "      --fill-color: #1967D2;\n",
              "      --hover-bg-color: #E2EBFA;\n",
              "      --hover-fill-color: #174EA6;\n",
              "      --disabled-fill-color: #AAA;\n",
              "      --disabled-bg-color: #DDD;\n",
              "  }\n",
              "\n",
              "  [theme=dark] .colab-df-quickchart {\n",
              "      --bg-color: #3B4455;\n",
              "      --fill-color: #D2E3FC;\n",
              "      --hover-bg-color: #434B5C;\n",
              "      --hover-fill-color: #FFFFFF;\n",
              "      --disabled-bg-color: #3B4455;\n",
              "      --disabled-fill-color: #666;\n",
              "  }\n",
              "\n",
              "  .colab-df-quickchart {\n",
              "    background-color: var(--bg-color);\n",
              "    border: none;\n",
              "    border-radius: 50%;\n",
              "    cursor: pointer;\n",
              "    display: none;\n",
              "    fill: var(--fill-color);\n",
              "    height: 32px;\n",
              "    padding: 0;\n",
              "    width: 32px;\n",
              "  }\n",
              "\n",
              "  .colab-df-quickchart:hover {\n",
              "    background-color: var(--hover-bg-color);\n",
              "    box-shadow: 0 1px 2px rgba(60, 64, 67, 0.3), 0 1px 3px 1px rgba(60, 64, 67, 0.15);\n",
              "    fill: var(--button-hover-fill-color);\n",
              "  }\n",
              "\n",
              "  .colab-df-quickchart-complete:disabled,\n",
              "  .colab-df-quickchart-complete:disabled:hover {\n",
              "    background-color: var(--disabled-bg-color);\n",
              "    fill: var(--disabled-fill-color);\n",
              "    box-shadow: none;\n",
              "  }\n",
              "\n",
              "  .colab-df-spinner {\n",
              "    border: 2px solid var(--fill-color);\n",
              "    border-color: transparent;\n",
              "    border-bottom-color: var(--fill-color);\n",
              "    animation:\n",
              "      spin 1s steps(1) infinite;\n",
              "  }\n",
              "\n",
              "  @keyframes spin {\n",
              "    0% {\n",
              "      border-color: transparent;\n",
              "      border-bottom-color: var(--fill-color);\n",
              "      border-left-color: var(--fill-color);\n",
              "    }\n",
              "    20% {\n",
              "      border-color: transparent;\n",
              "      border-left-color: var(--fill-color);\n",
              "      border-top-color: var(--fill-color);\n",
              "    }\n",
              "    30% {\n",
              "      border-color: transparent;\n",
              "      border-left-color: var(--fill-color);\n",
              "      border-top-color: var(--fill-color);\n",
              "      border-right-color: var(--fill-color);\n",
              "    }\n",
              "    40% {\n",
              "      border-color: transparent;\n",
              "      border-right-color: var(--fill-color);\n",
              "      border-top-color: var(--fill-color);\n",
              "    }\n",
              "    60% {\n",
              "      border-color: transparent;\n",
              "      border-right-color: var(--fill-color);\n",
              "    }\n",
              "    80% {\n",
              "      border-color: transparent;\n",
              "      border-right-color: var(--fill-color);\n",
              "      border-bottom-color: var(--fill-color);\n",
              "    }\n",
              "    90% {\n",
              "      border-color: transparent;\n",
              "      border-bottom-color: var(--fill-color);\n",
              "    }\n",
              "  }\n",
              "</style>\n",
              "\n",
              "  <script>\n",
              "    async function quickchart(key) {\n",
              "      const quickchartButtonEl =\n",
              "        document.querySelector('#' + key + ' button');\n",
              "      quickchartButtonEl.disabled = true;  // To prevent multiple clicks.\n",
              "      quickchartButtonEl.classList.add('colab-df-spinner');\n",
              "      try {\n",
              "        const charts = await google.colab.kernel.invokeFunction(\n",
              "            'suggestCharts', [key], {});\n",
              "      } catch (error) {\n",
              "        console.error('Error during call to suggestCharts:', error);\n",
              "      }\n",
              "      quickchartButtonEl.classList.remove('colab-df-spinner');\n",
              "      quickchartButtonEl.classList.add('colab-df-quickchart-complete');\n",
              "    }\n",
              "    (() => {\n",
              "      let quickchartButtonEl =\n",
              "        document.querySelector('#df-0408a8eb-30e9-490f-9546-5f33ff13c1e7 button');\n",
              "      quickchartButtonEl.style.display =\n",
              "        google.colab.kernel.accessAllowed ? 'block' : 'none';\n",
              "    })();\n",
              "  </script>\n",
              "</div>\n",
              "\n",
              "    </div>\n",
              "  </div>\n"
            ],
            "application/vnd.google.colaboratory.intrinsic+json": {
              "type": "dataframe",
              "variable_name": "url_text_df",
              "summary": "{\n  \"name\": \"url_text_df\",\n  \"rows\": 48,\n  \"fields\": [\n    {\n      \"column\": \"v2\",\n      \"properties\": {\n        \"dtype\": \"string\",\n        \"num_unique_values\": 48,\n        \"samples\": [\n          \"According to Stollznow, \\\"Bandler and Grinder's infamous Frogs into Princes and their other books boast that NLP is a cure-all that treats a broad range of physical and mental conditions and learning difficulties, including epilepsy, myopia and dyslexia. With its promises to cure schizophrenia, depression and Post Traumatic Stress Disorder, and its dismissal of psychiatric illnesses as psychosomatic, NLP shares similarities with Scientology and the Citizens Commission on Human Rights (CCHR).\\\"[17] A systematic review of experimental studies by Sturt et al (2012) concluded that \\\"there is little evidence that NLP interventions improve health-related outcomes.\\\"[53] In his review of NLP, Stephen Briers writes, \\\"NLP is not really a cohesive therapy but a ragbag of different techniques without a particularly clear theoretical basis ... [and its] evidence base is virtually non-existent.\\\"[54] Eisner writes, \\\"NLP appears to be a superficial and gimmicky approach to dealing with mental health problems. Unfortunately, NLP appears to be the first in a long line of mass marketing seminars that purport to virtually cure any mental disorder ... it appears that NLP has no empirical or scientific support as to the underlying tenets of its theory or clinical effectiveness. What remains is a mass-marketed serving of psychopablum.\\\"[55]\\n\",\n          \"By the end of 2000, Bandler and Grinder entered a release where they agreed, amongst other things, that \\\"they are the co-creators and co-founders of the technology of Neuro-linguistic Programming\\\" and \\\"mutually agree to refrain from disparaging each other's efforts, in any fashion, concerning their respective involvement in the field of Neurolinguistic Programming.\\\"[115]\\n\",\n          \"The two main therapeutic uses of NLP are, firstly, as an adjunct by therapists[51] practicing in other therapeutic disciplines and, secondly, as a specific therapy called Neurolinguistic Psychotherapy.[52]\\n\"\n        ],\n        \"semantic_type\": \"\",\n        \"description\": \"\"\n      }\n    },\n    {\n      \"column\": \"nltk_tokens\",\n      \"properties\": {\n        \"dtype\": \"object\",\n        \"semantic_type\": \"\",\n        \"description\": \"\"\n      }\n    },\n    {\n      \"column\": \"spacy_tokens\",\n      \"properties\": {\n        \"dtype\": \"object\",\n        \"semantic_type\": \"\",\n        \"description\": \"\"\n      }\n    },\n    {\n      \"column\": \"nltk_lemma\",\n      \"properties\": {\n        \"dtype\": \"object\",\n        \"semantic_type\": \"\",\n        \"description\": \"\"\n      }\n    },\n    {\n      \"column\": \"spacy_lemma\",\n      \"properties\": {\n        \"dtype\": \"object\",\n        \"semantic_type\": \"\",\n        \"description\": \"\"\n      }\n    },\n    {\n      \"column\": \"nltk_stem\",\n      \"properties\": {\n        \"dtype\": \"object\",\n        \"semantic_type\": \"\",\n        \"description\": \"\"\n      }\n    },\n    {\n      \"column\": \"spacy_token_nltk_stem\",\n      \"properties\": {\n        \"dtype\": \"object\",\n        \"semantic_type\": \"\",\n        \"description\": \"\"\n      }\n    }\n  ]\n}"
            }
          },
          "metadata": {},
          "execution_count": 328
        }
      ],
      "source": [
        "url_text_df.head()"
      ]
    },
    {
      "cell_type": "code",
      "execution_count": null,
      "metadata": {
        "colab": {
          "base_uri": "https://localhost:8080/"
        },
        "id": "I8LqSVuaF9Uf",
        "outputId": "f7105334-2ebf-4a08-ae11-24cc40cd8b29"
      },
      "outputs": [
        {
          "output_type": "stream",
          "name": "stdout",
          "text": [
            "nltk total tokens:  5189\n",
            "spacy total tokens:  4942\n"
          ]
        }
      ],
      "source": [
        "#amount nltk vs spacy tokens compatison\n",
        "print(\"nltk total tokens: \", len(url_text_df['nltk_tokens'].sum()))\n",
        "print(\"spacy total tokens: \", len(url_text_df['spacy_tokens'].sum()))"
      ]
    },
    {
      "cell_type": "code",
      "execution_count": null,
      "metadata": {
        "colab": {
          "base_uri": "https://localhost:8080/"
        },
        "id": "1yO9W8NPGbVV",
        "outputId": "5aa2444a-246a-4396-9bcc-e0c8914d21e9"
      },
      "outputs": [
        {
          "output_type": "stream",
          "name": "stdout",
          "text": [
            "original total sum of words:  27417\n",
            "nltk total lammas:  5189\n",
            "spacy total lammas:  4942\n"
          ]
        }
      ],
      "source": [
        "#amount of nltk vs spacy lemmatization comparison\n",
        "print(\"original total sum of words: \", len(url_text_df['v2'].sum()))\n",
        "print(\"nltk total lammas: \", len(url_text_df['nltk_lemma'].sum()))\n",
        "print(\"spacy total lammas: \", len(url_text_df['spacy_lemma'].sum()))"
      ]
    },
    {
      "cell_type": "code",
      "execution_count": null,
      "metadata": {
        "colab": {
          "base_uri": "https://localhost:8080/"
        },
        "id": "FVDarUK6HDEF",
        "outputId": "e4a8f4ac-d9d7-4a7b-d120-2177ddc1e478"
      },
      "outputs": [
        {
          "output_type": "stream",
          "name": "stdout",
          "text": [
            "Original Message: NLP has been adopted by some hypnotherapists as well as by companies that run seminars marketed as leadership training to businesses and government agencies.[9][10]\n",
            "\n",
            "NLTK Lemmatized Tokens: ['NLP', 'ha', 'been', 'adopted', 'by', 'some', 'hypnotherapists', 'a', 'well', 'a', 'by', 'company', 'that', 'run', 'seminar', 'marketed', 'a', 'leadership', 'training', 'to', 'business', 'and', 'government', 'agency', '.', '[', '9', ']', '[', '10', ']']\n",
            "apcy Lemmatized Tokens: ['NLP', 'have', 'be', 'adopt', 'by', 'some', 'hypnotherapist', 'as', 'well', 'as', 'by', 'company', 'that', 'run', 'seminar', 'market', 'as', 'leadership', 'training', 'to', 'business', 'and', 'government', 'agencies.[9][10', ']', '\\n']\n"
          ]
        }
      ],
      "source": [
        "#specific \"word\" comparison\n",
        "print(\"Original Message:\", url_text_df.loc[2, 'v2'])\n",
        "print(\"NLTK Lemmatized Tokens:\", url_text_df.loc[2, 'nltk_lemma'])\n",
        "print(\"apcy Lemmatized Tokens:\", url_text_df.loc[2, 'spacy_lemma'])"
      ]
    },
    {
      "cell_type": "markdown",
      "metadata": {
        "id": "yPm5GNEoIqKC"
      },
      "source": [
        "**Observation:**\n"
      ]
    },
    {
      "cell_type": "markdown",
      "metadata": {
        "id": "Lk91jmo2JL9g"
      },
      "source": [
        "\n",
        "\n",
        "\n",
        "*   the NLTK lemmas returns has->ha , been->been, as->a\n",
        "*   the spacy lemmas returns has->have , been->be, as->as\n",
        "\n"
      ]
    },
    {
      "cell_type": "code",
      "execution_count": null,
      "metadata": {
        "colab": {
          "base_uri": "https://localhost:8080/"
        },
        "id": "FgB4SyT9JGlA",
        "outputId": "a2dba681-a7cf-4e29-b09e-4258ab7cc8a3"
      },
      "outputs": [
        {
          "output_type": "stream",
          "name": "stdout",
          "text": [
            "Original Message: NLP has been adopted by some hypnotherapists as well as by companies that run seminars marketed as leadership training to businesses and government agencies.[9][10]\n",
            "\n",
            "nltk total stemms: ['nlp', 'ha', 'been', 'adopt', 'by', 'some', 'hypnotherapist', 'as', 'well', 'as', 'by', 'compani', 'that', 'run', 'seminar', 'market', 'as', 'leadership', 'train', 'to', 'busi', 'and', 'govern', 'agenc', '.', '[', '9', ']', '[', '10', ']']\n",
            "spacy total stemms: ['nlp', 'ha', 'been', 'adopt', 'by', 'some', 'hypnotherapist', 'as', 'well', 'as', 'by', 'compani', 'that', 'run', 'seminar', 'market', 'as', 'leadership', 'train', 'to', 'busi', 'and', 'govern', 'agencies.[9][10', ']', '\\n']\n"
          ]
        }
      ],
      "source": [
        "#stemming amount comparison\n",
        "print(\"Original Message:\", url_text_df.loc[2, 'v2'])\n",
        "print(\"nltk total stemms:\", url_text_df.loc[2, 'nltk_stem'])\n",
        "print(\"spacy total stemms:\", url_text_df.loc[2, 'spacy_token_nltk_stem'])\n"
      ]
    },
    {
      "cell_type": "code",
      "execution_count": null,
      "metadata": {
        "id": "SmhCHP1IR736"
      },
      "outputs": [],
      "source": [
        "def analize_list_and_print(pandasSerie):\n",
        "  lst = pandasSerie.tolist()\n",
        "  allMsg =' '.join([' '.join(sublist) for sublist in lst])\n",
        "  words = allMsg.split()\n",
        "  tatalWords = len(words)\n",
        "  avgWordPerMsg = tatalWords/len(lst) if lst else 0\n",
        "  wordFreq = Counter(words)\n",
        "  mostFreq = wordFreq.most_common(5)\n",
        "  rareWords = sum(1 for word,freq in wordFreq.items() if freq == 1)\n",
        "  print(\"Total word count:\", tatalWords)\n",
        "  print(\"Average word per message:\", avgWordPerMsg)\n",
        "  print(\"Most frequent words:\", mostFreq)\n",
        "  print(\"Number of rare words:\", rareWords)\n"
      ]
    },
    {
      "cell_type": "code",
      "execution_count": null,
      "metadata": {
        "colab": {
          "base_uri": "https://localhost:8080/"
        },
        "id": "W8NLfh_rVIqm",
        "outputId": "b6e12265-b578-41b5-cedf-385dccf747a4"
      },
      "outputs": [
        {
          "output_type": "stream",
          "name": "stdout",
          "text": [
            "URL NLTK stemming basic statistics:\n",
            "Total word count: 5189\n",
            "Average word per message: 108.10416666666667\n",
            "Most frequent words: [(',', 229), ('the', 200), ('and', 189), ('[', 186), (']', 186)]\n",
            "Number of rare words: 756\n"
          ]
        }
      ],
      "source": [
        "print(\"URL NLTK stemming basic statistics:\")\n",
        "analize_list_and_print(url_text_df['nltk_stem'])"
      ]
    },
    {
      "cell_type": "code",
      "execution_count": null,
      "metadata": {
        "colab": {
          "base_uri": "https://localhost:8080/"
        },
        "id": "PxTYg4AgVeDk",
        "outputId": "7045ecfe-5016-49b7-b3c9-27d1fcafe838"
      },
      "outputs": [
        {
          "output_type": "stream",
          "name": "stdout",
          "text": [
            "URL spacy stemming basic statistics:\n",
            "Total word count: 4831\n",
            "Average word per message: 100.64583333333333\n",
            "Most frequent words: [(',', 206), ('the', 201), ('and', 191), ('of', 155), (']', 136)]\n",
            "Number of rare words: 745\n"
          ]
        }
      ],
      "source": [
        "print(\"URL spacy stemming basic statistics:\")\n",
        "analize_list_and_print(url_text_df['spacy_token_nltk_stem'])"
      ]
    },
    {
      "cell_type": "markdown",
      "metadata": {
        "id": "8v71Z_0cSIXO"
      },
      "source": [
        "**NLTK steme vs spacy steme observation**"
      ]
    },
    {
      "cell_type": "markdown",
      "metadata": {
        "id": "Bzu_XT4_SQ5N"
      },
      "source": [
        "\n",
        "both methds returns similiar result, some diffrences might be observe:\n",
        "*   NLTK: agencies.[9][10] --> 'agenc' , '.' , '[' , '9' , ']'\n",
        "*   List item : agencies --> 'agencies.[9][10' , ']'\n",
        "Statistic calculation shows that: NLTK returns more stemes than spacy, the most 4th most frequent word is change ([ --> of) and the number of rare words is grater in NLTK than in spacy\n",
        "\n"
      ]
    },
    {
      "cell_type": "markdown",
      "metadata": {
        "id": "zZVvaoObWPVY"
      },
      "source": [
        "****"
      ]
    },
    {
      "cell_type": "markdown",
      "metadata": {
        "id": "B0NkdjVlYb0M"
      },
      "source": [
        "## 16.)  Download one of your whatsapp chats into *.txt file (at least 50 messages in Hebrew).  "
      ]
    },
    {
      "cell_type": "code",
      "execution_count": null,
      "metadata": {
        "id": "-e9d3QsYK_bu"
      },
      "outputs": [],
      "source": [
        "nlp = spacy.load(\"en_core_web_sm\")"
      ]
    },
    {
      "cell_type": "code",
      "execution_count": null,
      "metadata": {
        "colab": {
          "base_uri": "https://localhost:8080/"
        },
        "id": "-7RuO2YyV12o",
        "outputId": "b460bb97-2a81-4bed-c971-31cd2414c2f3"
      },
      "outputs": [
        {
          "output_type": "stream",
          "name": "stdout",
          "text": [
            "['הטקסט', 'הבא', 'מייצג', 'שיחת', 'ווצאפ', ',', 'שיחת', 'ווצאפ', 'יכולה', 'להיות', 'מורכב', 'ממשפט', 'אחד', 'או', 'יותר']\n"
          ]
        }
      ],
      "source": [
        "from spacy.lang.he import Hebrew\n",
        "\n",
        "\n",
        "\n",
        "# Example Hebrew text\n",
        "hebrew_text = \"הטקסט הבא מייצג שיחת ווצאפ, שיחת ווצאפ יכולה להיות מורכב ממשפט אחד או יותר\"\n",
        "\n",
        "# Processing the text\n",
        "doc = nlp(hebrew_text)\n",
        "\n",
        "# Tokenizing the text\n",
        "tokens = [token.text for token in doc]\n",
        "\n",
        "print(tokens)"
      ]
    },
    {
      "cell_type": "code",
      "execution_count": null,
      "metadata": {
        "id": "o2nem5Ql8wdz"
      },
      "outputs": [],
      "source": [
        "def spacy_hebrew_tokenize_message(message):\n",
        "    # Process the text with spaCy. This runs the entire NLP pipeline.\n",
        "    doc = nlp(message)\n",
        "    # Extract tokens from the doc\n",
        "    tokens = [token.text for token in doc]\n",
        "    return tokens\n",
        "\n",
        "def spacy_hebrew_lemmatize_message(message):\n",
        "    doc = nlp(message)\n",
        "    lemmatized_tokens = [token.lemma_ for token in doc]\n",
        "    return lemmatized_tokens"
      ]
    },
    {
      "cell_type": "code",
      "execution_count": null,
      "metadata": {
        "colab": {
          "base_uri": "https://localhost:8080/"
        },
        "id": "KjHP59TgZCbs",
        "outputId": "58a087fc-7e68-43ac-a184-c868144dcdf9"
      },
      "outputs": [
        {
          "output_type": "stream",
          "name": "stdout",
          "text": [
            "                                                     v2\n",
            "0                                                      \n",
            "1     https://cointelegraph.com/news/student-interes...\n",
            "2     [3.5.2023, 16:57:18] ‪+972 58‑765‑1024‬: ‫‏‪+9...\n",
            "3     [3.5.2023, 21:18:34] ~ איתמר יוסף חי: אין במקר...\n",
            "4     [3.5.2023, 23:43:13] ‪+972 50‑405‑0563‬: ‫‏‪+9...\n",
            "...                                                 ...\n",
            "1643                                                   \n",
            "1644        אנחנו מרוויחים רק אם הלקוחות שלנו מרוויחים,\n",
            "1645              אז יש לנו פה אינטרס משותף לצמוח ביחד.\n",
            "1646  מי שמעוניין לקחת חלק בפרוייקט שישלח לי הודעה ב...\n",
            "1647  [26.2.2024, 17:53:21] ~ Alex Sayenko: ‏‏קוד הא...\n",
            "\n",
            "[1648 rows x 1 columns]\n"
          ]
        }
      ],
      "source": [
        "# Step 1: Read the text file\n",
        "with open('_chat.txt', 'r', encoding='utf-8') as file:\n",
        "    lines = file.readlines()\n",
        "\n",
        "# Step 2: Process the text (optional, depending on your needs)\n",
        "# In this case, stripping newline characters from each line\n",
        "lines = [line.strip() for line in lines]\n",
        "\n",
        "# Step 3: Create the DataFrame\n",
        "wha_chat_df = pd.DataFrame(lines, columns=['v2'])\n",
        "\n",
        "print(wha_chat_df)"
      ]
    },
    {
      "cell_type": "code",
      "execution_count": null,
      "metadata": {
        "id": "tE3yq6osauHy"
      },
      "outputs": [],
      "source": [
        "#add to df text tokanizatino with nltk and spacy\n",
        "wha_chat_df['nltk_tokens'] = wha_chat_df['v2'].apply(nltk_tokenize)\n",
        "wha_chat_df['spacy_tokens'] = wha_chat_df['v2'].apply(spacy_hebrew_tokenize_message)\n",
        "\n",
        "#add to df text lemmatization with nltk and spacy\n",
        "wha_chat_df['nltk_lemma'] = wha_chat_df['v2'].apply(nltk_lematize)\n",
        "wha_chat_df['spacy_lemma'] = wha_chat_df['v2'].apply(spacy_hebrew_lemmatize_message)\n",
        "\n",
        "#add to df text stemming with nltk and spacy\n",
        "wha_chat_df['nltk_stem'] = wha_chat_df['v2'].apply(nltk_stemming)\n",
        "wha_chat_df['spacy_token_nltk_stem'] = wha_chat_df['v2'].apply(spacy_token_nltk_stemming)\n"
      ]
    },
    {
      "cell_type": "code",
      "execution_count": null,
      "metadata": {
        "colab": {
          "base_uri": "https://localhost:8080/",
          "height": 313
        },
        "id": "QN8ofaq7bROO",
        "outputId": "1060bce1-18a2-4367-8008-6d740933974f"
      },
      "outputs": [
        {
          "output_type": "execute_result",
          "data": {
            "text/plain": [
              "                                                  v2  \\\n",
              "0                                                      \n",
              "1  https://cointelegraph.com/news/student-interes...   \n",
              "2  [3.5.2023, 16:57:18] ‪+972 58‑765‑1024‬: ‫‏‪+9...   \n",
              "3  [3.5.2023, 21:18:34] ~ איתמר יוסף חי: אין במקר...   \n",
              "4  [3.5.2023, 23:43:13] ‪+972 50‑405‑0563‬: ‫‏‪+9...   \n",
              "\n",
              "                                         nltk_tokens  \\\n",
              "0                                                 []   \n",
              "1  [https, :, //cointelegraph.com/news/student-in...   \n",
              "2  [[, 3.5.2023, ,, 16:57:18, ], ‪+972, 58‑765‑10...   \n",
              "3  [[, 3.5.2023, ,, 21:18:34, ], ~, איתמר, יוסף, ...   \n",
              "4  [[, 3.5.2023, ,, 23:43:13, ], ‪+972, 50‑405‑05...   \n",
              "\n",
              "                                        spacy_tokens  \\\n",
              "0                                                 []   \n",
              "1  [https://cointelegraph.com/news/student-intere...   \n",
              "2  [[, 3.5.2023, ,, 16:57:18, ], ‪+972,  , 58‑765...   \n",
              "3  [[, 3.5.2023, ,, 21:18:34, ], ~,  , איתמר, יוס...   \n",
              "4  [[, 3.5.2023, ,, 23:43:13, ], ‪+972,  , 50‑405...   \n",
              "\n",
              "                                          nltk_lemma  \\\n",
              "0                                                 []   \n",
              "1  [http, :, //cointelegraph.com/news/student-int...   \n",
              "2  [[, 3.5.2023, ,, 16:57:18, ], ‪+972, 58‑765‑10...   \n",
              "3  [[, 3.5.2023, ,, 21:18:34, ], ~, איתמר, יוסף, ...   \n",
              "4  [[, 3.5.2023, ,, 23:43:13, ], ‪+972, 50‑405‑05...   \n",
              "\n",
              "                                         spacy_lemma  \\\n",
              "0                                                 []   \n",
              "1  [https://cointelegraph.com/news/student-intere...   \n",
              "2  [[, 3.5.2023, ,, 16:57:18, ], ‪+972,  , 58‑765...   \n",
              "3  [[, 3.5.2023, ,, 21:18:34, ], ~,  , איתמר, יוס...   \n",
              "4  [[, 3.5.2023, ,, 23:43:13, ], ‪+972,  , 50‑405...   \n",
              "\n",
              "                                           nltk_stem  \\\n",
              "0                                                 []   \n",
              "1  [http, :, //cointelegraph.com/news/student-int...   \n",
              "2  [[, 3.5.2023, ,, 16:57:18, ], ‪+972, 58‑765‑10...   \n",
              "3  [[, 3.5.2023, ,, 21:18:34, ], ~, איתמר, יוסף, ...   \n",
              "4  [[, 3.5.2023, ,, 23:43:13, ], ‪+972, 50‑405‑05...   \n",
              "\n",
              "                               spacy_token_nltk_stem  \n",
              "0                                                 []  \n",
              "1  [h, t, t, p, s, :, /, /, c, o, i, n, t, e, l, ...  \n",
              "2  [[, 3, ., 5, ., 2, 0, 2, 3, ,,  , 1, 6, :, 5, ...  \n",
              "3  [[, 3, ., 5, ., 2, 0, 2, 3, ,,  , 2, 1, :, 1, ...  \n",
              "4  [[, 3, ., 5, ., 2, 0, 2, 3, ,,  , 2, 3, :, 4, ...  "
            ],
            "text/html": [
              "\n",
              "  <div id=\"df-22affb3a-d0f6-4a82-a387-59388e803a8f\" class=\"colab-df-container\">\n",
              "    <div>\n",
              "<style scoped>\n",
              "    .dataframe tbody tr th:only-of-type {\n",
              "        vertical-align: middle;\n",
              "    }\n",
              "\n",
              "    .dataframe tbody tr th {\n",
              "        vertical-align: top;\n",
              "    }\n",
              "\n",
              "    .dataframe thead th {\n",
              "        text-align: right;\n",
              "    }\n",
              "</style>\n",
              "<table border=\"1\" class=\"dataframe\">\n",
              "  <thead>\n",
              "    <tr style=\"text-align: right;\">\n",
              "      <th></th>\n",
              "      <th>v2</th>\n",
              "      <th>nltk_tokens</th>\n",
              "      <th>spacy_tokens</th>\n",
              "      <th>nltk_lemma</th>\n",
              "      <th>spacy_lemma</th>\n",
              "      <th>nltk_stem</th>\n",
              "      <th>spacy_token_nltk_stem</th>\n",
              "    </tr>\n",
              "  </thead>\n",
              "  <tbody>\n",
              "    <tr>\n",
              "      <th>0</th>\n",
              "      <td></td>\n",
              "      <td>[]</td>\n",
              "      <td>[]</td>\n",
              "      <td>[]</td>\n",
              "      <td>[]</td>\n",
              "      <td>[]</td>\n",
              "      <td>[]</td>\n",
              "    </tr>\n",
              "    <tr>\n",
              "      <th>1</th>\n",
              "      <td>https://cointelegraph.com/news/student-interes...</td>\n",
              "      <td>[https, :, //cointelegraph.com/news/student-in...</td>\n",
              "      <td>[https://cointelegraph.com/news/student-intere...</td>\n",
              "      <td>[http, :, //cointelegraph.com/news/student-int...</td>\n",
              "      <td>[https://cointelegraph.com/news/student-intere...</td>\n",
              "      <td>[http, :, //cointelegraph.com/news/student-int...</td>\n",
              "      <td>[h, t, t, p, s, :, /, /, c, o, i, n, t, e, l, ...</td>\n",
              "    </tr>\n",
              "    <tr>\n",
              "      <th>2</th>\n",
              "      <td>[3.5.2023, 16:57:18] ‪+972 58‑765‑1024‬: ‫‏‪+9...</td>\n",
              "      <td>[[, 3.5.2023, ,, 16:57:18, ], ‪+972, 58‑765‑10...</td>\n",
              "      <td>[[, 3.5.2023, ,, 16:57:18, ], ‪+972,  , 58‑765...</td>\n",
              "      <td>[[, 3.5.2023, ,, 16:57:18, ], ‪+972, 58‑765‑10...</td>\n",
              "      <td>[[, 3.5.2023, ,, 16:57:18, ], ‪+972,  , 58‑765...</td>\n",
              "      <td>[[, 3.5.2023, ,, 16:57:18, ], ‪+972, 58‑765‑10...</td>\n",
              "      <td>[[, 3, ., 5, ., 2, 0, 2, 3, ,,  , 1, 6, :, 5, ...</td>\n",
              "    </tr>\n",
              "    <tr>\n",
              "      <th>3</th>\n",
              "      <td>[3.5.2023, 21:18:34] ~ איתמר יוסף חי: אין במקר...</td>\n",
              "      <td>[[, 3.5.2023, ,, 21:18:34, ], ~, איתמר, יוסף, ...</td>\n",
              "      <td>[[, 3.5.2023, ,, 21:18:34, ], ~,  , איתמר, יוס...</td>\n",
              "      <td>[[, 3.5.2023, ,, 21:18:34, ], ~, איתמר, יוסף, ...</td>\n",
              "      <td>[[, 3.5.2023, ,, 21:18:34, ], ~,  , איתמר, יוס...</td>\n",
              "      <td>[[, 3.5.2023, ,, 21:18:34, ], ~, איתמר, יוסף, ...</td>\n",
              "      <td>[[, 3, ., 5, ., 2, 0, 2, 3, ,,  , 2, 1, :, 1, ...</td>\n",
              "    </tr>\n",
              "    <tr>\n",
              "      <th>4</th>\n",
              "      <td>[3.5.2023, 23:43:13] ‪+972 50‑405‑0563‬: ‫‏‪+9...</td>\n",
              "      <td>[[, 3.5.2023, ,, 23:43:13, ], ‪+972, 50‑405‑05...</td>\n",
              "      <td>[[, 3.5.2023, ,, 23:43:13, ], ‪+972,  , 50‑405...</td>\n",
              "      <td>[[, 3.5.2023, ,, 23:43:13, ], ‪+972, 50‑405‑05...</td>\n",
              "      <td>[[, 3.5.2023, ,, 23:43:13, ], ‪+972,  , 50‑405...</td>\n",
              "      <td>[[, 3.5.2023, ,, 23:43:13, ], ‪+972, 50‑405‑05...</td>\n",
              "      <td>[[, 3, ., 5, ., 2, 0, 2, 3, ,,  , 2, 3, :, 4, ...</td>\n",
              "    </tr>\n",
              "  </tbody>\n",
              "</table>\n",
              "</div>\n",
              "    <div class=\"colab-df-buttons\">\n",
              "\n",
              "  <div class=\"colab-df-container\">\n",
              "    <button class=\"colab-df-convert\" onclick=\"convertToInteractive('df-22affb3a-d0f6-4a82-a387-59388e803a8f')\"\n",
              "            title=\"Convert this dataframe to an interactive table.\"\n",
              "            style=\"display:none;\">\n",
              "\n",
              "  <svg xmlns=\"http://www.w3.org/2000/svg\" height=\"24px\" viewBox=\"0 -960 960 960\">\n",
              "    <path d=\"M120-120v-720h720v720H120Zm60-500h600v-160H180v160Zm220 220h160v-160H400v160Zm0 220h160v-160H400v160ZM180-400h160v-160H180v160Zm440 0h160v-160H620v160ZM180-180h160v-160H180v160Zm440 0h160v-160H620v160Z\"/>\n",
              "  </svg>\n",
              "    </button>\n",
              "\n",
              "  <style>\n",
              "    .colab-df-container {\n",
              "      display:flex;\n",
              "      gap: 12px;\n",
              "    }\n",
              "\n",
              "    .colab-df-convert {\n",
              "      background-color: #E8F0FE;\n",
              "      border: none;\n",
              "      border-radius: 50%;\n",
              "      cursor: pointer;\n",
              "      display: none;\n",
              "      fill: #1967D2;\n",
              "      height: 32px;\n",
              "      padding: 0 0 0 0;\n",
              "      width: 32px;\n",
              "    }\n",
              "\n",
              "    .colab-df-convert:hover {\n",
              "      background-color: #E2EBFA;\n",
              "      box-shadow: 0px 1px 2px rgba(60, 64, 67, 0.3), 0px 1px 3px 1px rgba(60, 64, 67, 0.15);\n",
              "      fill: #174EA6;\n",
              "    }\n",
              "\n",
              "    .colab-df-buttons div {\n",
              "      margin-bottom: 4px;\n",
              "    }\n",
              "\n",
              "    [theme=dark] .colab-df-convert {\n",
              "      background-color: #3B4455;\n",
              "      fill: #D2E3FC;\n",
              "    }\n",
              "\n",
              "    [theme=dark] .colab-df-convert:hover {\n",
              "      background-color: #434B5C;\n",
              "      box-shadow: 0px 1px 3px 1px rgba(0, 0, 0, 0.15);\n",
              "      filter: drop-shadow(0px 1px 2px rgba(0, 0, 0, 0.3));\n",
              "      fill: #FFFFFF;\n",
              "    }\n",
              "  </style>\n",
              "\n",
              "    <script>\n",
              "      const buttonEl =\n",
              "        document.querySelector('#df-22affb3a-d0f6-4a82-a387-59388e803a8f button.colab-df-convert');\n",
              "      buttonEl.style.display =\n",
              "        google.colab.kernel.accessAllowed ? 'block' : 'none';\n",
              "\n",
              "      async function convertToInteractive(key) {\n",
              "        const element = document.querySelector('#df-22affb3a-d0f6-4a82-a387-59388e803a8f');\n",
              "        const dataTable =\n",
              "          await google.colab.kernel.invokeFunction('convertToInteractive',\n",
              "                                                    [key], {});\n",
              "        if (!dataTable) return;\n",
              "\n",
              "        const docLinkHtml = 'Like what you see? Visit the ' +\n",
              "          '<a target=\"_blank\" href=https://colab.research.google.com/notebooks/data_table.ipynb>data table notebook</a>'\n",
              "          + ' to learn more about interactive tables.';\n",
              "        element.innerHTML = '';\n",
              "        dataTable['output_type'] = 'display_data';\n",
              "        await google.colab.output.renderOutput(dataTable, element);\n",
              "        const docLink = document.createElement('div');\n",
              "        docLink.innerHTML = docLinkHtml;\n",
              "        element.appendChild(docLink);\n",
              "      }\n",
              "    </script>\n",
              "  </div>\n",
              "\n",
              "\n",
              "<div id=\"df-a93bd72c-7b3e-42ec-a8cb-d3123ff1ebe6\">\n",
              "  <button class=\"colab-df-quickchart\" onclick=\"quickchart('df-a93bd72c-7b3e-42ec-a8cb-d3123ff1ebe6')\"\n",
              "            title=\"Suggest charts\"\n",
              "            style=\"display:none;\">\n",
              "\n",
              "<svg xmlns=\"http://www.w3.org/2000/svg\" height=\"24px\"viewBox=\"0 0 24 24\"\n",
              "     width=\"24px\">\n",
              "    <g>\n",
              "        <path d=\"M19 3H5c-1.1 0-2 .9-2 2v14c0 1.1.9 2 2 2h14c1.1 0 2-.9 2-2V5c0-1.1-.9-2-2-2zM9 17H7v-7h2v7zm4 0h-2V7h2v10zm4 0h-2v-4h2v4z\"/>\n",
              "    </g>\n",
              "</svg>\n",
              "  </button>\n",
              "\n",
              "<style>\n",
              "  .colab-df-quickchart {\n",
              "      --bg-color: #E8F0FE;\n",
              "      --fill-color: #1967D2;\n",
              "      --hover-bg-color: #E2EBFA;\n",
              "      --hover-fill-color: #174EA6;\n",
              "      --disabled-fill-color: #AAA;\n",
              "      --disabled-bg-color: #DDD;\n",
              "  }\n",
              "\n",
              "  [theme=dark] .colab-df-quickchart {\n",
              "      --bg-color: #3B4455;\n",
              "      --fill-color: #D2E3FC;\n",
              "      --hover-bg-color: #434B5C;\n",
              "      --hover-fill-color: #FFFFFF;\n",
              "      --disabled-bg-color: #3B4455;\n",
              "      --disabled-fill-color: #666;\n",
              "  }\n",
              "\n",
              "  .colab-df-quickchart {\n",
              "    background-color: var(--bg-color);\n",
              "    border: none;\n",
              "    border-radius: 50%;\n",
              "    cursor: pointer;\n",
              "    display: none;\n",
              "    fill: var(--fill-color);\n",
              "    height: 32px;\n",
              "    padding: 0;\n",
              "    width: 32px;\n",
              "  }\n",
              "\n",
              "  .colab-df-quickchart:hover {\n",
              "    background-color: var(--hover-bg-color);\n",
              "    box-shadow: 0 1px 2px rgba(60, 64, 67, 0.3), 0 1px 3px 1px rgba(60, 64, 67, 0.15);\n",
              "    fill: var(--button-hover-fill-color);\n",
              "  }\n",
              "\n",
              "  .colab-df-quickchart-complete:disabled,\n",
              "  .colab-df-quickchart-complete:disabled:hover {\n",
              "    background-color: var(--disabled-bg-color);\n",
              "    fill: var(--disabled-fill-color);\n",
              "    box-shadow: none;\n",
              "  }\n",
              "\n",
              "  .colab-df-spinner {\n",
              "    border: 2px solid var(--fill-color);\n",
              "    border-color: transparent;\n",
              "    border-bottom-color: var(--fill-color);\n",
              "    animation:\n",
              "      spin 1s steps(1) infinite;\n",
              "  }\n",
              "\n",
              "  @keyframes spin {\n",
              "    0% {\n",
              "      border-color: transparent;\n",
              "      border-bottom-color: var(--fill-color);\n",
              "      border-left-color: var(--fill-color);\n",
              "    }\n",
              "    20% {\n",
              "      border-color: transparent;\n",
              "      border-left-color: var(--fill-color);\n",
              "      border-top-color: var(--fill-color);\n",
              "    }\n",
              "    30% {\n",
              "      border-color: transparent;\n",
              "      border-left-color: var(--fill-color);\n",
              "      border-top-color: var(--fill-color);\n",
              "      border-right-color: var(--fill-color);\n",
              "    }\n",
              "    40% {\n",
              "      border-color: transparent;\n",
              "      border-right-color: var(--fill-color);\n",
              "      border-top-color: var(--fill-color);\n",
              "    }\n",
              "    60% {\n",
              "      border-color: transparent;\n",
              "      border-right-color: var(--fill-color);\n",
              "    }\n",
              "    80% {\n",
              "      border-color: transparent;\n",
              "      border-right-color: var(--fill-color);\n",
              "      border-bottom-color: var(--fill-color);\n",
              "    }\n",
              "    90% {\n",
              "      border-color: transparent;\n",
              "      border-bottom-color: var(--fill-color);\n",
              "    }\n",
              "  }\n",
              "</style>\n",
              "\n",
              "  <script>\n",
              "    async function quickchart(key) {\n",
              "      const quickchartButtonEl =\n",
              "        document.querySelector('#' + key + ' button');\n",
              "      quickchartButtonEl.disabled = true;  // To prevent multiple clicks.\n",
              "      quickchartButtonEl.classList.add('colab-df-spinner');\n",
              "      try {\n",
              "        const charts = await google.colab.kernel.invokeFunction(\n",
              "            'suggestCharts', [key], {});\n",
              "      } catch (error) {\n",
              "        console.error('Error during call to suggestCharts:', error);\n",
              "      }\n",
              "      quickchartButtonEl.classList.remove('colab-df-spinner');\n",
              "      quickchartButtonEl.classList.add('colab-df-quickchart-complete');\n",
              "    }\n",
              "    (() => {\n",
              "      let quickchartButtonEl =\n",
              "        document.querySelector('#df-a93bd72c-7b3e-42ec-a8cb-d3123ff1ebe6 button');\n",
              "      quickchartButtonEl.style.display =\n",
              "        google.colab.kernel.accessAllowed ? 'block' : 'none';\n",
              "    })();\n",
              "  </script>\n",
              "</div>\n",
              "\n",
              "    </div>\n",
              "  </div>\n"
            ],
            "application/vnd.google.colaboratory.intrinsic+json": {
              "type": "dataframe",
              "variable_name": "wha_chat_df",
              "summary": "{\n  \"name\": \"wha_chat_df\",\n  \"rows\": 1648,\n  \"fields\": [\n    {\n      \"column\": \"v2\",\n      \"properties\": {\n        \"dtype\": \"string\",\n        \"num_unique_values\": 1428,\n        \"samples\": [\n          \"[6.5.2023, 14:06:33] ~\\u202fTaltuly: Tome\",\n          \"[14.10.2023, 19:11:39] ~\\u202fDoron Arasi\\ud83e\\udd73: \\u05e0\\u05e9\\u05d0\\u05e8\\u05d5 3 \\u05e9\\u05e2\\u05d5\\u05ea \\u05dc\\u05d4\\u05e6\\u05d1\\u05e2\\u05d4.\\u05ea\\u05e4\\u05d9\\u05e6\\u05d5\",\n          \"[4.6.2023, 11:41:16] ~\\u202fKarin Guterman: https://www.youtube.com/watch?v=LWiM-LuRe6w \\u05d2\\u05dd, \\u05dc\\u05d0 \\u05d9\\u05d5\\u05d3\\u05e2\\u05ea \\u05d0\\u05dd \\u05e9\\u05d9\\u05ea\\u05e4\\u05d5, \\u05d0\\u05d1\\u05dc \\u05e9\\u05d5\\u05d5\\u05d4 \\u05dc\\u05e9\\u05de\\u05d5\\u05e2\"\n        ],\n        \"semantic_type\": \"\",\n        \"description\": \"\"\n      }\n    },\n    {\n      \"column\": \"nltk_tokens\",\n      \"properties\": {\n        \"dtype\": \"object\",\n        \"semantic_type\": \"\",\n        \"description\": \"\"\n      }\n    },\n    {\n      \"column\": \"spacy_tokens\",\n      \"properties\": {\n        \"dtype\": \"object\",\n        \"semantic_type\": \"\",\n        \"description\": \"\"\n      }\n    },\n    {\n      \"column\": \"nltk_lemma\",\n      \"properties\": {\n        \"dtype\": \"object\",\n        \"semantic_type\": \"\",\n        \"description\": \"\"\n      }\n    },\n    {\n      \"column\": \"spacy_lemma\",\n      \"properties\": {\n        \"dtype\": \"object\",\n        \"semantic_type\": \"\",\n        \"description\": \"\"\n      }\n    },\n    {\n      \"column\": \"nltk_stem\",\n      \"properties\": {\n        \"dtype\": \"object\",\n        \"semantic_type\": \"\",\n        \"description\": \"\"\n      }\n    },\n    {\n      \"column\": \"spacy_token_nltk_stem\",\n      \"properties\": {\n        \"dtype\": \"object\",\n        \"semantic_type\": \"\",\n        \"description\": \"\"\n      }\n    }\n  ]\n}"
            }
          },
          "metadata": {},
          "execution_count": 341
        }
      ],
      "source": [
        "wha_chat_df.head()"
      ]
    },
    {
      "cell_type": "markdown",
      "metadata": {
        "id": "8UTh7Fzh6th5"
      },
      "source": [
        "**Tokanizaiont comparison**"
      ]
    },
    {
      "cell_type": "code",
      "execution_count": null,
      "metadata": {
        "colab": {
          "base_uri": "https://localhost:8080/"
        },
        "id": "0JsAwt5ObTyF",
        "outputId": "355693df-6b3d-4d55-ca5f-96550ff6bdd5"
      },
      "outputs": [
        {
          "output_type": "stream",
          "name": "stdout",
          "text": [
            "Original Message: \n",
            "nltk rokens: []\n",
            "spacy tokens: []\n"
          ]
        }
      ],
      "source": [
        "#tokens visual comparison by tokens print\n",
        "print(\"Original Message:\", wha_chat_df.loc[170, 'v2'])\n",
        "print(\"nltk rokens:\", wha_chat_df.loc[170, 'nltk_stem'])\n",
        "print(\"spacy tokens:\", wha_chat_df.loc[170, 'spacy_token_nltk_stem'])"
      ]
    },
    {
      "cell_type": "code",
      "execution_count": null,
      "metadata": {
        "colab": {
          "base_uri": "https://localhost:8080/"
        },
        "id": "p20bFJ4YckIL",
        "outputId": "ca6701e7-1b14-4984-9ac0-dfdd7a7f0069"
      },
      "outputs": [
        {
          "output_type": "stream",
          "name": "stdout",
          "text": [
            "Original massages statistics:\n",
            " \n",
            "Total word count: 112220\n",
            "Average word per message: 68.09466019417475\n",
            "Most frequent words: [('ו', 5788), ('י', 5394), ('ה', 5240), ('2', 3894), ('ל', 3583)]\n",
            "Number of rare words: 61\n",
            "None\n",
            "\n",
            "\n",
            "nltk tokens statistics: \n",
            "\n",
            "Total word count: 25385\n",
            "Average word per message: 15.403519417475728\n",
            "Most frequent words: [(',', 1461), (':', 1249), ('[', 978), (']', 978), ('~', 892)]\n",
            "Number of rare words: 5231\n",
            "None\n",
            "\n",
            "\n",
            "spacy tokens statistics: \n",
            "\n",
            "Total word count: 24774\n",
            "Average word per message: 15.032766990291263\n",
            "Most frequent words: [(',', 1461), (':', 1040), (']', 978), ('~', 892), ('[', 862)]\n",
            "Number of rare words: 5164\n",
            "None\n"
          ]
        }
      ],
      "source": [
        "print(\"Original massages statistics:\\n \" )\n",
        "print(analize_list_and_print(wha_chat_df['v2']))\n",
        "print(\"\\n\")\n",
        "\n",
        "print(\"nltk tokens statistics: \\n\")\n",
        "print( analize_list_and_print(wha_chat_df['nltk_tokens']))\n",
        "print(\"\\n\")\n",
        "\n",
        "print(\"spacy tokens statistics: \\n\")\n",
        "print(analize_list_and_print(wha_chat_df['spacy_tokens']))"
      ]
    },
    {
      "cell_type": "markdown",
      "metadata": {
        "id": "7Jled59K60B1"
      },
      "source": [
        "**Lematization comparison**"
      ]
    },
    {
      "cell_type": "code",
      "execution_count": null,
      "metadata": {
        "colab": {
          "base_uri": "https://localhost:8080/"
        },
        "id": "ueAn-V8gdSYr",
        "outputId": "c1fc55cd-061c-46e3-9dce-9151dfdcd312"
      },
      "outputs": [
        {
          "output_type": "stream",
          "name": "stdout",
          "text": [
            "Original Message: [3.5.2023, 16:57:18] ‪+972 58‑765‑1024‬: ‫‏‪+972 58‑765‑1024‬ הצטרף/ה לקבוצה באמצעות קישור ההזמנה‬\n",
            "nltk Lammas: ['[', '3.5.2023', ',', '16:57:18', ']', '\\u202a+972', '58‑765‑1024\\u202c', ':', '\\u202b\\u200f\\u202a+972', '58‑765‑1024\\u202c', 'הצטרף/ה', 'לקבוצה', 'באמצעות', 'קישור', 'ההזמנה\\u202c']\n",
            "spacy Lemmas: ['[', '3.5.2023', ',', '16:57:18', ']', '\\u202a+972', '\\xa0', '58‑765‑1024\\u202c', ':', '\\u202b\\u200f\\u202a+972', '\\xa0', '58‑765‑1024\\u202c', 'הצטרף', '/', 'ה', 'לקבוצה', 'באמצעות', 'קישור', 'ההזמנה\\u202c']\n"
          ]
        }
      ],
      "source": [
        "#Lemas visual comparison by text print\n",
        "print(\"Original Message:\", wha_chat_df.loc[2, 'v2'])\n",
        "print(\"nltk Lammas:\", wha_chat_df.loc[2, 'nltk_lemma'])\n",
        "print(\"spacy Lemmas:\", wha_chat_df.loc[2, 'spacy_lemma'])"
      ]
    },
    {
      "cell_type": "markdown",
      "metadata": {
        "id": "VD-lsnufF3_i"
      },
      "source": [
        "It's seems as the hebrew lemmatizer doesn't get the words at all"
      ]
    },
    {
      "cell_type": "code",
      "execution_count": null,
      "metadata": {
        "colab": {
          "base_uri": "https://localhost:8080/"
        },
        "id": "8oDj_UCE72tN",
        "outputId": "54abbcc6-85e9-4108-83c1-b5f8b70abaf0"
      },
      "outputs": [
        {
          "output_type": "stream",
          "name": "stdout",
          "text": [
            "הטקסט --> הטקסט\n",
            "הבא --> הבא\n",
            "מייצג --> מייצג\n",
            "שיחת --> שיחת\n",
            "ווצאפ --> ווצאפ\n",
            ", --> ,\n",
            "שיחת --> שיחת\n",
            "ווצאפ --> ווצאפ\n",
            "יכולה --> יכולה\n",
            "להיות --> להיות\n",
            "מורכב --> מורכב\n",
            "ממשפט --> ממשפט\n",
            "אחד --> אחד\n",
            "או --> או\n",
            "יותר --> יותר\n",
            "['הטקסט', 'הבא', 'מייצג', 'שיחת', 'ווצאפ', ',', 'שיחת', 'ווצאפ', 'יכולה', 'להיות', 'מורכב', 'ממשפט', 'אחד', 'או', 'יותר']\n"
          ]
        }
      ],
      "source": [
        "doc = nlp(\"הטקסט הבא מייצג שיחת ווצאפ, שיחת ווצאפ יכולה להיות מורכב ממשפט אחד או יותר\")\n",
        "for token in doc:\n",
        "  print(token.text,\"-->\", token.lemma_)\n",
        "lemmatized_tokens = [token.lemma_ for token in doc]\n",
        "print(lemmatized_tokens)"
      ]
    },
    {
      "cell_type": "markdown",
      "metadata": {
        "id": "tv4U_LxBHm7o"
      },
      "source": [
        "**Stemming Comparison**"
      ]
    },
    {
      "cell_type": "code",
      "execution_count": null,
      "metadata": {
        "colab": {
          "base_uri": "https://localhost:8080/"
        },
        "id": "sf85pNfNHevG",
        "outputId": "d889d715-e4a0-4053-c5d1-8a1237611650"
      },
      "outputs": [
        {
          "output_type": "stream",
          "name": "stdout",
          "text": [
            "Original Message: [4.5.2023, 8:18:38] ~ Alex: כשאתה בוחר בגירסה 4 זה גם לא בלי הגבלה אם אני לא טועה\n",
            "nltk stemme: ['[', '4.5.2023', ',', '8:18:38', ']', '~', 'alex', ':', 'כשאתה', 'בוחר', 'בגירסה', '4', 'זה', 'גם', 'לא', 'בלי', 'הגבלה', 'אם', 'אני', 'לא', 'טועה']\n",
            "spacy Lemmas: ['[', '4', '.', '5', '.', '2', '0', '2', '3', ',', ' ', '8', ':', '1', '8', ':', '3', '8', ']', ' ', '~', '\\u202f', 'a', 'l', 'e', 'x', ':', ' ', 'כ', 'ש', 'א', 'ת', 'ה', ' ', 'ב', 'ו', 'ח', 'ר', ' ', 'ב', 'ג', 'י', 'ר', 'ס', 'ה', ' ', '4', ' ', 'ז', 'ה', ' ', 'ג', 'ם', ' ', 'ל', 'א', ' ', 'ב', 'ל', 'י', ' ', 'ה', 'ג', 'ב', 'ל', 'ה', ' ', 'א', 'ם', ' ', 'א', 'נ', 'י', ' ', 'ל', 'א', ' ', 'ט', 'ו', 'ע', 'ה']\n"
          ]
        }
      ],
      "source": [
        "#visual text inspection\n",
        "print(\"Original Message:\", wha_chat_df.loc[20, 'v2'])\n",
        "print(\"nltk stemme:\", wha_chat_df.loc[20, 'nltk_stem'])\n",
        "print(\"spacy Lemmas:\", wha_chat_df.loc[20, 'spacy_token_nltk_stem'])"
      ]
    },
    {
      "cell_type": "markdown",
      "metadata": {
        "id": "kAM8i_nPH4HL"
      },
      "source": [
        "Discution"
      ]
    },
    {
      "cell_type": "markdown",
      "source": [
        "comparing the results from the statistics calculations for spacy and nltk.\n",
        "As we see spacy returns less wods lemmas stemms and tokens then nltk\n",
        " And there is a difference between type and number of Frequent and rare words.\n",
        "\n",
        "Compare the results of NLTK before and after tokenization, lemmatization and stemming.\n",
        "The number of words didn't change, but the number and type of most frequent and rare ones did.\n",
        "\n",
        "The number of nltk and spaCy words didn't change, but the number and type of most frequent and rare ones did."
      ],
      "metadata": {
        "id": "otpe7PF1BOEp"
      }
    },
    {
      "cell_type": "code",
      "source": [],
      "metadata": {
        "id": "auzAy--FEsZg"
      },
      "execution_count": null,
      "outputs": []
    }
  ],
  "metadata": {
    "accelerator": "GPU",
    "colab": {
      "gpuType": "T4",
      "provenance": [],
      "authorship_tag": "ABX9TyPrpfmR/oyqJ2s38L8VlJxv",
      "include_colab_link": true
    },
    "kernelspec": {
      "display_name": "Python 3",
      "name": "python3"
    },
    "language_info": {
      "name": "python"
    }
  },
  "nbformat": 4,
  "nbformat_minor": 0
}